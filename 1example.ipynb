{
 "nbformat": 4,
 "nbformat_minor": 2,
 "metadata": {
  "language_info": {
   "name": "python",
   "codemirror_mode": {
    "name": "ipython",
    "version": 3
   },
   "version": "3.6.9-final"
  },
  "orig_nbformat": 2,
  "file_extension": ".py",
  "mimetype": "text/x-python",
  "name": "python",
  "npconvert_exporter": "python",
  "pygments_lexer": "ipython3",
  "version": 3,
  "kernelspec": {
   "name": "python36964bitenvvenv81aefc999cfb4ab5984f7e1afcec60e1",
   "display_name": "Python 3.6.9 64-bit ('env': venv)"
  }
 },
 "cells": [
  {
   "cell_type": "code",
   "execution_count": 2,
   "metadata": {},
   "outputs": [],
   "source": [
    "import numpy as np\n",
    "import pandas as pd\n",
    "import matplotlib.pyplot as plt\n",
    "import statsmodels.api as sm\n",
    "from scipy.stats import pearsonr, spearmanr\n",
    "%matplotlib inline\n",
    "df = pd.read_csv('alpha24_step15Stud.csv')\n",
    "df['temp'] = df['temp'].apply(lambda x: x.replace(',','.')).astype('float64')\n",
    "df['Ts'] = df['Ts'].apply(lambda x: x.replace(',','.')).astype('float64')"
   ]
  },
  {
   "cell_type": "code",
   "execution_count": 3,
   "metadata": {},
   "outputs": [
    {
     "output_type": "execute_result",
     "data": {
      "text/plain": "   czas(min)  alpha  temp    Ts\n0          0      1  6.50  2.00\n1         15      0  6.35  2.18\n2         30      0  6.20  2.19\n3         45      1  6.05  1.68\n4         60      1  5.90  1.50",
      "text/html": "<div>\n<style scoped>\n    .dataframe tbody tr th:only-of-type {\n        vertical-align: middle;\n    }\n\n    .dataframe tbody tr th {\n        vertical-align: top;\n    }\n\n    .dataframe thead th {\n        text-align: right;\n    }\n</style>\n<table border=\"1\" class=\"dataframe\">\n  <thead>\n    <tr style=\"text-align: right;\">\n      <th></th>\n      <th>czas(min)</th>\n      <th>alpha</th>\n      <th>temp</th>\n      <th>Ts</th>\n    </tr>\n  </thead>\n  <tbody>\n    <tr>\n      <th>0</th>\n      <td>0</td>\n      <td>1</td>\n      <td>6.50</td>\n      <td>2.00</td>\n    </tr>\n    <tr>\n      <th>1</th>\n      <td>15</td>\n      <td>0</td>\n      <td>6.35</td>\n      <td>2.18</td>\n    </tr>\n    <tr>\n      <th>2</th>\n      <td>30</td>\n      <td>0</td>\n      <td>6.20</td>\n      <td>2.19</td>\n    </tr>\n    <tr>\n      <th>3</th>\n      <td>45</td>\n      <td>1</td>\n      <td>6.05</td>\n      <td>1.68</td>\n    </tr>\n    <tr>\n      <th>4</th>\n      <td>60</td>\n      <td>1</td>\n      <td>5.90</td>\n      <td>1.50</td>\n    </tr>\n  </tbody>\n</table>\n</div>"
     },
     "metadata": {},
     "execution_count": 3
    }
   ],
   "source": [
    "df.head()"
   ]
  },
  {
   "cell_type": "code",
   "execution_count": 4,
   "metadata": {},
   "outputs": [],
   "source": [
    "del df['czas(min)']\n",
    "df['Ts+1'] = df['Ts'].shift(-1)"
   ]
  },
  {
   "cell_type": "code",
   "execution_count": 5,
   "metadata": {},
   "outputs": [
    {
     "output_type": "execute_result",
     "data": {
      "text/plain": "   alpha  temp    Ts  Ts+1\n0      1  6.50  2.00  2.18\n1      0  6.35  2.18  2.19\n2      0  6.20  2.19  1.68\n3      1  6.05  1.68  1.50\n4      1  5.90  1.50  1.64",
      "text/html": "<div>\n<style scoped>\n    .dataframe tbody tr th:only-of-type {\n        vertical-align: middle;\n    }\n\n    .dataframe tbody tr th {\n        vertical-align: top;\n    }\n\n    .dataframe thead th {\n        text-align: right;\n    }\n</style>\n<table border=\"1\" class=\"dataframe\">\n  <thead>\n    <tr style=\"text-align: right;\">\n      <th></th>\n      <th>alpha</th>\n      <th>temp</th>\n      <th>Ts</th>\n      <th>Ts+1</th>\n    </tr>\n  </thead>\n  <tbody>\n    <tr>\n      <th>0</th>\n      <td>1</td>\n      <td>6.50</td>\n      <td>2.00</td>\n      <td>2.18</td>\n    </tr>\n    <tr>\n      <th>1</th>\n      <td>0</td>\n      <td>6.35</td>\n      <td>2.18</td>\n      <td>2.19</td>\n    </tr>\n    <tr>\n      <th>2</th>\n      <td>0</td>\n      <td>6.20</td>\n      <td>2.19</td>\n      <td>1.68</td>\n    </tr>\n    <tr>\n      <th>3</th>\n      <td>1</td>\n      <td>6.05</td>\n      <td>1.68</td>\n      <td>1.50</td>\n    </tr>\n    <tr>\n      <th>4</th>\n      <td>1</td>\n      <td>5.90</td>\n      <td>1.50</td>\n      <td>1.64</td>\n    </tr>\n  </tbody>\n</table>\n</div>"
     },
     "metadata": {},
     "execution_count": 5
    }
   ],
   "source": [
    "df.head()"
   ]
  },
  {
   "cell_type": "code",
   "execution_count": 6,
   "metadata": {},
   "outputs": [
    {
     "output_type": "execute_result",
     "data": {
      "text/plain": "count    2976.000000\nmean       -0.840649\nstd         1.336870\nmin        -3.150000\n25%        -1.940000\n50%        -1.055000\n75%         0.160000\nmax         3.910000\nName: Ts, dtype: float64"
     },
     "metadata": {},
     "execution_count": 6
    }
   ],
   "source": [
    "df['Ts'].describe()"
   ]
  },
  {
   "cell_type": "code",
   "execution_count": 7,
   "metadata": {},
   "outputs": [
    {
     "output_type": "execute_result",
     "data": {
      "text/plain": "count    2976.000000\nmean        6.155931\nstd         3.733827\nmin        -2.000000\n25%         3.600000\n50%         5.430000\n75%         8.270000\nmax        20.300000\nName: temp, dtype: float64"
     },
     "metadata": {},
     "execution_count": 7
    }
   ],
   "source": [
    "df['temp'].describe()"
   ]
  },
  {
   "cell_type": "code",
   "execution_count": 8,
   "metadata": {},
   "outputs": [],
   "source": [
    "df['tscopy'] = df['Ts']"
   ]
  },
  {
   "cell_type": "code",
   "execution_count": 9,
   "metadata": {},
   "outputs": [
    {
     "output_type": "execute_result",
     "data": {
      "text/plain": "   alpha  temp    Ts  Ts+1  tscopy\n0      1  6.50  2.00  2.18    2.00\n1      0  6.35  2.18  2.19    2.18\n2      0  6.20  2.19  1.68    2.19\n3      1  6.05  1.68  1.50    1.68\n4      1  5.90  1.50  1.64    1.50",
      "text/html": "<div>\n<style scoped>\n    .dataframe tbody tr th:only-of-type {\n        vertical-align: middle;\n    }\n\n    .dataframe tbody tr th {\n        vertical-align: top;\n    }\n\n    .dataframe thead th {\n        text-align: right;\n    }\n</style>\n<table border=\"1\" class=\"dataframe\">\n  <thead>\n    <tr style=\"text-align: right;\">\n      <th></th>\n      <th>alpha</th>\n      <th>temp</th>\n      <th>Ts</th>\n      <th>Ts+1</th>\n      <th>tscopy</th>\n    </tr>\n  </thead>\n  <tbody>\n    <tr>\n      <th>0</th>\n      <td>1</td>\n      <td>6.50</td>\n      <td>2.00</td>\n      <td>2.18</td>\n      <td>2.00</td>\n    </tr>\n    <tr>\n      <th>1</th>\n      <td>0</td>\n      <td>6.35</td>\n      <td>2.18</td>\n      <td>2.19</td>\n      <td>2.18</td>\n    </tr>\n    <tr>\n      <th>2</th>\n      <td>0</td>\n      <td>6.20</td>\n      <td>2.19</td>\n      <td>1.68</td>\n      <td>2.19</td>\n    </tr>\n    <tr>\n      <th>3</th>\n      <td>1</td>\n      <td>6.05</td>\n      <td>1.68</td>\n      <td>1.50</td>\n      <td>1.68</td>\n    </tr>\n    <tr>\n      <th>4</th>\n      <td>1</td>\n      <td>5.90</td>\n      <td>1.50</td>\n      <td>1.64</td>\n      <td>1.50</td>\n    </tr>\n  </tbody>\n</table>\n</div>"
     },
     "metadata": {},
     "execution_count": 9
    }
   ],
   "source": [
    "df.head()"
   ]
  },
  {
   "cell_type": "code",
   "execution_count": 19,
   "metadata": {},
   "outputs": [],
   "source": []
  },
  {
   "cell_type": "code",
   "execution_count": 10,
   "metadata": {},
   "outputs": [
    {
     "output_type": "execute_result",
     "data": {
      "text/plain": "   alpha  temp    Ts  Ts+1  tscopy\n0      1  6.50  2.00  2.18    2.00\n1      0  6.35  2.18  2.19    2.18\n2      0  6.20  2.19  1.68    2.19\n3      1  6.05  1.68  1.50    1.68\n4      1  5.90  1.50  1.64    1.50",
      "text/html": "<div>\n<style scoped>\n    .dataframe tbody tr th:only-of-type {\n        vertical-align: middle;\n    }\n\n    .dataframe tbody tr th {\n        vertical-align: top;\n    }\n\n    .dataframe thead th {\n        text-align: right;\n    }\n</style>\n<table border=\"1\" class=\"dataframe\">\n  <thead>\n    <tr style=\"text-align: right;\">\n      <th></th>\n      <th>alpha</th>\n      <th>temp</th>\n      <th>Ts</th>\n      <th>Ts+1</th>\n      <th>tscopy</th>\n    </tr>\n  </thead>\n  <tbody>\n    <tr>\n      <th>0</th>\n      <td>1</td>\n      <td>6.50</td>\n      <td>2.00</td>\n      <td>2.18</td>\n      <td>2.00</td>\n    </tr>\n    <tr>\n      <th>1</th>\n      <td>0</td>\n      <td>6.35</td>\n      <td>2.18</td>\n      <td>2.19</td>\n      <td>2.18</td>\n    </tr>\n    <tr>\n      <th>2</th>\n      <td>0</td>\n      <td>6.20</td>\n      <td>2.19</td>\n      <td>1.68</td>\n      <td>2.19</td>\n    </tr>\n    <tr>\n      <th>3</th>\n      <td>1</td>\n      <td>6.05</td>\n      <td>1.68</td>\n      <td>1.50</td>\n      <td>1.68</td>\n    </tr>\n    <tr>\n      <th>4</th>\n      <td>1</td>\n      <td>5.90</td>\n      <td>1.50</td>\n      <td>1.64</td>\n      <td>1.50</td>\n    </tr>\n  </tbody>\n</table>\n</div>"
     },
     "metadata": {},
     "execution_count": 10
    }
   ],
   "source": [
    "df.head()"
   ]
  },
  {
   "cell_type": "code",
   "execution_count": 11,
   "metadata": {},
   "outputs": [
    {
     "output_type": "execute_result",
     "data": {
      "text/plain": "      alpha   temp    Ts  Ts+1  tscopy\n2971      0  11.75  2.90  2.96    2.90\n2972      0  11.50  2.96  2.78    2.96\n2973      1  11.27  2.78  2.72    2.78\n2974      1  11.04  2.72  2.56    2.72\n2975      1  10.81  2.56   NaN    2.56",
      "text/html": "<div>\n<style scoped>\n    .dataframe tbody tr th:only-of-type {\n        vertical-align: middle;\n    }\n\n    .dataframe tbody tr th {\n        vertical-align: top;\n    }\n\n    .dataframe thead th {\n        text-align: right;\n    }\n</style>\n<table border=\"1\" class=\"dataframe\">\n  <thead>\n    <tr style=\"text-align: right;\">\n      <th></th>\n      <th>alpha</th>\n      <th>temp</th>\n      <th>Ts</th>\n      <th>Ts+1</th>\n      <th>tscopy</th>\n    </tr>\n  </thead>\n  <tbody>\n    <tr>\n      <th>2971</th>\n      <td>0</td>\n      <td>11.75</td>\n      <td>2.90</td>\n      <td>2.96</td>\n      <td>2.90</td>\n    </tr>\n    <tr>\n      <th>2972</th>\n      <td>0</td>\n      <td>11.50</td>\n      <td>2.96</td>\n      <td>2.78</td>\n      <td>2.96</td>\n    </tr>\n    <tr>\n      <th>2973</th>\n      <td>1</td>\n      <td>11.27</td>\n      <td>2.78</td>\n      <td>2.72</td>\n      <td>2.78</td>\n    </tr>\n    <tr>\n      <th>2974</th>\n      <td>1</td>\n      <td>11.04</td>\n      <td>2.72</td>\n      <td>2.56</td>\n      <td>2.72</td>\n    </tr>\n    <tr>\n      <th>2975</th>\n      <td>1</td>\n      <td>10.81</td>\n      <td>2.56</td>\n      <td>NaN</td>\n      <td>2.56</td>\n    </tr>\n  </tbody>\n</table>\n</div>"
     },
     "metadata": {},
     "execution_count": 11
    }
   ],
   "source": [
    "df.tail()"
   ]
  },
  {
   "cell_type": "code",
   "execution_count": 12,
   "metadata": {},
   "outputs": [
    {
     "output_type": "execute_result",
     "data": {
      "text/plain": "      alpha   temp    Ts  Ts+1  tscopy\n2968      1  12.50  2.78  2.95    2.78\n2969      0  12.25  2.95  2.83    2.95\n2970      1  12.00  2.83  2.90    2.83\n2971      0  11.75  2.90  2.96    2.90\n2972      0  11.50  2.96  2.78    2.96",
      "text/html": "<div>\n<style scoped>\n    .dataframe tbody tr th:only-of-type {\n        vertical-align: middle;\n    }\n\n    .dataframe tbody tr th {\n        vertical-align: top;\n    }\n\n    .dataframe thead th {\n        text-align: right;\n    }\n</style>\n<table border=\"1\" class=\"dataframe\">\n  <thead>\n    <tr style=\"text-align: right;\">\n      <th></th>\n      <th>alpha</th>\n      <th>temp</th>\n      <th>Ts</th>\n      <th>Ts+1</th>\n      <th>tscopy</th>\n    </tr>\n  </thead>\n  <tbody>\n    <tr>\n      <th>2968</th>\n      <td>1</td>\n      <td>12.50</td>\n      <td>2.78</td>\n      <td>2.95</td>\n      <td>2.78</td>\n    </tr>\n    <tr>\n      <th>2969</th>\n      <td>0</td>\n      <td>12.25</td>\n      <td>2.95</td>\n      <td>2.83</td>\n      <td>2.95</td>\n    </tr>\n    <tr>\n      <th>2970</th>\n      <td>1</td>\n      <td>12.00</td>\n      <td>2.83</td>\n      <td>2.90</td>\n      <td>2.83</td>\n    </tr>\n    <tr>\n      <th>2971</th>\n      <td>0</td>\n      <td>11.75</td>\n      <td>2.90</td>\n      <td>2.96</td>\n      <td>2.90</td>\n    </tr>\n    <tr>\n      <th>2972</th>\n      <td>0</td>\n      <td>11.50</td>\n      <td>2.96</td>\n      <td>2.78</td>\n      <td>2.96</td>\n    </tr>\n  </tbody>\n</table>\n</div>"
     },
     "metadata": {},
     "execution_count": 12
    }
   ],
   "source": [
    "df[:-3].tail()"
   ]
  },
  {
   "cell_type": "markdown",
   "metadata": {},
   "source": []
  },
  {
   "cell_type": "code",
   "execution_count": 26,
   "metadata": {},
   "outputs": [
    {
     "output_type": "execute_result",
     "data": {
      "text/plain": "array([[6.05, 6.2 , 6.35, 6.5 ],\n       [1.5 , 1.68, 2.19, 2.18]])"
     },
     "metadata": {},
     "execution_count": 26
    }
   ],
   "source": [
    "ts = np.array([[6.05, 6.20, 6.35, 6.50], [1.50, 1.68, 2.19, 2.18]])\n",
    "ts"
   ]
  },
  {
   "cell_type": "code",
   "execution_count": 44,
   "metadata": {},
   "outputs": [
    {
     "output_type": "stream",
     "name": "stdout",
     "text": "podział na >=6.2\nzbiór pierwszy [1.5]\nśrednia = 1.5\nzbiór drugi [1.68 2.19 2.18]\nśrednia = 2.016666666666667\nSSR = 0.17006666666666675\npodział na >=6.35\nzbiór pierwszy [1.5  1.68]\nśrednia = 1.5899999999999999\nzbiór drugi [2.19 2.18]\nśrednia = 2.185\nSSR = 0.016249999999999987\npodział na >=6.5\nzbiór pierwszy [1.5  1.68 2.19]\nśrednia = 1.7899999999999998\nzbiór drugi [2.18]\nśrednia = 2.18\nSSR = 0.2562\n"
    }
   ],
   "source": [
    "for i in range(1,len(ts[1])):\n",
    "    sum = 0\n",
    "    print(f'podział na >={ts[0,i]}')\n",
    "    print(f'zbiór pierwszy {ts[1,:i]}')\n",
    "    m1 = ts[1][:i].mean()\n",
    "    print(f'średnia = {m1}')\n",
    "    for x in ts[1][:i]:\n",
    "        sum += (x - m1)**2\n",
    "    print(f'zbiór drugi {ts[1,i:]}')\n",
    "    m2 = ts[1][i:].mean()\n",
    "    print(f'średnia = {m2}')\n",
    "    for x in ts[1][i:]:\n",
    "        sum += (x - m2)**2\n",
    "    print(f'SSR = {sum}')"
   ]
  },
  {
   "cell_type": "code",
   "execution_count": 41,
   "metadata": {},
   "outputs": [
    {
     "output_type": "execute_result",
     "data": {
      "text/plain": "array([[6.05, 6.2 , 6.35, 6.5 ],\n       [1.5 , 1.68, 2.19, 2.18]])"
     },
     "metadata": {},
     "execution_count": 41
    }
   ],
   "source": []
  },
  {
   "cell_type": "code",
   "execution_count": null,
   "metadata": {},
   "outputs": [],
   "source": []
  }
 ]
}