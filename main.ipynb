{
 "cells": [
  {
   "cell_type": "code",
   "execution_count": 1,
   "metadata": {},
   "outputs": [],
   "source": [
    "import numpy as np\n",
    "import pandas as pd\n",
    "import matplotlib.pyplot as plt\n",
    "import statsmodels.api as sm\n",
    "from scipy.stats import pearsonr, spearmanr\n",
    "%matplotlib inline"
   ]
  },
  {
   "cell_type": "code",
   "execution_count": 2,
   "metadata": {},
   "outputs": [
    {
     "output_type": "execute_result",
     "data": {
      "text/plain": "   czas(min)  alpha  temp    Ts\n0          0      1  6,50     2\n1         15      0  6,35  2,18\n2         30      0  6,20  2,19\n3         45      1  6,05  1,68\n4         60      1  5,90   1,5",
      "text/html": "<div>\n<style scoped>\n    .dataframe tbody tr th:only-of-type {\n        vertical-align: middle;\n    }\n\n    .dataframe tbody tr th {\n        vertical-align: top;\n    }\n\n    .dataframe thead th {\n        text-align: right;\n    }\n</style>\n<table border=\"1\" class=\"dataframe\">\n  <thead>\n    <tr style=\"text-align: right;\">\n      <th></th>\n      <th>czas(min)</th>\n      <th>alpha</th>\n      <th>temp</th>\n      <th>Ts</th>\n    </tr>\n  </thead>\n  <tbody>\n    <tr>\n      <th>0</th>\n      <td>0</td>\n      <td>1</td>\n      <td>6,50</td>\n      <td>2</td>\n    </tr>\n    <tr>\n      <th>1</th>\n      <td>15</td>\n      <td>0</td>\n      <td>6,35</td>\n      <td>2,18</td>\n    </tr>\n    <tr>\n      <th>2</th>\n      <td>30</td>\n      <td>0</td>\n      <td>6,20</td>\n      <td>2,19</td>\n    </tr>\n    <tr>\n      <th>3</th>\n      <td>45</td>\n      <td>1</td>\n      <td>6,05</td>\n      <td>1,68</td>\n    </tr>\n    <tr>\n      <th>4</th>\n      <td>60</td>\n      <td>1</td>\n      <td>5,90</td>\n      <td>1,5</td>\n    </tr>\n  </tbody>\n</table>\n</div>"
     },
     "metadata": {},
     "execution_count": 2
    }
   ],
   "source": [
    "df = pd.read_csv('alpha24_step15Stud.csv')\n",
    "df.head()"
   ]
  },
  {
   "cell_type": "code",
   "execution_count": 3,
   "metadata": {},
   "outputs": [],
   "source": [
    "df['temp'] = df['temp'].apply(lambda x: x.replace(',','.')).astype('float64')\n",
    "df['Ts'] = df['Ts'].apply(lambda x: x.replace(',','.')).astype('float64')"
   ]
  },
  {
   "cell_type": "code",
   "execution_count": 4,
   "metadata": {},
   "outputs": [
    {
     "output_type": "execute_result",
     "data": {
      "text/plain": "   czas(min)  alpha  temp    Ts\n0          0      1  6.50  2.00\n1         15      0  6.35  2.18\n2         30      0  6.20  2.19\n3         45      1  6.05  1.68\n4         60      1  5.90  1.50",
      "text/html": "<div>\n<style scoped>\n    .dataframe tbody tr th:only-of-type {\n        vertical-align: middle;\n    }\n\n    .dataframe tbody tr th {\n        vertical-align: top;\n    }\n\n    .dataframe thead th {\n        text-align: right;\n    }\n</style>\n<table border=\"1\" class=\"dataframe\">\n  <thead>\n    <tr style=\"text-align: right;\">\n      <th></th>\n      <th>czas(min)</th>\n      <th>alpha</th>\n      <th>temp</th>\n      <th>Ts</th>\n    </tr>\n  </thead>\n  <tbody>\n    <tr>\n      <th>0</th>\n      <td>0</td>\n      <td>1</td>\n      <td>6.50</td>\n      <td>2.00</td>\n    </tr>\n    <tr>\n      <th>1</th>\n      <td>15</td>\n      <td>0</td>\n      <td>6.35</td>\n      <td>2.18</td>\n    </tr>\n    <tr>\n      <th>2</th>\n      <td>30</td>\n      <td>0</td>\n      <td>6.20</td>\n      <td>2.19</td>\n    </tr>\n    <tr>\n      <th>3</th>\n      <td>45</td>\n      <td>1</td>\n      <td>6.05</td>\n      <td>1.68</td>\n    </tr>\n    <tr>\n      <th>4</th>\n      <td>60</td>\n      <td>1</td>\n      <td>5.90</td>\n      <td>1.50</td>\n    </tr>\n  </tbody>\n</table>\n</div>"
     },
     "metadata": {},
     "execution_count": 4
    }
   ],
   "source": [
    "df.head()"
   ]
  },
  {
   "cell_type": "code",
   "execution_count": 5,
   "metadata": {},
   "outputs": [
    {
     "output_type": "execute_result",
     "data": {
      "text/plain": "      compressor  ambient_temp  refrigerator_temp\ntime                                             \n0              1          6.50               2.00\n15             0          6.35               2.18\n30             0          6.20               2.19\n45             1          6.05               1.68\n60             1          5.90               1.50",
      "text/html": "<div>\n<style scoped>\n    .dataframe tbody tr th:only-of-type {\n        vertical-align: middle;\n    }\n\n    .dataframe tbody tr th {\n        vertical-align: top;\n    }\n\n    .dataframe thead th {\n        text-align: right;\n    }\n</style>\n<table border=\"1\" class=\"dataframe\">\n  <thead>\n    <tr style=\"text-align: right;\">\n      <th></th>\n      <th>compressor</th>\n      <th>ambient_temp</th>\n      <th>refrigerator_temp</th>\n    </tr>\n    <tr>\n      <th>time</th>\n      <th></th>\n      <th></th>\n      <th></th>\n    </tr>\n  </thead>\n  <tbody>\n    <tr>\n      <th>0</th>\n      <td>1</td>\n      <td>6.50</td>\n      <td>2.00</td>\n    </tr>\n    <tr>\n      <th>15</th>\n      <td>0</td>\n      <td>6.35</td>\n      <td>2.18</td>\n    </tr>\n    <tr>\n      <th>30</th>\n      <td>0</td>\n      <td>6.20</td>\n      <td>2.19</td>\n    </tr>\n    <tr>\n      <th>45</th>\n      <td>1</td>\n      <td>6.05</td>\n      <td>1.68</td>\n    </tr>\n    <tr>\n      <th>60</th>\n      <td>1</td>\n      <td>5.90</td>\n      <td>1.50</td>\n    </tr>\n  </tbody>\n</table>\n</div>"
     },
     "metadata": {},
     "execution_count": 5
    }
   ],
   "source": [
    "df.rename(columns={\"czas(min)\": \"time\", \"alpha\": \"compressor\", \"temp\": 'ambient_temp', \"Ts\": 'refrigerator_temp'}, inplace=True)\n",
    "df.set_index('time', inplace=True)\n",
    "df.head()"
   ]
  },
  {
   "cell_type": "code",
   "execution_count": null,
   "metadata": {},
   "outputs": [],
   "source": []
  },
  {
   "cell_type": "code",
   "execution_count": 6,
   "metadata": {},
   "outputs": [
    {
     "output_type": "execute_result",
     "data": {
      "text/plain": "array([[ 1.  ,  6.5 ,  2.  , ...,  0.  ,  5.26,  1.82],\n       [ 0.  ,  5.23,  1.86, ...,  0.  ,  5.39,  1.48],\n       [ 0.  ,  5.3 ,  1.53, ...,  1.  ,  5.99,  0.9 ],\n       ...,\n       [ 0.  ,  1.97, -1.98, ...,  0.  ,  1.23, -1.93],\n       [ 0.  ,  1.2 , -1.92, ...,  0.  ,  2.01, -2.07],\n       [ 1.  ,  2.13, -2.17, ...,  1.  ,  4.01, -2.48]])"
     },
     "metadata": {},
     "execution_count": 6
    }
   ],
   "source": [
    "size = 1000\n",
    "delay = 100\n",
    "\n",
    "a = df.iloc[0:size,:].to_numpy().reshape(delay,size*3//delay)\n",
    "a"
   ]
  },
  {
   "cell_type": "code",
   "execution_count": 7,
   "metadata": {},
   "outputs": [],
   "source": [
    "from random_forest.tree import Tree"
   ]
  },
  {
   "cell_type": "code",
   "execution_count": 8,
   "metadata": {},
   "outputs": [
    {
     "output_type": "stream",
     "name": "stdout",
     "text": "[ 1.    4.2  -2.5   1.    4.39 -2.51  1.    4.57 -2.52  1.    4.74 -2.53\n  1.    4.9  -2.54  1.    5.05 -2.55  1.    5.18 -2.56  1.    5.3  -2.57\n  1.    5.4  -2.57  0.    5.35 -2.35] -2.5454166666666667\n"
    }
   ],
   "source": [
    "myTree = Tree(a,30,10)\n",
    "test_data = df.iloc[1000:1010,:].to_numpy().reshape(30)\n",
    "print(test_data, myTree.predict(test_data))"
   ]
  },
  {
   "cell_type": "code",
   "execution_count": 9,
   "metadata": {},
   "outputs": [
    {
     "output_type": "stream",
     "name": "stdout",
     "text": "\n        Branch:\n            if <= 17_-1.0:\n                \n        Branch:\n            if <= 8_-2.2:\n                Leaf: -2.5454166666666667\n            else:\n                \n        Branch:\n            if <= 8_-1.68:\n                Leaf: -1.8788888888888888\n            else:\n                Leaf: -1.2146666666666666  \n          \n        \n            else:\n                \n        Branch:\n            if <= 23_0.11:\n                Leaf: -0.3934782608695652\n            else:\n                Leaf: 0.7555  \n          \n        \n"
    }
   ],
   "source": [
    "print(myTree.root)"
   ]
  },
  {
   "cell_type": "code",
   "execution_count": null,
   "metadata": {},
   "outputs": [],
   "source": []
  }
 ],
 "metadata": {
  "kernelspec": {
   "display_name": "Python 3.6.9 64-bit ('env': venv)",
   "language": "python",
   "name": "python36964bitenvvenv81aefc999cfb4ab5984f7e1afcec60e1"
  },
  "language_info": {
   "codemirror_mode": {
    "name": "ipython",
    "version": 3
   },
   "file_extension": ".py",
   "mimetype": "text/x-python",
   "name": "python",
   "nbconvert_exporter": "python",
   "pygments_lexer": "ipython3",
   "version": "3.6.9-final"
  }
 },
 "nbformat": 4,
 "nbformat_minor": 4
}