{
 "cells": [
  {
   "cell_type": "code",
   "execution_count": 1,
   "metadata": {},
   "outputs": [],
   "source": [
    "import numpy as np\n",
    "import pandas as pd\n",
    "import matplotlib.pyplot as plt\n",
    "import statsmodels.api as sm\n",
    "from scipy.stats import pearsonr, spearmanr\n",
    "%matplotlib inline"
   ]
  },
  {
   "cell_type": "code",
   "execution_count": 2,
   "metadata": {},
   "outputs": [
    {
     "output_type": "execute_result",
     "data": {
      "text/plain": "   czas(min)  alpha  temp    Ts\n0          0      1  6,50     2\n1         15      0  6,35  2,18\n2         30      0  6,20  2,19\n3         45      1  6,05  1,68\n4         60      1  5,90   1,5",
      "text/html": "<div>\n<style scoped>\n    .dataframe tbody tr th:only-of-type {\n        vertical-align: middle;\n    }\n\n    .dataframe tbody tr th {\n        vertical-align: top;\n    }\n\n    .dataframe thead th {\n        text-align: right;\n    }\n</style>\n<table border=\"1\" class=\"dataframe\">\n  <thead>\n    <tr style=\"text-align: right;\">\n      <th></th>\n      <th>czas(min)</th>\n      <th>alpha</th>\n      <th>temp</th>\n      <th>Ts</th>\n    </tr>\n  </thead>\n  <tbody>\n    <tr>\n      <th>0</th>\n      <td>0</td>\n      <td>1</td>\n      <td>6,50</td>\n      <td>2</td>\n    </tr>\n    <tr>\n      <th>1</th>\n      <td>15</td>\n      <td>0</td>\n      <td>6,35</td>\n      <td>2,18</td>\n    </tr>\n    <tr>\n      <th>2</th>\n      <td>30</td>\n      <td>0</td>\n      <td>6,20</td>\n      <td>2,19</td>\n    </tr>\n    <tr>\n      <th>3</th>\n      <td>45</td>\n      <td>1</td>\n      <td>6,05</td>\n      <td>1,68</td>\n    </tr>\n    <tr>\n      <th>4</th>\n      <td>60</td>\n      <td>1</td>\n      <td>5,90</td>\n      <td>1,5</td>\n    </tr>\n  </tbody>\n</table>\n</div>"
     },
     "metadata": {},
     "execution_count": 2
    }
   ],
   "source": [
    "df = pd.read_csv('alpha24_step15Stud.csv')\n",
    "df.head()"
   ]
  },
  {
   "cell_type": "code",
   "execution_count": 3,
   "metadata": {},
   "outputs": [],
   "source": [
    "df['temp'] = df['temp'].apply(lambda x: x.replace(',','.')).astype('float64')\n",
    "df['Ts'] = df['Ts'].apply(lambda x: x.replace(',','.')).astype('float64')"
   ]
  },
  {
   "cell_type": "code",
   "execution_count": 4,
   "metadata": {},
   "outputs": [
    {
     "output_type": "execute_result",
     "data": {
      "text/plain": "   czas(min)  alpha  temp    Ts\n0          0      1  6.50  2.00\n1         15      0  6.35  2.18\n2         30      0  6.20  2.19\n3         45      1  6.05  1.68\n4         60      1  5.90  1.50",
      "text/html": "<div>\n<style scoped>\n    .dataframe tbody tr th:only-of-type {\n        vertical-align: middle;\n    }\n\n    .dataframe tbody tr th {\n        vertical-align: top;\n    }\n\n    .dataframe thead th {\n        text-align: right;\n    }\n</style>\n<table border=\"1\" class=\"dataframe\">\n  <thead>\n    <tr style=\"text-align: right;\">\n      <th></th>\n      <th>czas(min)</th>\n      <th>alpha</th>\n      <th>temp</th>\n      <th>Ts</th>\n    </tr>\n  </thead>\n  <tbody>\n    <tr>\n      <th>0</th>\n      <td>0</td>\n      <td>1</td>\n      <td>6.50</td>\n      <td>2.00</td>\n    </tr>\n    <tr>\n      <th>1</th>\n      <td>15</td>\n      <td>0</td>\n      <td>6.35</td>\n      <td>2.18</td>\n    </tr>\n    <tr>\n      <th>2</th>\n      <td>30</td>\n      <td>0</td>\n      <td>6.20</td>\n      <td>2.19</td>\n    </tr>\n    <tr>\n      <th>3</th>\n      <td>45</td>\n      <td>1</td>\n      <td>6.05</td>\n      <td>1.68</td>\n    </tr>\n    <tr>\n      <th>4</th>\n      <td>60</td>\n      <td>1</td>\n      <td>5.90</td>\n      <td>1.50</td>\n    </tr>\n  </tbody>\n</table>\n</div>"
     },
     "metadata": {},
     "execution_count": 4
    }
   ],
   "source": [
    "df.head()"
   ]
  },
  {
   "cell_type": "code",
   "execution_count": 5,
   "metadata": {},
   "outputs": [
    {
     "output_type": "execute_result",
     "data": {
      "text/plain": "      compressor  ambient_temp  refrigerator_temp\ntime                                             \n0              1          6.50               2.00\n15             0          6.35               2.18\n30             0          6.20               2.19\n45             1          6.05               1.68\n60             1          5.90               1.50",
      "text/html": "<div>\n<style scoped>\n    .dataframe tbody tr th:only-of-type {\n        vertical-align: middle;\n    }\n\n    .dataframe tbody tr th {\n        vertical-align: top;\n    }\n\n    .dataframe thead th {\n        text-align: right;\n    }\n</style>\n<table border=\"1\" class=\"dataframe\">\n  <thead>\n    <tr style=\"text-align: right;\">\n      <th></th>\n      <th>compressor</th>\n      <th>ambient_temp</th>\n      <th>refrigerator_temp</th>\n    </tr>\n    <tr>\n      <th>time</th>\n      <th></th>\n      <th></th>\n      <th></th>\n    </tr>\n  </thead>\n  <tbody>\n    <tr>\n      <th>0</th>\n      <td>1</td>\n      <td>6.50</td>\n      <td>2.00</td>\n    </tr>\n    <tr>\n      <th>15</th>\n      <td>0</td>\n      <td>6.35</td>\n      <td>2.18</td>\n    </tr>\n    <tr>\n      <th>30</th>\n      <td>0</td>\n      <td>6.20</td>\n      <td>2.19</td>\n    </tr>\n    <tr>\n      <th>45</th>\n      <td>1</td>\n      <td>6.05</td>\n      <td>1.68</td>\n    </tr>\n    <tr>\n      <th>60</th>\n      <td>1</td>\n      <td>5.90</td>\n      <td>1.50</td>\n    </tr>\n  </tbody>\n</table>\n</div>"
     },
     "metadata": {},
     "execution_count": 5
    }
   ],
   "source": [
    "df.rename(columns={\"czas(min)\": \"time\", \"alpha\": \"compressor\", \"temp\": 'ambient_temp', \"Ts\": 'refrigerator_temp'}, inplace=True)\n",
    "df.set_index('time', inplace=True)\n",
    "df.head()"
   ]
  },
  {
   "cell_type": "code",
   "execution_count": null,
   "metadata": {},
   "outputs": [],
   "source": []
  },
  {
   "cell_type": "code",
   "execution_count": 6,
   "metadata": {},
   "outputs": [
    {
     "output_type": "execute_result",
     "data": {
      "text/plain": "array([[ 1.  ,  6.5 ,  2.  , ...,  0.  ,  5.26,  1.82],\n       [ 0.  ,  5.23,  1.86, ...,  0.  ,  5.39,  1.48],\n       [ 0.  ,  5.3 ,  1.53, ...,  1.  ,  5.99,  0.9 ],\n       ...,\n       [ 0.  ,  1.97, -1.98, ...,  0.  ,  1.23, -1.93],\n       [ 0.  ,  1.2 , -1.92, ...,  0.  ,  2.01, -2.07],\n       [ 1.  ,  2.13, -2.17, ...,  1.  ,  4.01, -2.48]])"
     },
     "metadata": {},
     "execution_count": 6
    }
   ],
   "source": [
    "size = 1000\n",
    "delay = 100\n",
    "\n",
    "a = df.iloc[0:size,:].to_numpy().reshape(delay,size*3//delay)\n",
    "a"
   ]
  },
  {
   "cell_type": "code",
   "execution_count": 7,
   "metadata": {},
   "outputs": [],
   "source": [
    "import random_forest\n",
    "from random_forest.tree import Tree\n",
    "\n",
    "random_forest.tree.config.min_split_size = 15\n",
    "random_forest.tree.config.number_of_predictors_to_draw = 5"
   ]
  },
  {
   "cell_type": "code",
   "execution_count": 8,
   "metadata": {},
   "outputs": [
    {
     "output_type": "stream",
     "name": "stdout",
     "text": "[ 1.    4.2  -2.5   1.    4.39 -2.51  1.    4.57 -2.52  1.    4.74 -2.53\n  1.    4.9  -2.54  1.    5.05 -2.55  1.    5.18 -2.56  1.    5.3  -2.57\n  1.    5.4  -2.57  0.    5.35 -2.35] -2.6727777777777773\n"
    }
   ],
   "source": [
    "myTree = Tree(a)\n",
    "test_data = df.iloc[1000:1010,:].to_numpy().reshape(30)\n",
    "print(test_data, myTree.predict(test_data))"
   ]
  },
  {
   "cell_type": "code",
   "execution_count": 9,
   "metadata": {},
   "outputs": [
    {
     "output_type": "stream",
     "name": "stdout",
     "text": "\n        min_split_size: 30\n        number_of_predictors_to_draw: 5\n        \n        Branch:\n            if <= 10_5.28:\n                \n        Branch:\n            if <= 23_-1.54:\n                \n        Branch:\n            if <= 20_-2.33:\n                Leaf: -2.6727777777777773\n            else:\n                Leaf: -1.8605  \n        \n            else:\n                Leaf: -0.7527777777777778  \n        \n            else:\n                \n        Branch:\n            if <= 8_-0.97:\n                Leaf: -1.6763636363636365\n            else:\n                \n        Branch:\n            if <= 8_0.13:\n                Leaf: -0.19333333333333333\n            else:\n                Leaf: 0.7300000000000001  \n          \n          \n        \n        \n"
    }
   ],
   "source": [
    "print(myTree)"
   ]
  },
  {
   "cell_type": "code",
   "execution_count": 10,
   "metadata": {},
   "outputs": [],
   "source": [
    "from random_forest.forest import Forest\n",
    "import random_forest\n",
    "random_forest.forest.config.data_size_for_tree = 150\n",
    "random_forest.forest.config.number_of_trees = 100\n"
   ]
  },
  {
   "cell_type": "code",
   "execution_count": 11,
   "metadata": {},
   "outputs": [
    {
     "output_type": "execute_result",
     "data": {
      "text/plain": "(50, 12)"
     },
     "metadata": {},
     "execution_count": 11
    }
   ],
   "source": [
    "\n",
    "\n",
    "delay = 4\n",
    "frames = [df.shift(-t) for t in range(delay)]\n",
    "# small_df = df.iloc[:40]\n",
    "delayed_df = pd.concat(frames, axis=1).dropna()\n",
    "\n",
    "small_df = delayed_df.iloc[:50]\n",
    "small_df.shape\n"
   ]
  },
  {
   "cell_type": "code",
   "execution_count": 12,
   "metadata": {},
   "outputs": [],
   "source": [
    "forest = Forest(delayed_df)\n",
    " "
   ]
  },
  {
   "cell_type": "code",
   "execution_count": 13,
   "metadata": {},
   "outputs": [
    {
     "output_type": "stream",
     "name": "stdout",
     "text": "(50, 12)\n(24, 12)\n"
    },
    {
     "output_type": "execute_result",
     "data": {
      "text/plain": "      compressor  ambient_temp  refrigerator_temp  compressor  ambient_temp  \\\ntime                                                                          \n735            0          7.99               0.59         0.0          7.97   \n90             0          5.59               1.62         0.0          5.44   \n135            0          5.26               1.82         0.0          5.23   \n255            0          5.60               1.22         0.0          5.49   \n315            1          5.39               1.12         0.0          5.49   \n\n      refrigerator_temp  compressor  ambient_temp  refrigerator_temp  \\\ntime                                                                   \n735                0.84         0.0          7.94               0.93   \n90                 1.56         0.0          5.30               1.54   \n135                1.86         0.0          5.21               1.89   \n255                1.22         0.0          5.39               1.48   \n315                1.26         0.0          5.59               1.47   \n\n      compressor  ambient_temp  refrigerator_temp  \ntime                                               \n735          0.0          7.90               0.98  \n90           0.0          5.26               1.82  \n135          1.0          5.20               1.20  \n255          0.0          5.30               1.53  \n315          0.0          5.70               1.51  ",
      "text/html": "<div>\n<style scoped>\n    .dataframe tbody tr th:only-of-type {\n        vertical-align: middle;\n    }\n\n    .dataframe tbody tr th {\n        vertical-align: top;\n    }\n\n    .dataframe thead th {\n        text-align: right;\n    }\n</style>\n<table border=\"1\" class=\"dataframe\">\n  <thead>\n    <tr style=\"text-align: right;\">\n      <th></th>\n      <th>compressor</th>\n      <th>ambient_temp</th>\n      <th>refrigerator_temp</th>\n      <th>compressor</th>\n      <th>ambient_temp</th>\n      <th>refrigerator_temp</th>\n      <th>compressor</th>\n      <th>ambient_temp</th>\n      <th>refrigerator_temp</th>\n      <th>compressor</th>\n      <th>ambient_temp</th>\n      <th>refrigerator_temp</th>\n    </tr>\n    <tr>\n      <th>time</th>\n      <th></th>\n      <th></th>\n      <th></th>\n      <th></th>\n      <th></th>\n      <th></th>\n      <th></th>\n      <th></th>\n      <th></th>\n      <th></th>\n      <th></th>\n      <th></th>\n    </tr>\n  </thead>\n  <tbody>\n    <tr>\n      <th>735</th>\n      <td>0</td>\n      <td>7.99</td>\n      <td>0.59</td>\n      <td>0.0</td>\n      <td>7.97</td>\n      <td>0.84</td>\n      <td>0.0</td>\n      <td>7.94</td>\n      <td>0.93</td>\n      <td>0.0</td>\n      <td>7.90</td>\n      <td>0.98</td>\n    </tr>\n    <tr>\n      <th>90</th>\n      <td>0</td>\n      <td>5.59</td>\n      <td>1.62</td>\n      <td>0.0</td>\n      <td>5.44</td>\n      <td>1.56</td>\n      <td>0.0</td>\n      <td>5.30</td>\n      <td>1.54</td>\n      <td>0.0</td>\n      <td>5.26</td>\n      <td>1.82</td>\n    </tr>\n    <tr>\n      <th>135</th>\n      <td>0</td>\n      <td>5.26</td>\n      <td>1.82</td>\n      <td>0.0</td>\n      <td>5.23</td>\n      <td>1.86</td>\n      <td>0.0</td>\n      <td>5.21</td>\n      <td>1.89</td>\n      <td>1.0</td>\n      <td>5.20</td>\n      <td>1.20</td>\n    </tr>\n    <tr>\n      <th>255</th>\n      <td>0</td>\n      <td>5.60</td>\n      <td>1.22</td>\n      <td>0.0</td>\n      <td>5.49</td>\n      <td>1.22</td>\n      <td>0.0</td>\n      <td>5.39</td>\n      <td>1.48</td>\n      <td>0.0</td>\n      <td>5.30</td>\n      <td>1.53</td>\n    </tr>\n    <tr>\n      <th>315</th>\n      <td>1</td>\n      <td>5.39</td>\n      <td>1.12</td>\n      <td>0.0</td>\n      <td>5.49</td>\n      <td>1.26</td>\n      <td>0.0</td>\n      <td>5.59</td>\n      <td>1.47</td>\n      <td>0.0</td>\n      <td>5.70</td>\n      <td>1.51</td>\n    </tr>\n  </tbody>\n</table>\n</div>"
     },
     "metadata": {},
     "execution_count": 13
    }
   ],
   "source": [
    "out_of_bag  = small_df\n",
    "print(out_of_bag.shape)\n",
    "data_size_for_tree = 5\n",
    "for i in range(10):\n",
    "    training_data = small_df.sample(data_size_for_tree, replace=True)\n",
    "    out_of_bag = out_of_bag[~out_of_bag.index.isin(training_data.index)]\n",
    "# out_of_bag[~out_of_bag.isin(training_data)].dropna()\n",
    "# out_of_bag.isin(training_data.merge(training_data))\n",
    "# print(out_of_bag.size)\n",
    "print(out_of_bag.shape)\n",
    "training_data.head()"
   ]
  },
  {
   "cell_type": "markdown",
   "metadata": {},
   "source": [
    "out_of_bag.values\n"
   ]
  },
  {
   "cell_type": "code",
   "execution_count": 14,
   "metadata": {},
   "outputs": [
    {
     "output_type": "stream",
     "name": "stdout",
     "text": "(25, 12)\n[1.   5.7  1.07 0.   5.6  1.22 0.   5.49 1.22 0.   5.39 1.48]\n1.1334219240029655\n"
    }
   ],
   "source": [
    "print(forest.out_of_bag.shape)\n",
    "test = forest.out_of_bag.iloc[0].values\n",
    "print(test)\n",
    "print(forest.predict(test[:-1]))\n",
    "# df.shape"
   ]
  },
  {
   "cell_type": "code",
   "execution_count": 16,
   "metadata": {},
   "outputs": [
    {
     "output_type": "execute_result",
     "data": {
      "text/plain": "\n        min_split_size: 30\n        number_of_predictors_to_draw: 5\n        \n        Branch:\n            if <= 8_-0.43:\n                \n        Branch:\n            if <= 8_-1.52:\n                \n        Branch:\n            if <= 5_-2.4:\n                Leaf: -2.7421428571428565\n            else:\n                \n        Branch:\n            if <= 5_-2.1:\n                Leaf: -2.111428571428571\n            else:\n                Leaf: -1.7741666666666667  \n          \n        \n            else:\n                \n        Branch:\n            if <= 1_3.54:\n                Leaf: -1.4460000000000002\n            else:\n                \n        Branch:\n            if <= 5_-0.92:\n                Leaf: -1.07\n            else:\n                Leaf: -0.66875  \n          \n          \n        \n            else:\n                \n        Branch:\n            if <= 2_0.87:\n                \n        Branch:\n            if <= 8_0.16:\n                Leaf: -0.13999999999999999\n            else:\n                Leaf: 0.514375  \n        \n            else:\n                Leaf: 1.3552173913043475  \n          \n        \n        "
     },
     "metadata": {},
     "execution_count": 16
    }
   ],
   "source": [
    "forest.trees[0]"
   ]
  }
 ],
 "metadata": {
  "kernelspec": {
   "display_name": "Python 3.8.2 64-bit ('env': venv)",
   "language": "python",
   "name": "python38264bitenvvenv143f3d7cb84140ac993f36096aed9a8e"
  },
  "language_info": {
   "codemirror_mode": {
    "name": "ipython",
    "version": 3
   },
   "file_extension": ".py",
   "mimetype": "text/x-python",
   "name": "python",
   "nbconvert_exporter": "python",
   "pygments_lexer": "ipython3",
   "version": "3.8.2-final"
  }
 },
 "nbformat": 4,
 "nbformat_minor": 4
}