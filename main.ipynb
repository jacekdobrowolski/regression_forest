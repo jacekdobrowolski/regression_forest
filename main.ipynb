{
 "cells": [
  {
   "cell_type": "code",
   "execution_count": 1,
   "metadata": {},
   "outputs": [],
   "source": [
    "import numpy as np\n",
    "import pandas as pd\n",
    "import matplotlib.pyplot as plt\n",
    "import statsmodels.api as sm\n",
    "from scipy.stats import pearsonr, spearmanr\n",
    "%matplotlib inline"
   ]
  },
  {
   "cell_type": "code",
   "execution_count": 2,
   "metadata": {},
   "outputs": [
    {
     "output_type": "execute_result",
     "data": {
      "text/plain": "   czas(min)  alpha  temp    Ts\n0          0      1  6,50     2\n1         15      0  6,35  2,18\n2         30      0  6,20  2,19\n3         45      1  6,05  1,68\n4         60      1  5,90   1,5",
      "text/html": "<div>\n<style scoped>\n    .dataframe tbody tr th:only-of-type {\n        vertical-align: middle;\n    }\n\n    .dataframe tbody tr th {\n        vertical-align: top;\n    }\n\n    .dataframe thead th {\n        text-align: right;\n    }\n</style>\n<table border=\"1\" class=\"dataframe\">\n  <thead>\n    <tr style=\"text-align: right;\">\n      <th></th>\n      <th>czas(min)</th>\n      <th>alpha</th>\n      <th>temp</th>\n      <th>Ts</th>\n    </tr>\n  </thead>\n  <tbody>\n    <tr>\n      <th>0</th>\n      <td>0</td>\n      <td>1</td>\n      <td>6,50</td>\n      <td>2</td>\n    </tr>\n    <tr>\n      <th>1</th>\n      <td>15</td>\n      <td>0</td>\n      <td>6,35</td>\n      <td>2,18</td>\n    </tr>\n    <tr>\n      <th>2</th>\n      <td>30</td>\n      <td>0</td>\n      <td>6,20</td>\n      <td>2,19</td>\n    </tr>\n    <tr>\n      <th>3</th>\n      <td>45</td>\n      <td>1</td>\n      <td>6,05</td>\n      <td>1,68</td>\n    </tr>\n    <tr>\n      <th>4</th>\n      <td>60</td>\n      <td>1</td>\n      <td>5,90</td>\n      <td>1,5</td>\n    </tr>\n  </tbody>\n</table>\n</div>"
     },
     "metadata": {},
     "execution_count": 2
    }
   ],
   "source": [
    "df = pd.read_csv('alpha24_step15Stud.csv')\n",
    "df.head()"
   ]
  },
  {
   "cell_type": "code",
   "execution_count": 3,
   "metadata": {},
   "outputs": [],
   "source": [
    "df['temp'] = df['temp'].apply(lambda x: x.replace(',','.')).astype('float64')\n",
    "df['Ts'] = df['Ts'].apply(lambda x: x.replace(',','.')).astype('float64')"
   ]
  },
  {
   "cell_type": "code",
   "execution_count": 4,
   "metadata": {},
   "outputs": [
    {
     "output_type": "execute_result",
     "data": {
      "text/plain": "   czas(min)  alpha  temp    Ts\n0          0      1  6.50  2.00\n1         15      0  6.35  2.18\n2         30      0  6.20  2.19\n3         45      1  6.05  1.68\n4         60      1  5.90  1.50",
      "text/html": "<div>\n<style scoped>\n    .dataframe tbody tr th:only-of-type {\n        vertical-align: middle;\n    }\n\n    .dataframe tbody tr th {\n        vertical-align: top;\n    }\n\n    .dataframe thead th {\n        text-align: right;\n    }\n</style>\n<table border=\"1\" class=\"dataframe\">\n  <thead>\n    <tr style=\"text-align: right;\">\n      <th></th>\n      <th>czas(min)</th>\n      <th>alpha</th>\n      <th>temp</th>\n      <th>Ts</th>\n    </tr>\n  </thead>\n  <tbody>\n    <tr>\n      <th>0</th>\n      <td>0</td>\n      <td>1</td>\n      <td>6.50</td>\n      <td>2.00</td>\n    </tr>\n    <tr>\n      <th>1</th>\n      <td>15</td>\n      <td>0</td>\n      <td>6.35</td>\n      <td>2.18</td>\n    </tr>\n    <tr>\n      <th>2</th>\n      <td>30</td>\n      <td>0</td>\n      <td>6.20</td>\n      <td>2.19</td>\n    </tr>\n    <tr>\n      <th>3</th>\n      <td>45</td>\n      <td>1</td>\n      <td>6.05</td>\n      <td>1.68</td>\n    </tr>\n    <tr>\n      <th>4</th>\n      <td>60</td>\n      <td>1</td>\n      <td>5.90</td>\n      <td>1.50</td>\n    </tr>\n  </tbody>\n</table>\n</div>"
     },
     "metadata": {},
     "execution_count": 4
    }
   ],
   "source": [
    "df.head()"
   ]
  },
  {
   "cell_type": "code",
   "execution_count": 5,
   "metadata": {},
   "outputs": [
    {
     "output_type": "execute_result",
     "data": {
      "text/plain": "      compressor  ambient_temp  refrigerator_temp\ntime                                             \n0              1          6.50               2.00\n15             0          6.35               2.18\n30             0          6.20               2.19\n45             1          6.05               1.68\n60             1          5.90               1.50",
      "text/html": "<div>\n<style scoped>\n    .dataframe tbody tr th:only-of-type {\n        vertical-align: middle;\n    }\n\n    .dataframe tbody tr th {\n        vertical-align: top;\n    }\n\n    .dataframe thead th {\n        text-align: right;\n    }\n</style>\n<table border=\"1\" class=\"dataframe\">\n  <thead>\n    <tr style=\"text-align: right;\">\n      <th></th>\n      <th>compressor</th>\n      <th>ambient_temp</th>\n      <th>refrigerator_temp</th>\n    </tr>\n    <tr>\n      <th>time</th>\n      <th></th>\n      <th></th>\n      <th></th>\n    </tr>\n  </thead>\n  <tbody>\n    <tr>\n      <th>0</th>\n      <td>1</td>\n      <td>6.50</td>\n      <td>2.00</td>\n    </tr>\n    <tr>\n      <th>15</th>\n      <td>0</td>\n      <td>6.35</td>\n      <td>2.18</td>\n    </tr>\n    <tr>\n      <th>30</th>\n      <td>0</td>\n      <td>6.20</td>\n      <td>2.19</td>\n    </tr>\n    <tr>\n      <th>45</th>\n      <td>1</td>\n      <td>6.05</td>\n      <td>1.68</td>\n    </tr>\n    <tr>\n      <th>60</th>\n      <td>1</td>\n      <td>5.90</td>\n      <td>1.50</td>\n    </tr>\n  </tbody>\n</table>\n</div>"
     },
     "metadata": {},
     "execution_count": 5
    }
   ],
   "source": [
    "df.rename(columns={\"czas(min)\": \"time\", \"alpha\": \"compressor\", \"temp\": 'ambient_temp', \"Ts\": 'refrigerator_temp'}, inplace=True)\n",
    "df.set_index('time', inplace=True)\n",
    "df.head()"
   ]
  },
  {
   "cell_type": "code",
   "execution_count": null,
   "metadata": {},
   "outputs": [],
   "source": []
  },
  {
   "cell_type": "code",
   "execution_count": 6,
   "metadata": {},
   "outputs": [
    {
     "output_type": "execute_result",
     "data": {
      "text/plain": "array([[ 1.  ,  6.5 ,  2.  , ...,  0.  ,  5.26,  1.82],\n       [ 0.  ,  5.23,  1.86, ...,  0.  ,  5.39,  1.48],\n       [ 0.  ,  5.3 ,  1.53, ...,  1.  ,  5.99,  0.9 ],\n       ...,\n       [ 0.  ,  1.97, -1.98, ...,  0.  ,  1.23, -1.93],\n       [ 0.  ,  1.2 , -1.92, ...,  0.  ,  2.01, -2.07],\n       [ 1.  ,  2.13, -2.17, ...,  1.  ,  4.01, -2.48]])"
     },
     "metadata": {},
     "execution_count": 6
    }
   ],
   "source": [
    "size = 1000\n",
    "delay = 100\n",
    "\n",
    "a = df.iloc[0:size,:].to_numpy().reshape(delay,size*3//delay)\n",
    "a"
   ]
  },
  {
   "cell_type": "code",
   "execution_count": 7,
   "metadata": {},
   "outputs": [],
   "source": [
    "import random_forest\n",
    "from random_forest.tree import Tree\n",
    "\n",
    "random_forest.tree.config.min_split_size = 30\n",
    "random_forest.tree.config.number_of_predictors_to_draw = 10"
   ]
  },
  {
   "cell_type": "code",
   "execution_count": 8,
   "metadata": {},
   "outputs": [
    {
     "output_type": "error",
     "ename": "NameError",
     "evalue": "name 'test_data' is not defined",
     "traceback": [
      "\u001b[0;31m---------------------------------------------------------------------------\u001b[0m",
      "\u001b[0;31mNameError\u001b[0m                                 Traceback (most recent call last)",
      "\u001b[0;32m<ipython-input-8-81e656a4e893>\u001b[0m in \u001b[0;36m<module>\u001b[0;34m\u001b[0m\n\u001b[1;32m      1\u001b[0m \u001b[0mmyTree\u001b[0m \u001b[0;34m=\u001b[0m \u001b[0mTree\u001b[0m\u001b[0;34m(\u001b[0m\u001b[0ma\u001b[0m\u001b[0;34m)\u001b[0m\u001b[0;34m\u001b[0m\u001b[0;34m\u001b[0m\u001b[0m\n\u001b[1;32m      2\u001b[0m \u001b[0;31m# test_data = df.iloc[1000:1010,:].to_numpy().reshape(30)\u001b[0m\u001b[0;34m\u001b[0m\u001b[0;34m\u001b[0m\u001b[0;34m\u001b[0m\u001b[0m\n\u001b[0;32m----> 3\u001b[0;31m \u001b[0mprint\u001b[0m\u001b[0;34m(\u001b[0m\u001b[0mtest_data\u001b[0m\u001b[0;34m,\u001b[0m \u001b[0mmyTree\u001b[0m\u001b[0;34m.\u001b[0m\u001b[0mpredict\u001b[0m\u001b[0;34m(\u001b[0m\u001b[0mtest_data\u001b[0m\u001b[0;34m)\u001b[0m\u001b[0;34m)\u001b[0m\u001b[0;34m\u001b[0m\u001b[0;34m\u001b[0m\u001b[0m\n\u001b[0m",
      "\u001b[0;31mNameError\u001b[0m: name 'test_data' is not defined"
     ]
    }
   ],
   "source": [
    "myTree = Tree(a)\n",
    "# test_data = df.iloc[1000:1010,:].to_numpy().reshape(30)\n",
    "print(test_data, myTree.predict(test_data))"
   ]
  },
  {
   "cell_type": "code",
   "execution_count": 9,
   "metadata": {},
   "outputs": [
    {
     "output_type": "stream",
     "name": "stdout",
     "text": "\n        min_split_size: 30\n        number_of_predictors_to_draw: 10\n        \n        Branch:\n            if <= 23_-1.09:\n                \n        Branch:\n            if <= 26_-2.21:\n                Leaf: -2.6404761904761904\n            else:\n                \n        Branch:\n            if <= 17_-1.49:\n                Leaf: -1.8777272727272725\n            else:\n                Leaf: -1.30375  \n          \n        \n            else:\n                \n        Branch:\n            if <= 23_-0.15:\n                Leaf: -0.6383333333333333\n            else:\n                Leaf: 0.6175999999999999  \n          \n        \n        \n"
    }
   ],
   "source": [
    "print(myTree)"
   ]
  },
  {
   "cell_type": "code",
   "execution_count": 10,
   "metadata": {},
   "outputs": [
    {
     "output_type": "execute_result",
     "data": {
      "text/plain": "\n        min_split_size: 30\n        number_of_predictors_to_draw: 10\n        \n        Branch:\n            if <= 26_-1.15:\n                \n        Branch:\n            if <= 26_-2.21:\n                Leaf: -2.6404761904761904\n            else:\n                \n        Branch:\n            if <= 17_-1.49:\n                Leaf: -1.8777272727272725\n            else:\n                Leaf: -1.3162500000000001  \n          \n        \n            else:\n                \n        Branch:\n            if <= 20_-0.18:\n                Leaf: -0.5788461538461539\n            else:\n                Leaf: 0.663913043478261  \n          \n        \n        "
     },
     "metadata": {},
     "execution_count": 10
    }
   ],
   "source": [
    "from random_forest.forest import Forest\n",
    "myForest = Forest(a)\n",
    "\n",
    "myForest.trees[0]"
   ]
  },
  {
   "cell_type": "code",
   "execution_count": 20,
   "metadata": {},
   "outputs": [
    {
     "output_type": "execute_result",
     "data": {
      "text/plain": "(20, 9)"
     },
     "metadata": {},
     "execution_count": 20
    }
   ],
   "source": [
    "\n",
    "\n",
    "delay = 3\n",
    "frames = [df.shift(-t) for t in range(delay)]\n",
    "# small_df = df.iloc[:40]\n",
    "delayed_df = pd.concat(frames, axis=1).dropna()\n",
    "\n",
    "small_df = delayed_df.iloc[:20]\n",
    "small_df.shape\n"
   ]
  },
  {
   "cell_type": "code",
   "execution_count": 24,
   "metadata": {},
   "outputs": [
    {
     "output_type": "stream",
     "name": "stdout",
     "text": "180\n"
    },
    {
     "output_type": "execute_result",
     "data": {
      "text/plain": "      compressor  ambient_temp  refrigerator_temp  compressor  ambient_temp  \\\ntime                                                                          \n45             1          6.05               1.68         1.0          5.90   \n90             0          5.59               1.62         0.0          5.44   \n255            0          5.60               1.22         0.0          5.49   \n165            0          5.21               1.89         1.0          5.20   \n45             1          6.05               1.68         1.0          5.90   \n\n      refrigerator_temp  compressor  ambient_temp  refrigerator_temp  \ntime                                                                  \n45                 1.50         0.0          5.74               1.64  \n90                 1.56         0.0          5.30               1.54  \n255                1.22         0.0          5.39               1.48  \n165                1.20         1.0          5.32               1.20  \n45                 1.50         0.0          5.74               1.64  ",
      "text/html": "<div>\n<style scoped>\n    .dataframe tbody tr th:only-of-type {\n        vertical-align: middle;\n    }\n\n    .dataframe tbody tr th {\n        vertical-align: top;\n    }\n\n    .dataframe thead th {\n        text-align: right;\n    }\n</style>\n<table border=\"1\" class=\"dataframe\">\n  <thead>\n    <tr style=\"text-align: right;\">\n      <th></th>\n      <th>compressor</th>\n      <th>ambient_temp</th>\n      <th>refrigerator_temp</th>\n      <th>compressor</th>\n      <th>ambient_temp</th>\n      <th>refrigerator_temp</th>\n      <th>compressor</th>\n      <th>ambient_temp</th>\n      <th>refrigerator_temp</th>\n    </tr>\n    <tr>\n      <th>time</th>\n      <th></th>\n      <th></th>\n      <th></th>\n      <th></th>\n      <th></th>\n      <th></th>\n      <th></th>\n      <th></th>\n      <th></th>\n    </tr>\n  </thead>\n  <tbody>\n    <tr>\n      <th>45</th>\n      <td>1</td>\n      <td>6.05</td>\n      <td>1.68</td>\n      <td>1.0</td>\n      <td>5.90</td>\n      <td>1.50</td>\n      <td>0.0</td>\n      <td>5.74</td>\n      <td>1.64</td>\n    </tr>\n    <tr>\n      <th>90</th>\n      <td>0</td>\n      <td>5.59</td>\n      <td>1.62</td>\n      <td>0.0</td>\n      <td>5.44</td>\n      <td>1.56</td>\n      <td>0.0</td>\n      <td>5.30</td>\n      <td>1.54</td>\n    </tr>\n    <tr>\n      <th>255</th>\n      <td>0</td>\n      <td>5.60</td>\n      <td>1.22</td>\n      <td>0.0</td>\n      <td>5.49</td>\n      <td>1.22</td>\n      <td>0.0</td>\n      <td>5.39</td>\n      <td>1.48</td>\n    </tr>\n    <tr>\n      <th>165</th>\n      <td>0</td>\n      <td>5.21</td>\n      <td>1.89</td>\n      <td>1.0</td>\n      <td>5.20</td>\n      <td>1.20</td>\n      <td>1.0</td>\n      <td>5.32</td>\n      <td>1.20</td>\n    </tr>\n    <tr>\n      <th>45</th>\n      <td>1</td>\n      <td>6.05</td>\n      <td>1.68</td>\n      <td>1.0</td>\n      <td>5.90</td>\n      <td>1.50</td>\n      <td>0.0</td>\n      <td>5.74</td>\n      <td>1.64</td>\n    </tr>\n  </tbody>\n</table>\n</div>"
     },
     "metadata": {},
     "execution_count": 24
    }
   ],
   "source": [
    "out_of_bag  = small_df\n",
    "print(out_of_bag.size)\n",
    "data_size_for_tree = 5\n",
    "training_data = small_df.sample(data_size_for_tree, replace=True)\n",
    "out_of_bag = out_of_bag[~out_of_bag.index.isin(training_data.index)]\n",
    "# out_of_bag[~out_of_bag.isin(training_data)].dropna()\n",
    "# out_of_bag.isin(training_data.merge(training_data))\n",
    "# print(out_of_bag.size)\n",
    "training_data.head()\n"
   ]
  },
  {
   "cell_type": "code",
   "execution_count": 25,
   "metadata": {},
   "outputs": [
    {
     "output_type": "execute_result",
     "data": {
      "text/plain": "      compressor  ambient_temp  refrigerator_temp  compressor  ambient_temp  \\\ntime                                                                          \n0              1          6.50               2.00         0.0          6.35   \n15             0          6.35               2.18         0.0          6.20   \n30             0          6.20               2.19         1.0          6.05   \n60             1          5.90               1.50         0.0          5.74   \n75             0          5.74               1.64         0.0          5.59   \n105            0          5.44               1.56         0.0          5.30   \n120            0          5.30               1.54         0.0          5.26   \n135            0          5.26               1.82         0.0          5.23   \n150            0          5.23               1.86         0.0          5.21   \n180            1          5.20               1.20         1.0          5.32   \n195            1          5.32               1.20         0.0          5.44   \n210            0          5.44               1.36         1.0          5.57   \n225            1          5.57               1.24         1.0          5.70   \n240            1          5.70               1.07         0.0          5.60   \n270            0          5.49               1.22         0.0          5.39   \n285            0          5.39               1.48         0.0          5.30   \n\n      refrigerator_temp  compressor  ambient_temp  refrigerator_temp  \ntime                                                                  \n0                  2.18         0.0          6.20               2.19  \n15                 2.19         1.0          6.05               1.68  \n30                 1.68         1.0          5.90               1.50  \n60                 1.64         0.0          5.59               1.62  \n75                 1.62         0.0          5.44               1.56  \n105                1.54         0.0          5.26               1.82  \n120                1.82         0.0          5.23               1.86  \n135                1.86         0.0          5.21               1.89  \n150                1.89         1.0          5.20               1.20  \n180                1.20         0.0          5.44               1.36  \n195                1.36         1.0          5.57               1.24  \n210                1.24         1.0          5.70               1.07  \n225                1.07         0.0          5.60               1.22  \n240                1.22         0.0          5.49               1.22  \n270                1.48         0.0          5.30               1.53  \n285                1.53         1.0          5.39               1.12  ",
      "text/html": "<div>\n<style scoped>\n    .dataframe tbody tr th:only-of-type {\n        vertical-align: middle;\n    }\n\n    .dataframe tbody tr th {\n        vertical-align: top;\n    }\n\n    .dataframe thead th {\n        text-align: right;\n    }\n</style>\n<table border=\"1\" class=\"dataframe\">\n  <thead>\n    <tr style=\"text-align: right;\">\n      <th></th>\n      <th>compressor</th>\n      <th>ambient_temp</th>\n      <th>refrigerator_temp</th>\n      <th>compressor</th>\n      <th>ambient_temp</th>\n      <th>refrigerator_temp</th>\n      <th>compressor</th>\n      <th>ambient_temp</th>\n      <th>refrigerator_temp</th>\n    </tr>\n    <tr>\n      <th>time</th>\n      <th></th>\n      <th></th>\n      <th></th>\n      <th></th>\n      <th></th>\n      <th></th>\n      <th></th>\n      <th></th>\n      <th></th>\n    </tr>\n  </thead>\n  <tbody>\n    <tr>\n      <th>0</th>\n      <td>1</td>\n      <td>6.50</td>\n      <td>2.00</td>\n      <td>0.0</td>\n      <td>6.35</td>\n      <td>2.18</td>\n      <td>0.0</td>\n      <td>6.20</td>\n      <td>2.19</td>\n    </tr>\n    <tr>\n      <th>15</th>\n      <td>0</td>\n      <td>6.35</td>\n      <td>2.18</td>\n      <td>0.0</td>\n      <td>6.20</td>\n      <td>2.19</td>\n      <td>1.0</td>\n      <td>6.05</td>\n      <td>1.68</td>\n    </tr>\n    <tr>\n      <th>30</th>\n      <td>0</td>\n      <td>6.20</td>\n      <td>2.19</td>\n      <td>1.0</td>\n      <td>6.05</td>\n      <td>1.68</td>\n      <td>1.0</td>\n      <td>5.90</td>\n      <td>1.50</td>\n    </tr>\n    <tr>\n      <th>60</th>\n      <td>1</td>\n      <td>5.90</td>\n      <td>1.50</td>\n      <td>0.0</td>\n      <td>5.74</td>\n      <td>1.64</td>\n      <td>0.0</td>\n      <td>5.59</td>\n      <td>1.62</td>\n    </tr>\n    <tr>\n      <th>75</th>\n      <td>0</td>\n      <td>5.74</td>\n      <td>1.64</td>\n      <td>0.0</td>\n      <td>5.59</td>\n      <td>1.62</td>\n      <td>0.0</td>\n      <td>5.44</td>\n      <td>1.56</td>\n    </tr>\n    <tr>\n      <th>105</th>\n      <td>0</td>\n      <td>5.44</td>\n      <td>1.56</td>\n      <td>0.0</td>\n      <td>5.30</td>\n      <td>1.54</td>\n      <td>0.0</td>\n      <td>5.26</td>\n      <td>1.82</td>\n    </tr>\n    <tr>\n      <th>120</th>\n      <td>0</td>\n      <td>5.30</td>\n      <td>1.54</td>\n      <td>0.0</td>\n      <td>5.26</td>\n      <td>1.82</td>\n      <td>0.0</td>\n      <td>5.23</td>\n      <td>1.86</td>\n    </tr>\n    <tr>\n      <th>135</th>\n      <td>0</td>\n      <td>5.26</td>\n      <td>1.82</td>\n      <td>0.0</td>\n      <td>5.23</td>\n      <td>1.86</td>\n      <td>0.0</td>\n      <td>5.21</td>\n      <td>1.89</td>\n    </tr>\n    <tr>\n      <th>150</th>\n      <td>0</td>\n      <td>5.23</td>\n      <td>1.86</td>\n      <td>0.0</td>\n      <td>5.21</td>\n      <td>1.89</td>\n      <td>1.0</td>\n      <td>5.20</td>\n      <td>1.20</td>\n    </tr>\n    <tr>\n      <th>180</th>\n      <td>1</td>\n      <td>5.20</td>\n      <td>1.20</td>\n      <td>1.0</td>\n      <td>5.32</td>\n      <td>1.20</td>\n      <td>0.0</td>\n      <td>5.44</td>\n      <td>1.36</td>\n    </tr>\n    <tr>\n      <th>195</th>\n      <td>1</td>\n      <td>5.32</td>\n      <td>1.20</td>\n      <td>0.0</td>\n      <td>5.44</td>\n      <td>1.36</td>\n      <td>1.0</td>\n      <td>5.57</td>\n      <td>1.24</td>\n    </tr>\n    <tr>\n      <th>210</th>\n      <td>0</td>\n      <td>5.44</td>\n      <td>1.36</td>\n      <td>1.0</td>\n      <td>5.57</td>\n      <td>1.24</td>\n      <td>1.0</td>\n      <td>5.70</td>\n      <td>1.07</td>\n    </tr>\n    <tr>\n      <th>225</th>\n      <td>1</td>\n      <td>5.57</td>\n      <td>1.24</td>\n      <td>1.0</td>\n      <td>5.70</td>\n      <td>1.07</td>\n      <td>0.0</td>\n      <td>5.60</td>\n      <td>1.22</td>\n    </tr>\n    <tr>\n      <th>240</th>\n      <td>1</td>\n      <td>5.70</td>\n      <td>1.07</td>\n      <td>0.0</td>\n      <td>5.60</td>\n      <td>1.22</td>\n      <td>0.0</td>\n      <td>5.49</td>\n      <td>1.22</td>\n    </tr>\n    <tr>\n      <th>270</th>\n      <td>0</td>\n      <td>5.49</td>\n      <td>1.22</td>\n      <td>0.0</td>\n      <td>5.39</td>\n      <td>1.48</td>\n      <td>0.0</td>\n      <td>5.30</td>\n      <td>1.53</td>\n    </tr>\n    <tr>\n      <th>285</th>\n      <td>0</td>\n      <td>5.39</td>\n      <td>1.48</td>\n      <td>0.0</td>\n      <td>5.30</td>\n      <td>1.53</td>\n      <td>1.0</td>\n      <td>5.39</td>\n      <td>1.12</td>\n    </tr>\n  </tbody>\n</table>\n</div>"
     },
     "metadata": {},
     "execution_count": 25
    }
   ],
   "source": [
    "out_of_bag\n"
   ]
  }
 ],
 "metadata": {
  "kernelspec": {
   "display_name": "Python 3.6.9 64-bit ('env': venv)",
   "language": "python",
   "name": "python36964bitenvvenv81aefc999cfb4ab5984f7e1afcec60e1"
  },
  "language_info": {
   "codemirror_mode": {
    "name": "ipython",
    "version": 3
   },
   "file_extension": ".py",
   "mimetype": "text/x-python",
   "name": "python",
   "nbconvert_exporter": "python",
   "pygments_lexer": "ipython3",
   "version": "3.6.9-final"
  }
 },
 "nbformat": 4,
 "nbformat_minor": 4
}