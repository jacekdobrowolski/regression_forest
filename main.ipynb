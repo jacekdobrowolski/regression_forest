{
 "cells": [
  {
   "cell_type": "code",
   "execution_count": 29,
   "metadata": {},
   "outputs": [],
   "source": [
    "import numpy as np\n",
    "import pandas as pd\n",
    "import matplotlib.pyplot as plt\n",
    "import statsmodels.api as sm\n",
    "from scipy.stats import pearsonr, spearmanr\n",
    "%matplotlib inline"
   ]
  },
  {
   "cell_type": "code",
   "execution_count": 30,
   "metadata": {},
   "outputs": [
    {
     "output_type": "execute_result",
     "data": {
      "text/plain": "   czas(min)  alpha  temp    Ts\n0          0      1  6,50     2\n1         15      0  6,35  2,18\n2         30      0  6,20  2,19\n3         45      1  6,05  1,68\n4         60      1  5,90   1,5",
      "text/html": "<div>\n<style scoped>\n    .dataframe tbody tr th:only-of-type {\n        vertical-align: middle;\n    }\n\n    .dataframe tbody tr th {\n        vertical-align: top;\n    }\n\n    .dataframe thead th {\n        text-align: right;\n    }\n</style>\n<table border=\"1\" class=\"dataframe\">\n  <thead>\n    <tr style=\"text-align: right;\">\n      <th></th>\n      <th>czas(min)</th>\n      <th>alpha</th>\n      <th>temp</th>\n      <th>Ts</th>\n    </tr>\n  </thead>\n  <tbody>\n    <tr>\n      <th>0</th>\n      <td>0</td>\n      <td>1</td>\n      <td>6,50</td>\n      <td>2</td>\n    </tr>\n    <tr>\n      <th>1</th>\n      <td>15</td>\n      <td>0</td>\n      <td>6,35</td>\n      <td>2,18</td>\n    </tr>\n    <tr>\n      <th>2</th>\n      <td>30</td>\n      <td>0</td>\n      <td>6,20</td>\n      <td>2,19</td>\n    </tr>\n    <tr>\n      <th>3</th>\n      <td>45</td>\n      <td>1</td>\n      <td>6,05</td>\n      <td>1,68</td>\n    </tr>\n    <tr>\n      <th>4</th>\n      <td>60</td>\n      <td>1</td>\n      <td>5,90</td>\n      <td>1,5</td>\n    </tr>\n  </tbody>\n</table>\n</div>"
     },
     "metadata": {},
     "execution_count": 30
    }
   ],
   "source": [
    "df = pd.read_csv('alpha24_step15Stud.csv')\n",
    "df.head()"
   ]
  },
  {
   "cell_type": "code",
   "execution_count": 31,
   "metadata": {},
   "outputs": [],
   "source": [
    "df['temp'] = df['temp'].apply(lambda x: x.replace(',','.')).astype('float64')\n",
    "df['Ts'] = df['Ts'].apply(lambda x: x.replace(',','.')).astype('float64')"
   ]
  },
  {
   "cell_type": "code",
   "execution_count": 32,
   "metadata": {},
   "outputs": [
    {
     "output_type": "execute_result",
     "data": {
      "text/plain": "   czas(min)  alpha  temp    Ts\n0          0      1  6.50  2.00\n1         15      0  6.35  2.18\n2         30      0  6.20  2.19\n3         45      1  6.05  1.68\n4         60      1  5.90  1.50",
      "text/html": "<div>\n<style scoped>\n    .dataframe tbody tr th:only-of-type {\n        vertical-align: middle;\n    }\n\n    .dataframe tbody tr th {\n        vertical-align: top;\n    }\n\n    .dataframe thead th {\n        text-align: right;\n    }\n</style>\n<table border=\"1\" class=\"dataframe\">\n  <thead>\n    <tr style=\"text-align: right;\">\n      <th></th>\n      <th>czas(min)</th>\n      <th>alpha</th>\n      <th>temp</th>\n      <th>Ts</th>\n    </tr>\n  </thead>\n  <tbody>\n    <tr>\n      <th>0</th>\n      <td>0</td>\n      <td>1</td>\n      <td>6.50</td>\n      <td>2.00</td>\n    </tr>\n    <tr>\n      <th>1</th>\n      <td>15</td>\n      <td>0</td>\n      <td>6.35</td>\n      <td>2.18</td>\n    </tr>\n    <tr>\n      <th>2</th>\n      <td>30</td>\n      <td>0</td>\n      <td>6.20</td>\n      <td>2.19</td>\n    </tr>\n    <tr>\n      <th>3</th>\n      <td>45</td>\n      <td>1</td>\n      <td>6.05</td>\n      <td>1.68</td>\n    </tr>\n    <tr>\n      <th>4</th>\n      <td>60</td>\n      <td>1</td>\n      <td>5.90</td>\n      <td>1.50</td>\n    </tr>\n  </tbody>\n</table>\n</div>"
     },
     "metadata": {},
     "execution_count": 32
    }
   ],
   "source": [
    "df.head()"
   ]
  },
  {
   "cell_type": "code",
   "execution_count": 33,
   "metadata": {},
   "outputs": [
    {
     "output_type": "execute_result",
     "data": {
      "text/plain": "      compressor  ambient_temp  refrigerator_temp\ntime                                             \n0              1          6.50               2.00\n15             0          6.35               2.18\n30             0          6.20               2.19\n45             1          6.05               1.68\n60             1          5.90               1.50",
      "text/html": "<div>\n<style scoped>\n    .dataframe tbody tr th:only-of-type {\n        vertical-align: middle;\n    }\n\n    .dataframe tbody tr th {\n        vertical-align: top;\n    }\n\n    .dataframe thead th {\n        text-align: right;\n    }\n</style>\n<table border=\"1\" class=\"dataframe\">\n  <thead>\n    <tr style=\"text-align: right;\">\n      <th></th>\n      <th>compressor</th>\n      <th>ambient_temp</th>\n      <th>refrigerator_temp</th>\n    </tr>\n    <tr>\n      <th>time</th>\n      <th></th>\n      <th></th>\n      <th></th>\n    </tr>\n  </thead>\n  <tbody>\n    <tr>\n      <th>0</th>\n      <td>1</td>\n      <td>6.50</td>\n      <td>2.00</td>\n    </tr>\n    <tr>\n      <th>15</th>\n      <td>0</td>\n      <td>6.35</td>\n      <td>2.18</td>\n    </tr>\n    <tr>\n      <th>30</th>\n      <td>0</td>\n      <td>6.20</td>\n      <td>2.19</td>\n    </tr>\n    <tr>\n      <th>45</th>\n      <td>1</td>\n      <td>6.05</td>\n      <td>1.68</td>\n    </tr>\n    <tr>\n      <th>60</th>\n      <td>1</td>\n      <td>5.90</td>\n      <td>1.50</td>\n    </tr>\n  </tbody>\n</table>\n</div>"
     },
     "metadata": {},
     "execution_count": 33
    }
   ],
   "source": [
    "df.rename(columns={\"czas(min)\": \"time\", \"alpha\": \"compressor\", \"temp\": 'ambient_temp', \"Ts\": 'refrigerator_temp'}, inplace=True)\n",
    "df.set_index('time', inplace=True)\n",
    "df.head()"
   ]
  },
  {
   "cell_type": "code",
   "execution_count": null,
   "metadata": {},
   "outputs": [],
   "source": []
  },
  {
   "cell_type": "code",
   "execution_count": 34,
   "metadata": {},
   "outputs": [
    {
     "output_type": "execute_result",
     "data": {
      "text/plain": "array([[ 1.  ,  6.5 ,  2.  , ...,  0.  ,  5.26,  1.82],\n       [ 0.  ,  5.23,  1.86, ...,  0.  ,  5.39,  1.48],\n       [ 0.  ,  5.3 ,  1.53, ...,  1.  ,  5.99,  0.9 ],\n       ...,\n       [ 0.  ,  1.97, -1.98, ...,  0.  ,  1.23, -1.93],\n       [ 0.  ,  1.2 , -1.92, ...,  0.  ,  2.01, -2.07],\n       [ 1.  ,  2.13, -2.17, ...,  1.  ,  4.01, -2.48]])"
     },
     "metadata": {},
     "execution_count": 34
    }
   ],
   "source": [
    "size = 1000\n",
    "delay = 100\n",
    "\n",
    "a = df.iloc[0:size,:].to_numpy().reshape(delay,size*3//delay)\n",
    "a"
   ]
  },
  {
   "cell_type": "code",
   "execution_count": 35,
   "metadata": {},
   "outputs": [],
   "source": [
    "from random_forest.tree import Tree"
   ]
  },
  {
   "cell_type": "code",
   "execution_count": 36,
   "metadata": {},
   "outputs": [
    {
     "output_type": "stream",
     "name": "stdout",
     "text": "predict tree is called\npredict branch is called\npredict branch is called\npredict branch is called\npredict branch is called\npredict branch is called\npredict branch is called\n[ 1.    4.2  -2.5   1.    4.39 -2.51  1.    4.57 -2.52  1.    4.74 -2.53\n  1.    4.9  -2.54  1.    5.05 -2.55  1.    5.18 -2.56  1.    5.3  -2.57\n  1.    5.4  -2.57  0.    5.35 -2.35] -2.486666666666667\n"
    }
   ],
   "source": [
    "myTree = Tree(a,4)\n",
    "test_data = df.iloc[1000:1010,:].to_numpy().reshape(30)\n",
    "print(test_data, myTree.predict(test_data))"
   ]
  },
  {
   "cell_type": "code",
   "execution_count": 37,
   "metadata": {},
   "outputs": [
    {
     "output_type": "stream",
     "name": "stdout",
     "text": "\n        Branch:\n            if <= 26_-1.15:\n                \n        Branch:\n            if <= 23_-2.14:\n                \n        Branch:\n            if <= 26_-2.6:\n                \n        Branch:\n            if <= 26_-2.91:\n                Leaf: -3.0033333333333334\n            else:\n                \n        Branch:\n            if <= 2_-2.84:\n                \n        Branch:\n            if <= 1_1.04:\n                Leaf: -2.6\n            else:\n                Leaf: -2.6799999999999997  \n        \n            else:\n                Leaf: -2.8233333333333337  \n          \n        \n            else:\n                \n        Branch:\n            if <= 1_4.6:\n                \n        Branch:\n            if <= 17_-2.41:\n                \n        Branch:\n            if <= 19_3.26:\n                Leaf: -2.533333333333333\n            else:\n                Leaf: -2.486666666666667  \n        \n            else:\n                Leaf: -2.5833333333333335  \n        \n            else:\n                Leaf: -2.26  \n          \n        \n            else:\n                \n        Branch:\n            if <= 23_-1.54:\n                \n        Branch:\n            if <= 26_-1.91:\n                \n        Branch:\n            if <= 1_0.0:\n                Leaf: -2.24\n            else:\n                \n        Branch:\n            if <= 15_0.0:\n                Leaf: -1.9666666666666666\n            else:\n                \n        Branch:\n            if <= 2_-2.08:\n                Leaf: -2.0949999999999998\n            else:\n                Leaf: -2.0599999999999996  \n          \n          \n        \n            else:\n                \n        Branch:\n            if <= 26_-1.73:\n                \n        Branch:\n            if <= 8_-1.9:\n                Leaf: -1.73\n            else:\n                \n        Branch:\n            if <= 9_0.0:\n                Leaf: -1.8966666666666665\n            else:\n                \n        Branch:\n            if <= 1_2.0:\n                Leaf: -1.82\n            else:\n                Leaf: -1.86  \n          \n          \n        \n            else:\n                \n        Branch:\n            if <= 2_-1.75:\n                \n        Branch:\n            if <= 1_4.12:\n                Leaf: -1.7133333333333332\n            else:\n                Leaf: -1.61  \n        \n            else:\n                Leaf: -1.58  \n          \n          \n        \n            else:\n                \n        Branch:\n            if <= 1_3.34:\n                Leaf: -1.335\n            else:\n                \n        Branch:\n            if <= 12_0.0:\n                Leaf: -1.1833333333333333\n            else:\n                Leaf: -1.13  \n          \n          \n          \n        \n            else:\n                \n        Branch:\n            if <= 26_0.02:\n                \n        Branch:\n            if <= 23_-0.34:\n                \n        Branch:\n            if <= 17_-0.77:\n                \n        Branch:\n            if <= 3_0.0:\n                Leaf: -0.73\n            else:\n                \n        Branch:\n            if <= 18_0.0:\n                Leaf: -1.095\n            else:\n                \n        Branch:\n            if <= 17_-1.21:\n                Leaf: -1.08\n            else:\n                Leaf: -0.9166666666666666  \n          \n          \n        \n            else:\n                \n        Branch:\n            if <= 5_-0.75:\n                Leaf: -0.48\n            else:\n                \n        Branch:\n            if <= 8_-0.57:\n                Leaf: -0.75\n            else:\n                \n        Branch:\n            if <= 6_0.0:\n                \n        Branch:\n            if <= 14_-0.43:\n                Leaf: -0.6950000000000001\n            else:\n                \n        Branch:\n            if <= 5_-0.04:\n                Leaf: -0.5833333333333334\n            else:\n                Leaf: -0.65  \n          \n        \n            else:\n                Leaf: -0.49  \n          \n          \n          \n        \n            else:\n                \n        Branch:\n            if <= 26_-0.35:\n                Leaf: -0.3333333333333333\n            else:\n                Leaf: -0.09000000000000001  \n          \n        \n            else:\n                \n        Branch:\n            if <= 23_0.81:\n                \n        Branch:\n            if <= 26_0.27:\n                \n        Branch:\n            if <= 26_0.12:\n                Leaf: 0.13333333333333333\n            else:\n                Leaf: 0.24  \n        \n            else:\n                \n        Branch:\n            if <= 26_0.49:\n                Leaf: 0.4666666666666666\n            else:\n                \n        Branch:\n            if <= 2_0.8:\n                \n        Branch:\n            if <= 23_0.71:\n                \n        Branch:\n            if <= 2_-0.37:\n                Leaf: 0.68\n            else:\n                \n        Branch:\n            if <= 1_7.2:\n                Leaf: 0.585\n            else:\n                Leaf: 0.62  \n          \n        \n            else:\n                Leaf: 0.48  \n        \n            else:\n                Leaf: 0.7133333333333334  \n          \n          \n        \n            else:\n                \n        Branch:\n            if <= 9_0.0:\n                Leaf: 0.94\n            else:\n                Leaf: 1.5599999999999998  \n          \n          \n          \n        \n"
    }
   ],
   "source": [
    "print(myTree.root)"
   ]
  },
  {
   "cell_type": "code",
   "execution_count": null,
   "metadata": {},
   "outputs": [],
   "source": []
  }
 ],
 "metadata": {
  "kernelspec": {
   "display_name": "Python 3.8.2 64-bit ('env': venv)",
   "language": "python",
   "name": "python38264bitenvvenv143f3d7cb84140ac993f36096aed9a8e"
  },
  "language_info": {
   "codemirror_mode": {
    "name": "ipython",
    "version": 3
   },
   "file_extension": ".py",
   "mimetype": "text/x-python",
   "name": "python",
   "nbconvert_exporter": "python",
   "pygments_lexer": "ipython3",
   "version": "3.8.2-final"
  }
 },
 "nbformat": 4,
 "nbformat_minor": 4
}