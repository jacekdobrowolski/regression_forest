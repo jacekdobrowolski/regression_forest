{
 "cells": [
  {
   "cell_type": "code",
   "execution_count": 1,
   "metadata": {},
   "outputs": [],
   "source": [
    "import numpy as np\n",
    "import pandas as pd\n",
    "import matplotlib.pyplot as plt\n",
    "import statsmodels.api as sm\n",
    "from scipy.stats import pearsonr, spearmanr\n",
    "%matplotlib inline"
   ]
  },
  {
   "cell_type": "code",
   "execution_count": 2,
   "metadata": {},
   "outputs": [
    {
     "output_type": "execute_result",
     "data": {
      "text/plain": "   czas(min)  alpha  temp    Ts\n0          0      1  6,50     2\n1         15      0  6,35  2,18\n2         30      0  6,20  2,19\n3         45      1  6,05  1,68\n4         60      1  5,90   1,5",
      "text/html": "<div>\n<style scoped>\n    .dataframe tbody tr th:only-of-type {\n        vertical-align: middle;\n    }\n\n    .dataframe tbody tr th {\n        vertical-align: top;\n    }\n\n    .dataframe thead th {\n        text-align: right;\n    }\n</style>\n<table border=\"1\" class=\"dataframe\">\n  <thead>\n    <tr style=\"text-align: right;\">\n      <th></th>\n      <th>czas(min)</th>\n      <th>alpha</th>\n      <th>temp</th>\n      <th>Ts</th>\n    </tr>\n  </thead>\n  <tbody>\n    <tr>\n      <th>0</th>\n      <td>0</td>\n      <td>1</td>\n      <td>6,50</td>\n      <td>2</td>\n    </tr>\n    <tr>\n      <th>1</th>\n      <td>15</td>\n      <td>0</td>\n      <td>6,35</td>\n      <td>2,18</td>\n    </tr>\n    <tr>\n      <th>2</th>\n      <td>30</td>\n      <td>0</td>\n      <td>6,20</td>\n      <td>2,19</td>\n    </tr>\n    <tr>\n      <th>3</th>\n      <td>45</td>\n      <td>1</td>\n      <td>6,05</td>\n      <td>1,68</td>\n    </tr>\n    <tr>\n      <th>4</th>\n      <td>60</td>\n      <td>1</td>\n      <td>5,90</td>\n      <td>1,5</td>\n    </tr>\n  </tbody>\n</table>\n</div>"
     },
     "metadata": {},
     "execution_count": 2
    }
   ],
   "source": [
    "df = pd.read_csv('alpha24_step15Stud.csv')\n",
    "df.head()"
   ]
  },
  {
   "cell_type": "code",
   "execution_count": 3,
   "metadata": {},
   "outputs": [],
   "source": [
    "df['temp'] = df['temp'].apply(lambda x: x.replace(',','.')).astype('float64')\n",
    "df['Ts'] = df['Ts'].apply(lambda x: x.replace(',','.')).astype('float64')"
   ]
  },
  {
   "cell_type": "code",
   "execution_count": 4,
   "metadata": {},
   "outputs": [
    {
     "output_type": "execute_result",
     "data": {
      "text/plain": "   czas(min)  alpha  temp    Ts\n0          0      1  6.50  2.00\n1         15      0  6.35  2.18\n2         30      0  6.20  2.19\n3         45      1  6.05  1.68\n4         60      1  5.90  1.50",
      "text/html": "<div>\n<style scoped>\n    .dataframe tbody tr th:only-of-type {\n        vertical-align: middle;\n    }\n\n    .dataframe tbody tr th {\n        vertical-align: top;\n    }\n\n    .dataframe thead th {\n        text-align: right;\n    }\n</style>\n<table border=\"1\" class=\"dataframe\">\n  <thead>\n    <tr style=\"text-align: right;\">\n      <th></th>\n      <th>czas(min)</th>\n      <th>alpha</th>\n      <th>temp</th>\n      <th>Ts</th>\n    </tr>\n  </thead>\n  <tbody>\n    <tr>\n      <th>0</th>\n      <td>0</td>\n      <td>1</td>\n      <td>6.50</td>\n      <td>2.00</td>\n    </tr>\n    <tr>\n      <th>1</th>\n      <td>15</td>\n      <td>0</td>\n      <td>6.35</td>\n      <td>2.18</td>\n    </tr>\n    <tr>\n      <th>2</th>\n      <td>30</td>\n      <td>0</td>\n      <td>6.20</td>\n      <td>2.19</td>\n    </tr>\n    <tr>\n      <th>3</th>\n      <td>45</td>\n      <td>1</td>\n      <td>6.05</td>\n      <td>1.68</td>\n    </tr>\n    <tr>\n      <th>4</th>\n      <td>60</td>\n      <td>1</td>\n      <td>5.90</td>\n      <td>1.50</td>\n    </tr>\n  </tbody>\n</table>\n</div>"
     },
     "metadata": {},
     "execution_count": 4
    }
   ],
   "source": [
    "df.head()"
   ]
  },
  {
   "cell_type": "code",
   "execution_count": 5,
   "metadata": {},
   "outputs": [
    {
     "output_type": "execute_result",
     "data": {
      "text/plain": "      compressor  ambient_temp  refrigerator_temp\ntime                                             \n0              1          6.50               2.00\n15             0          6.35               2.18\n30             0          6.20               2.19\n45             1          6.05               1.68\n60             1          5.90               1.50",
      "text/html": "<div>\n<style scoped>\n    .dataframe tbody tr th:only-of-type {\n        vertical-align: middle;\n    }\n\n    .dataframe tbody tr th {\n        vertical-align: top;\n    }\n\n    .dataframe thead th {\n        text-align: right;\n    }\n</style>\n<table border=\"1\" class=\"dataframe\">\n  <thead>\n    <tr style=\"text-align: right;\">\n      <th></th>\n      <th>compressor</th>\n      <th>ambient_temp</th>\n      <th>refrigerator_temp</th>\n    </tr>\n    <tr>\n      <th>time</th>\n      <th></th>\n      <th></th>\n      <th></th>\n    </tr>\n  </thead>\n  <tbody>\n    <tr>\n      <th>0</th>\n      <td>1</td>\n      <td>6.50</td>\n      <td>2.00</td>\n    </tr>\n    <tr>\n      <th>15</th>\n      <td>0</td>\n      <td>6.35</td>\n      <td>2.18</td>\n    </tr>\n    <tr>\n      <th>30</th>\n      <td>0</td>\n      <td>6.20</td>\n      <td>2.19</td>\n    </tr>\n    <tr>\n      <th>45</th>\n      <td>1</td>\n      <td>6.05</td>\n      <td>1.68</td>\n    </tr>\n    <tr>\n      <th>60</th>\n      <td>1</td>\n      <td>5.90</td>\n      <td>1.50</td>\n    </tr>\n  </tbody>\n</table>\n</div>"
     },
     "metadata": {},
     "execution_count": 5
    }
   ],
   "source": [
    "df.rename(columns={\"czas(min)\": \"time\", \"alpha\": \"compressor\", \"temp\": 'ambient_temp', \"Ts\": 'refrigerator_temp'}, inplace=True)\n",
    "df.set_index('time', inplace=True)\n",
    "df.head()"
   ]
  },
  {
   "cell_type": "code",
   "execution_count": null,
   "metadata": {},
   "outputs": [],
   "source": []
  },
  {
   "cell_type": "code",
   "execution_count": 6,
   "metadata": {},
   "outputs": [
    {
     "output_type": "execute_result",
     "data": {
      "text/plain": "array([[1.  , 6.5 , 2.  ],\n       [0.  , 6.35, 2.18],\n       [0.  , 6.2 , 2.19],\n       [1.  , 6.05, 1.68],\n       [1.  , 5.9 , 1.5 ],\n       [0.  , 5.74, 1.64],\n       [0.  , 5.59, 1.62],\n       [0.  , 5.44, 1.56],\n       [0.  , 5.3 , 1.54],\n       [0.  , 5.26, 1.82],\n       [0.  , 5.23, 1.86],\n       [0.  , 5.21, 1.89]])"
     },
     "metadata": {},
     "execution_count": 6
    }
   ],
   "source": [
    "size = 12\n",
    "delay = 12\n",
    "a = df.iloc[0:size,:].to_numpy().reshape(delay,size*3//delay)\n",
    "a"
   ]
  },
  {
   "cell_type": "code",
   "execution_count": 7,
   "metadata": {},
   "outputs": [
    {
     "output_type": "stream",
     "name": "stdout",
     "text": "0 [[0.   6.35 2.18]\n [0.   6.2  2.19]\n [0.   5.74 1.64]\n [0.   5.59 1.62]\n [0.   5.44 1.56]\n [0.   5.3  1.54]\n [0.   5.26 1.82]\n [0.   5.23 1.86]\n [0.   5.21 1.89]\n [1.   6.5  2.  ]\n [1.   6.05 1.68]\n [1.   5.9  1.5 ]] \n\n1 [[0.   5.21 1.89]\n [0.   5.23 1.86]\n [0.   5.26 1.82]\n [0.   5.3  1.54]\n [0.   5.44 1.56]\n [0.   5.59 1.62]\n [0.   5.74 1.64]\n [1.   5.9  1.5 ]\n [1.   6.05 1.68]\n [0.   6.2  2.19]\n [0.   6.35 2.18]\n [1.   6.5  2.  ]] \n\n"
    }
   ],
   "source": [
    "for predictor in range(a.shape[1] - 1):\n",
    "    sorted_predictor = a[:,predictor].argsort()\n",
    "    b = a[sorted_predictor]\n",
    "    print(predictor, b, \"\\n\")\n"
   ]
  },
  {
   "cell_type": "code",
   "execution_count": 8,
   "metadata": {},
   "outputs": [
    {
     "output_type": "stream",
     "name": "stdout",
     "text": "array: [1.89] ssr = 0.0 \n             array [1.86 1.82 1.54 1.56 1.62 1.64 1.5  1.68 2.19 2.18 2.  ] ssr = 0.6240909090909093 \n             SSR=0.6240909090909093\narray: [1.89 1.86] ssr = 0.00044999999999999413 \n             array [1.82 1.54 1.56 1.62 1.64 1.5  1.68 2.19 2.18 2.  ] ssr = 0.61721 \n             SSR=0.61766\narray: [1.89 1.86 1.82] ssr = 0.002466666666666656 \n             array [1.54 1.56 1.62 1.64 1.5  1.68 2.19 2.18 2.  ] ssr = 0.6147555555555556 \n             SSR=0.6172222222222222\narray: [1.89 1.86 1.82 1.54] ssr = 0.07767499999999998 \n             array [1.56 1.62 1.64 1.5  1.68 2.19 2.18 2.  ] ssr = 0.5563875 \n             SSR=0.6340625\narray: [1.89 1.86 1.82 1.54 1.56] ssr = 0.11551999999999996 \n             array [1.62 1.64 1.5  1.68 2.19 2.18 2.  ] ssr = 0.4926000000000001 \n             SSR=0.60812\narray: [1.89 1.86 1.82 1.54 1.56 1.62] ssr = 0.12634999999999996 \n             array [1.64 1.5  1.68 2.19 2.18 2.  ] ssr = 0.4411500000000001 \n             SSR=0.5675000000000001\narray: [1.89 1.86 1.82 1.54 1.56 1.62 1.64] ssr = 0.13117142857142855 \n             array [1.5  1.68 2.19 2.18 2.  ] ssr = 0.38040000000000007 \n             SSR=0.5115714285714286\narray: [1.89 1.86 1.82 1.54 1.56 1.62 1.64 1.5 ] ssr = 0.1676875 \n             array [1.68 2.19 2.18 2.  ] ssr = 0.1702750000000001 \n             SSR=0.33796250000000005\narray: [1.89 1.86 1.82 1.54 1.56 1.62 1.64 1.5  1.68] ssr = 0.1676888888888889 \n             array [2.19 2.18 2.  ] ssr = 0.022866666666666677 \n             SSR=0.19055555555555556\narray: [1.89 1.86 1.82 1.54 1.56 1.62 1.64 1.5  1.68 2.19] ssr = 0.40279999999999994 \n             array [2.18 2.  ] ssr = 0.01620000000000003 \n             SSR=0.419\narray: [1.89 1.86 1.82 1.54 1.56 1.62 1.64 1.5  1.68 2.19 2.18] ssr = 0.5868909090909091 \n             array [2.] ssr = 0.0 \n             SSR=0.5868909090909091\n"
    }
   ],
   "source": [
    "SSR = lambda a: ((a.mean() - a)**2).sum()\n",
    "\n",
    "for i in range(1,b.shape[0]):\n",
    "    ssr_1 = SSR(b[:i, -1])\n",
    "    ssr_2 = SSR(b[i:, -1])\n",
    "    print(f\"array: {b[:i, -1]} ssr = {ssr_1} \\n\\\n",
    "             array {b[i:, -1]} ssr = {ssr_2} \\n\\\n",
    "             SSR={ssr_1+ssr_2}\")"
   ]
  },
  {
   "cell_type": "code",
   "execution_count": 9,
   "metadata": {},
   "outputs": [
    {
     "output_type": "stream",
     "name": "stdout",
     "text": "[[1.   6.5  2.  ]\n [0.   6.35 2.18]\n [0.   6.2  2.19]\n [1.   6.05 1.68]\n [1.   5.9  1.5 ]\n [0.   5.74 1.64]\n [0.   5.59 1.62]\n [0.   5.44 1.56]\n [0.   5.3  1.54]\n [0.   5.26 1.82]\n [0.   5.23 1.86]\n [0.   5.21 1.89]]\n[[0.   6.2  2.19]\n [1.   6.05 1.68]\n [1.   5.9  1.5 ]\n [0.   5.74 1.64]\n [0.   5.59 1.62]\n [0.   5.44 1.56]\n [0.   5.3  1.54]\n [0.   5.26 1.82]\n [0.   5.23 1.86]\n [0.   5.21 1.89]]\n[[1.   6.5  2.  ]\n [0.   6.35 2.18]]\n"
    }
   ],
   "source": [
    "print(a)\n",
    "predictor = 1\n",
    "value = 6.2\n",
    "print(a[np.argwhere(a[:,predictor] <= value).flatten()])\n",
    "print(a[np.argwhere(a[:,predictor] > value).flatten()])"
   ]
  },
  {
   "cell_type": "code",
   "execution_count": 10,
   "metadata": {},
   "outputs": [],
   "source": [
    "from random_forest.tree import Tree"
   ]
  },
  {
   "cell_type": "code",
   "execution_count": 11,
   "metadata": {},
   "outputs": [
    {
     "output_type": "stream",
     "name": "stdout",
     "text": "Branch is created training_data: [[1.   6.5  2.  ]\n [0.   6.35 2.18]\n [0.   6.2  2.19]\n [1.   6.05 1.68]\n [1.   5.9  1.5 ]\n [0.   5.74 1.64]\n [0.   5.59 1.62]\n [0.   5.44 1.56]\n [0.   5.3  1.54]\n [0.   5.26 1.82]\n [0.   5.23 1.86]\n [0.   5.21 1.89]]\nWYJEBAŁEM SIĘ NA RYJA KURWA\nWYJEBAŁEM SIĘ NA RYJA KURWA\nWYJEBAŁEM SIĘ NA RYJA KURWA\nWYJEBAŁEM SIĘ NA RYJA KURWA\nWYJEBAŁEM SIĘ NA RYJA KURWA\nWYJEBAŁEM SIĘ NA RYJA KURWA\nWYJEBAŁEM SIĘ NA RYJA KURWA\nWYJEBAŁEM SIĘ NA RYJA KURWA\nWYJEBAŁEM SIĘ NA RYJA KURWA\nWYJEBAŁEM SIĘ NA RYJA KURWA\nWYJEBAŁEM SIĘ NA RYJA KURWA\nWYJEBAŁEM SIĘ NA RYJA KURWA\nWYJEBAŁEM SIĘ NA RYJA KURWA\nWYJEBAŁEM SIĘ NA RYJA KURWA\nWYJEBAŁEM SIĘ NA RYJA KURWA\nWYJEBAŁEM SIĘ NA RYJA KURWA\nWYJEBAŁEM SIĘ NA RYJA KURWA\nWYJEBAŁEM SIĘ NA RYJA KURWA\nWYJEBAŁEM SIĘ NA RYJA KURWA\nBranch is created training_data: [[0.   5.74 1.64]\n [0.   5.59 1.62]\n [0.   5.44 1.56]\n [0.   5.3  1.54]\n [0.   5.26 1.82]\n [0.   5.23 1.86]\n [0.   5.21 1.89]]\nWYJEBAŁEM SIĘ NA RYJA KURWA\nWYJEBAŁEM SIĘ NA RYJA KURWA\nWYJEBAŁEM SIĘ NA RYJA KURWA\nWYJEBAŁEM SIĘ NA RYJA KURWA\nWYJEBAŁEM SIĘ NA RYJA KURWA\nWYJEBAŁEM SIĘ NA RYJA KURWA\nWYJEBAŁEM SIĘ NA RYJA KURWA\nBranch is created training_data: [[0.   5.44 1.56]\n [0.   5.3  1.54]\n [0.   5.26 1.82]\n [0.   5.23 1.86]\n [0.   5.21 1.89]]\nWYJEBAŁEM SIĘ NA RYJA KURWA\nWYJEBAŁEM SIĘ NA RYJA KURWA\nWYJEBAŁEM SIĘ NA RYJA KURWA\nWYJEBAŁEM SIĘ NA RYJA KURWA\nWYJEBAŁEM SIĘ NA RYJA KURWA\nLeaf is created training_data: 2.3666666666666667\nLeaf is created training_data: 2.28\nCondition(index=1, value=5.26)\nLeaf is created training_data: 2.4033333333333333\nCondition(index=1, value=5.44)\nBranch is created training_data: [[1.   6.5  2.  ]\n [0.   6.35 2.18]\n [0.   6.2  2.19]\n [1.   6.05 1.68]\n [1.   5.9  1.5 ]]\nWYJEBAŁEM SIĘ NA RYJA KURWA\nWYJEBAŁEM SIĘ NA RYJA KURWA\nWYJEBAŁEM SIĘ NA RYJA KURWA\nWYJEBAŁEM SIĘ NA RYJA KURWA\nWYJEBAŁEM SIĘ NA RYJA KURWA\nBranch is created training_data: [[0.   6.35 2.18]\n [0.   6.2  2.19]\n [1.   6.05 1.68]\n [1.   5.9  1.5 ]]\nWYJEBAŁEM SIĘ NA RYJA KURWA\nWYJEBAŁEM SIĘ NA RYJA KURWA\nWYJEBAŁEM SIĘ NA RYJA KURWA\nWYJEBAŁEM SIĘ NA RYJA KURWA\nWYJEBAŁEM SIĘ NA RYJA KURWA\nLeaf is created training_data: 2.796666666666667\nLeaf is created training_data: 2.8000000000000003\nCondition(index=0, value=0.0)\nLeaf is created training_data: 3.1666666666666665\nCondition(index=1, value=6.35)\nCondition(index=1, value=5.74)\n"
    }
   ],
   "source": [
    "myTree = Tree(a,4)"
   ]
  },
  {
   "cell_type": "code",
   "execution_count": 12,
   "metadata": {},
   "outputs": [
    {
     "output_type": "execute_result",
     "data": {
      "text/plain": "12"
     },
     "metadata": {},
     "execution_count": 12
    }
   ],
   "source": [
    "a.shape[0]"
   ]
  },
  {
   "cell_type": "code",
   "execution_count": 26,
   "metadata": {},
   "outputs": [
    {
     "output_type": "stream",
     "name": "stdout",
     "text": "[[0.   6.35 2.18]\n [0.   6.2  2.19]\n [0.   5.74 1.64]\n [0.   5.59 1.62]\n [0.   5.44 1.56]\n [0.   5.3  1.54]\n [0.   5.26 1.82]\n [0.   5.23 1.86]\n [0.   5.21 1.89]\n [1.   6.5  2.  ]\n [1.   6.05 1.68]\n [1.   5.9  1.5 ]]\n[0 9]\n"
    }
   ],
   "source": [
    "b = a[a[:,0].argsort()]\n",
    "print(b)\n",
    "print(np.unique(b[:,0], return_index=True)[1])"
   ]
  },
  {
   "cell_type": "code",
   "execution_count": 31,
   "metadata": {},
   "outputs": [
    {
     "output_type": "stream",
     "name": "stdout",
     "text": "[[1.   6.5  2.  ]\n [0.   6.35 2.18]\n [0.   6.2  2.19]\n [1.   6.05 1.68]\n [1.   5.9  1.5 ]\n [0.   5.74 1.64]\n [0.   5.59 1.62]\n [0.   5.44 1.56]\n [0.   5.3  1.54]\n [0.   5.26 1.82]\n [0.   5.23 1.86]\n [0.   5.21 1.89]] 197.00969722222223\n0.635\n"
    }
   ],
   "source": [
    "def SSR(a): return ((a.mean() - a)**2).sum()\n",
    "print(a, SSR(a))\n",
    "a_mean = a[:,-1].mean()\n",
    "sum = 0\n",
    "for i in a[:,-1]:\n",
    "    sum += (a_mean - i)**2\n",
    "print(sum)"
   ]
  },
  {
   "cell_type": "code",
   "execution_count": 33,
   "metadata": {},
   "outputs": [
    {
     "output_type": "execute_result",
     "data": {
      "text/plain": "5.23"
     },
     "metadata": {},
     "execution_count": 33
    }
   ],
   "source": [
    "test_data = np.array([0.0,   5.23, 1.86])\n",
    "test_data[1]"
   ]
  }
 ],
 "metadata": {
  "kernelspec": {
   "display_name": "Python 3.8.2 64-bit ('env': venv)",
   "language": "python",
   "name": "python38264bitenvvenv143f3d7cb84140ac993f36096aed9a8e"
  },
  "language_info": {
   "codemirror_mode": {
    "name": "ipython",
    "version": 3
   },
   "file_extension": ".py",
   "mimetype": "text/x-python",
   "name": "python",
   "nbconvert_exporter": "python",
   "pygments_lexer": "ipython3",
   "version": "3.8.2-final"
  }
 },
 "nbformat": 4,
 "nbformat_minor": 4
}