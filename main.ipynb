{
 "cells": [
  {
   "cell_type": "code",
   "execution_count": 2,
   "metadata": {},
   "outputs": [],
   "source": [
    "import numpy as np\n",
    "import pandas as pd\n",
    "import matplotlib.pyplot as plt\n",
    "import statsmodels.api as sm\n",
    "from scipy.stats import pearsonr, spearmanr\n",
    "%matplotlib inline"
   ]
  },
  {
   "cell_type": "code",
   "execution_count": 3,
   "metadata": {},
   "outputs": [
    {
     "output_type": "execute_result",
     "data": {
      "text/plain": "   czas(min)  alpha  temp    Ts\n0          0      1  6,50     2\n1         15      0  6,35  2,18\n2         30      0  6,20  2,19\n3         45      1  6,05  1,68\n4         60      1  5,90   1,5",
      "text/html": "<div>\n<style scoped>\n    .dataframe tbody tr th:only-of-type {\n        vertical-align: middle;\n    }\n\n    .dataframe tbody tr th {\n        vertical-align: top;\n    }\n\n    .dataframe thead th {\n        text-align: right;\n    }\n</style>\n<table border=\"1\" class=\"dataframe\">\n  <thead>\n    <tr style=\"text-align: right;\">\n      <th></th>\n      <th>czas(min)</th>\n      <th>alpha</th>\n      <th>temp</th>\n      <th>Ts</th>\n    </tr>\n  </thead>\n  <tbody>\n    <tr>\n      <th>0</th>\n      <td>0</td>\n      <td>1</td>\n      <td>6,50</td>\n      <td>2</td>\n    </tr>\n    <tr>\n      <th>1</th>\n      <td>15</td>\n      <td>0</td>\n      <td>6,35</td>\n      <td>2,18</td>\n    </tr>\n    <tr>\n      <th>2</th>\n      <td>30</td>\n      <td>0</td>\n      <td>6,20</td>\n      <td>2,19</td>\n    </tr>\n    <tr>\n      <th>3</th>\n      <td>45</td>\n      <td>1</td>\n      <td>6,05</td>\n      <td>1,68</td>\n    </tr>\n    <tr>\n      <th>4</th>\n      <td>60</td>\n      <td>1</td>\n      <td>5,90</td>\n      <td>1,5</td>\n    </tr>\n  </tbody>\n</table>\n</div>"
     },
     "metadata": {},
     "execution_count": 3
    }
   ],
   "source": [
    "df = pd.read_csv('alpha24_step15Stud.csv')\n",
    "df.head()"
   ]
  },
  {
   "cell_type": "code",
   "execution_count": 4,
   "metadata": {},
   "outputs": [],
   "source": [
    "df['temp'] = df['temp'].apply(lambda x: x.replace(',','.')).astype('float64')\n",
    "df['Ts'] = df['Ts'].apply(lambda x: x.replace(',','.')).astype('float64')"
   ]
  },
  {
   "cell_type": "code",
   "execution_count": 5,
   "metadata": {},
   "outputs": [
    {
     "output_type": "execute_result",
     "data": {
      "text/plain": "   czas(min)  alpha  temp    Ts\n0          0      1  6.50  2.00\n1         15      0  6.35  2.18\n2         30      0  6.20  2.19\n3         45      1  6.05  1.68\n4         60      1  5.90  1.50",
      "text/html": "<div>\n<style scoped>\n    .dataframe tbody tr th:only-of-type {\n        vertical-align: middle;\n    }\n\n    .dataframe tbody tr th {\n        vertical-align: top;\n    }\n\n    .dataframe thead th {\n        text-align: right;\n    }\n</style>\n<table border=\"1\" class=\"dataframe\">\n  <thead>\n    <tr style=\"text-align: right;\">\n      <th></th>\n      <th>czas(min)</th>\n      <th>alpha</th>\n      <th>temp</th>\n      <th>Ts</th>\n    </tr>\n  </thead>\n  <tbody>\n    <tr>\n      <th>0</th>\n      <td>0</td>\n      <td>1</td>\n      <td>6.50</td>\n      <td>2.00</td>\n    </tr>\n    <tr>\n      <th>1</th>\n      <td>15</td>\n      <td>0</td>\n      <td>6.35</td>\n      <td>2.18</td>\n    </tr>\n    <tr>\n      <th>2</th>\n      <td>30</td>\n      <td>0</td>\n      <td>6.20</td>\n      <td>2.19</td>\n    </tr>\n    <tr>\n      <th>3</th>\n      <td>45</td>\n      <td>1</td>\n      <td>6.05</td>\n      <td>1.68</td>\n    </tr>\n    <tr>\n      <th>4</th>\n      <td>60</td>\n      <td>1</td>\n      <td>5.90</td>\n      <td>1.50</td>\n    </tr>\n  </tbody>\n</table>\n</div>"
     },
     "metadata": {},
     "execution_count": 5
    }
   ],
   "source": [
    "df.head()"
   ]
  },
  {
   "cell_type": "code",
   "execution_count": 6,
   "metadata": {},
   "outputs": [
    {
     "output_type": "execute_result",
     "data": {
      "text/plain": "      compressor  ambient_temp  refrigerator_temp\ntime                                             \n0              1          6.50               2.00\n15             0          6.35               2.18\n30             0          6.20               2.19\n45             1          6.05               1.68\n60             1          5.90               1.50",
      "text/html": "<div>\n<style scoped>\n    .dataframe tbody tr th:only-of-type {\n        vertical-align: middle;\n    }\n\n    .dataframe tbody tr th {\n        vertical-align: top;\n    }\n\n    .dataframe thead th {\n        text-align: right;\n    }\n</style>\n<table border=\"1\" class=\"dataframe\">\n  <thead>\n    <tr style=\"text-align: right;\">\n      <th></th>\n      <th>compressor</th>\n      <th>ambient_temp</th>\n      <th>refrigerator_temp</th>\n    </tr>\n    <tr>\n      <th>time</th>\n      <th></th>\n      <th></th>\n      <th></th>\n    </tr>\n  </thead>\n  <tbody>\n    <tr>\n      <th>0</th>\n      <td>1</td>\n      <td>6.50</td>\n      <td>2.00</td>\n    </tr>\n    <tr>\n      <th>15</th>\n      <td>0</td>\n      <td>6.35</td>\n      <td>2.18</td>\n    </tr>\n    <tr>\n      <th>30</th>\n      <td>0</td>\n      <td>6.20</td>\n      <td>2.19</td>\n    </tr>\n    <tr>\n      <th>45</th>\n      <td>1</td>\n      <td>6.05</td>\n      <td>1.68</td>\n    </tr>\n    <tr>\n      <th>60</th>\n      <td>1</td>\n      <td>5.90</td>\n      <td>1.50</td>\n    </tr>\n  </tbody>\n</table>\n</div>"
     },
     "metadata": {},
     "execution_count": 6
    }
   ],
   "source": [
    "df.rename(columns={\"czas(min)\": \"time\", \"alpha\": \"compressor\", \"temp\": 'ambient_temp', \"Ts\": 'refrigerator_temp'}, inplace=True)\n",
    "df.set_index('time', inplace=True)\n",
    "df.head()"
   ]
  },
  {
   "cell_type": "code",
   "execution_count": null,
   "metadata": {},
   "outputs": [],
   "source": []
  },
  {
   "cell_type": "code",
   "execution_count": 7,
   "metadata": {},
   "outputs": [
    {
     "output_type": "execute_result",
     "data": {
      "text/plain": "array([[1.  , 6.5 , 2.  , 0.  , 6.35, 2.18],\n       [0.  , 6.2 , 2.19, 1.  , 6.05, 1.68],\n       [1.  , 5.9 , 1.5 , 0.  , 5.74, 1.64]])"
     },
     "metadata": {},
     "execution_count": 7
    }
   ],
   "source": [
    "size = 6\n",
    "delay = 3\n",
    "a = df.iloc[0:size,:].to_numpy().reshape(delay,size*3//delay)\n",
    "a"
   ]
  },
  {
   "cell_type": "code",
   "execution_count": 8,
   "metadata": {},
   "outputs": [
    {
     "output_type": "stream",
     "name": "stdout",
     "text": "0 [[0.   6.2  2.19 1.   6.05 1.68]\n [1.   6.5  2.   0.   6.35 2.18]\n [1.   5.9  1.5  0.   5.74 1.64]] \n\n1 [[1.   5.9  1.5  0.   5.74 1.64]\n [0.   6.2  2.19 1.   6.05 1.68]\n [1.   6.5  2.   0.   6.35 2.18]] \n\n2 [[1.   5.9  1.5  0.   5.74 1.64]\n [1.   6.5  2.   0.   6.35 2.18]\n [0.   6.2  2.19 1.   6.05 1.68]] \n\n3 [[1.   6.5  2.   0.   6.35 2.18]\n [1.   5.9  1.5  0.   5.74 1.64]\n [0.   6.2  2.19 1.   6.05 1.68]] \n\n4 [[1.   5.9  1.5  0.   5.74 1.64]\n [0.   6.2  2.19 1.   6.05 1.68]\n [1.   6.5  2.   0.   6.35 2.18]] \n\n"
    }
   ],
   "source": [
    "for predictor in range(a.shape[1] - 1):\n",
    "    sorted_predictor = a[:,predictor].argsort()\n",
    "    b = a[sorted_predictor]\n",
    "    print(predictor, b, \"\\n\")\n"
   ]
  },
  {
   "cell_type": "code",
   "execution_count": 9,
   "metadata": {},
   "outputs": [
    {
     "output_type": "stream",
     "name": "stdout",
     "text": "array: [1.64] ssr = 0.0 \n             array [1.68 2.18] ssr = 0.1250000000000001 \n             SSR=0.1250000000000001\narray: [1.64 1.68] ssr = 0.0008000000000000014 \n             array [2.18] ssr = 0.0 \n             SSR=0.0008000000000000014\n"
    }
   ],
   "source": [
    "SSR = lambda a: ((a.mean() - a)**2).sum()\n",
    "\n",
    "for i in range(1,b.shape[0]):\n",
    "    ssr_1 = SSR(b[:i, -1])\n",
    "    ssr_2 = SSR(b[i:, -1])\n",
    "    print(f\"array: {b[:i, -1]} ssr = {ssr_1} \\n\\\n",
    "             array {b[i:, -1]} ssr = {ssr_2} \\n\\\n",
    "             SSR={ssr_1+ssr_2}\")"
   ]
  },
  {
   "cell_type": "code",
   "execution_count": 31,
   "metadata": {},
   "outputs": [
    {
     "output_type": "stream",
     "name": "stdout",
     "text": "[[1.   6.5  2.   0.   6.35 2.18]\n [0.   6.2  2.19 1.   6.05 1.68]\n [1.   5.9  1.5  0.   5.74 1.64]]\n[[0.   6.2  2.19 1.   6.05 1.68]\n [1.   5.9  1.5  0.   5.74 1.64]]\n[[1.   6.5  2.   0.   6.35 2.18]]\n"
    }
   ],
   "source": [
    "print(a)\n",
    "predictor = 4\n",
    "value = 6.2\n",
    "print(a[np.argwhere(a[:,predictor] <= value).flatten()])\n",
    "print(a[np.argwhere(a[:,predictor] > value).flatten()])"
   ]
  },
  {
   "cell_type": "code",
   "execution_count": 17,
   "metadata": {},
   "outputs": [
    {
     "output_type": "error",
     "ename": "IndexError",
     "evalue": "index 0 is out of bounds for axis 0 with size 0",
     "traceback": [
      "\u001b[1;31m---------------------------------------------------------------------------\u001b[0m",
      "\u001b[1;31mIndexError\u001b[0m                                Traceback (most recent call last)",
      "\u001b[1;32m<ipython-input-17-42fae503f7be>\u001b[0m in \u001b[0;36m<module>\u001b[1;34m\u001b[0m\n\u001b[1;32m----> 1\u001b[1;33m \u001b[0mleft\u001b[0m \u001b[1;33m=\u001b[0m \u001b[0mnp\u001b[0m\u001b[1;33m.\u001b[0m\u001b[0msplit\u001b[0m\u001b[1;33m(\u001b[0m\u001b[0ma\u001b[0m\u001b[1;33m,\u001b[0m \u001b[0mnp\u001b[0m\u001b[1;33m.\u001b[0m\u001b[0margwhere\u001b[0m\u001b[1;33m(\u001b[0m\u001b[0ma\u001b[0m\u001b[1;33m[\u001b[0m\u001b[1;33m:\u001b[0m\u001b[1;33m,\u001b[0m\u001b[1;36m4\u001b[0m\u001b[1;33m]\u001b[0m \u001b[1;33m<=\u001b[0m \u001b[1;36m1.68\u001b[0m\u001b[1;33m)\u001b[0m\u001b[1;33m[\u001b[0m\u001b[1;36m0\u001b[0m\u001b[1;33m]\u001b[0m\u001b[1;33m[\u001b[0m\u001b[1;36m1\u001b[0m\u001b[1;33m:\u001b[0m\u001b[1;33m]\u001b[0m\u001b[1;33m)\u001b[0m\u001b[1;33m\u001b[0m\u001b[1;33m\u001b[0m\u001b[0m\n\u001b[0m\u001b[0;32m      2\u001b[0m \u001b[0ma\u001b[0m\u001b[1;33m\u001b[0m\u001b[1;33m\u001b[0m\u001b[0m\n",
      "\u001b[1;31mIndexError\u001b[0m: index 0 is out of bounds for axis 0 with size 0"
     ]
    }
   ],
   "source": [
    "left = np.split(a, np.argwhere(a[:,4] <= 1.68)[0][1:])\n",
    "a"
   ]
  }
 ],
 "metadata": {
  "kernelspec": {
   "display_name": "Python 3.8.2 64-bit ('env': venv)",
   "language": "python",
   "name": "python38264bitenvvenv143f3d7cb84140ac993f36096aed9a8e"
  },
  "language_info": {
   "codemirror_mode": {
    "name": "ipython",
    "version": 3
   },
   "file_extension": ".py",
   "mimetype": "text/x-python",
   "name": "python",
   "nbconvert_exporter": "python",
   "pygments_lexer": "ipython3",
   "version": "3.8.2-final"
  }
 },
 "nbformat": 4,
 "nbformat_minor": 4
}