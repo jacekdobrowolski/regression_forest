{
 "cells": [
  {
   "cell_type": "code",
   "execution_count": 19,
   "metadata": {},
   "outputs": [],
   "source": [
    "import numpy as np\n",
    "import pandas as pd\n",
    "import matplotlib.pyplot as plt\n",
    "import statsmodels.api as sm\n",
    "from scipy.stats import pearsonr, spearmanr\n",
    "%matplotlib inline"
   ]
  },
  {
   "cell_type": "code",
   "execution_count": 20,
   "metadata": {},
   "outputs": [
    {
     "output_type": "execute_result",
     "data": {
      "text/plain": "   czas(min)  alpha  temp    Ts\n0          0      1  6,50     2\n1         15      0  6,35  2,18\n2         30      0  6,20  2,19\n3         45      1  6,05  1,68\n4         60      1  5,90   1,5",
      "text/html": "<div>\n<style scoped>\n    .dataframe tbody tr th:only-of-type {\n        vertical-align: middle;\n    }\n\n    .dataframe tbody tr th {\n        vertical-align: top;\n    }\n\n    .dataframe thead th {\n        text-align: right;\n    }\n</style>\n<table border=\"1\" class=\"dataframe\">\n  <thead>\n    <tr style=\"text-align: right;\">\n      <th></th>\n      <th>czas(min)</th>\n      <th>alpha</th>\n      <th>temp</th>\n      <th>Ts</th>\n    </tr>\n  </thead>\n  <tbody>\n    <tr>\n      <th>0</th>\n      <td>0</td>\n      <td>1</td>\n      <td>6,50</td>\n      <td>2</td>\n    </tr>\n    <tr>\n      <th>1</th>\n      <td>15</td>\n      <td>0</td>\n      <td>6,35</td>\n      <td>2,18</td>\n    </tr>\n    <tr>\n      <th>2</th>\n      <td>30</td>\n      <td>0</td>\n      <td>6,20</td>\n      <td>2,19</td>\n    </tr>\n    <tr>\n      <th>3</th>\n      <td>45</td>\n      <td>1</td>\n      <td>6,05</td>\n      <td>1,68</td>\n    </tr>\n    <tr>\n      <th>4</th>\n      <td>60</td>\n      <td>1</td>\n      <td>5,90</td>\n      <td>1,5</td>\n    </tr>\n  </tbody>\n</table>\n</div>"
     },
     "metadata": {},
     "execution_count": 20
    }
   ],
   "source": [
    "df = pd.read_csv('alpha24_step15Stud.csv')\n",
    "df.head()"
   ]
  },
  {
   "cell_type": "code",
   "execution_count": 21,
   "metadata": {},
   "outputs": [],
   "source": [
    "df['temp'] = df['temp'].apply(lambda x: x.replace(',','.')).astype('float64')\n",
    "df['Ts'] = df['Ts'].apply(lambda x: x.replace(',','.')).astype('float64')"
   ]
  },
  {
   "cell_type": "code",
   "execution_count": 22,
   "metadata": {},
   "outputs": [
    {
     "output_type": "execute_result",
     "data": {
      "text/plain": "   czas(min)  alpha  temp    Ts\n0          0      1  6.50  2.00\n1         15      0  6.35  2.18\n2         30      0  6.20  2.19\n3         45      1  6.05  1.68\n4         60      1  5.90  1.50",
      "text/html": "<div>\n<style scoped>\n    .dataframe tbody tr th:only-of-type {\n        vertical-align: middle;\n    }\n\n    .dataframe tbody tr th {\n        vertical-align: top;\n    }\n\n    .dataframe thead th {\n        text-align: right;\n    }\n</style>\n<table border=\"1\" class=\"dataframe\">\n  <thead>\n    <tr style=\"text-align: right;\">\n      <th></th>\n      <th>czas(min)</th>\n      <th>alpha</th>\n      <th>temp</th>\n      <th>Ts</th>\n    </tr>\n  </thead>\n  <tbody>\n    <tr>\n      <th>0</th>\n      <td>0</td>\n      <td>1</td>\n      <td>6.50</td>\n      <td>2.00</td>\n    </tr>\n    <tr>\n      <th>1</th>\n      <td>15</td>\n      <td>0</td>\n      <td>6.35</td>\n      <td>2.18</td>\n    </tr>\n    <tr>\n      <th>2</th>\n      <td>30</td>\n      <td>0</td>\n      <td>6.20</td>\n      <td>2.19</td>\n    </tr>\n    <tr>\n      <th>3</th>\n      <td>45</td>\n      <td>1</td>\n      <td>6.05</td>\n      <td>1.68</td>\n    </tr>\n    <tr>\n      <th>4</th>\n      <td>60</td>\n      <td>1</td>\n      <td>5.90</td>\n      <td>1.50</td>\n    </tr>\n  </tbody>\n</table>\n</div>"
     },
     "metadata": {},
     "execution_count": 22
    }
   ],
   "source": [
    "df.head()"
   ]
  },
  {
   "cell_type": "code",
   "execution_count": 23,
   "metadata": {},
   "outputs": [
    {
     "output_type": "execute_result",
     "data": {
      "text/plain": "      compressor  ambient_temp  refrigerator_temp\ntime                                             \n0              1          6.50               2.00\n15             0          6.35               2.18\n30             0          6.20               2.19\n45             1          6.05               1.68\n60             1          5.90               1.50",
      "text/html": "<div>\n<style scoped>\n    .dataframe tbody tr th:only-of-type {\n        vertical-align: middle;\n    }\n\n    .dataframe tbody tr th {\n        vertical-align: top;\n    }\n\n    .dataframe thead th {\n        text-align: right;\n    }\n</style>\n<table border=\"1\" class=\"dataframe\">\n  <thead>\n    <tr style=\"text-align: right;\">\n      <th></th>\n      <th>compressor</th>\n      <th>ambient_temp</th>\n      <th>refrigerator_temp</th>\n    </tr>\n    <tr>\n      <th>time</th>\n      <th></th>\n      <th></th>\n      <th></th>\n    </tr>\n  </thead>\n  <tbody>\n    <tr>\n      <th>0</th>\n      <td>1</td>\n      <td>6.50</td>\n      <td>2.00</td>\n    </tr>\n    <tr>\n      <th>15</th>\n      <td>0</td>\n      <td>6.35</td>\n      <td>2.18</td>\n    </tr>\n    <tr>\n      <th>30</th>\n      <td>0</td>\n      <td>6.20</td>\n      <td>2.19</td>\n    </tr>\n    <tr>\n      <th>45</th>\n      <td>1</td>\n      <td>6.05</td>\n      <td>1.68</td>\n    </tr>\n    <tr>\n      <th>60</th>\n      <td>1</td>\n      <td>5.90</td>\n      <td>1.50</td>\n    </tr>\n  </tbody>\n</table>\n</div>"
     },
     "metadata": {},
     "execution_count": 23
    }
   ],
   "source": [
    "df.rename(columns={\"czas(min)\": \"time\", \"alpha\": \"compressor\", \"temp\": 'ambient_temp', \"Ts\": 'refrigerator_temp'}, inplace=True)\n",
    "df.set_index('time', inplace=True)\n",
    "df.head()"
   ]
  },
  {
   "cell_type": "code",
   "execution_count": null,
   "metadata": {},
   "outputs": [],
   "source": []
  },
  {
   "cell_type": "code",
   "execution_count": 24,
   "metadata": {},
   "outputs": [
    {
     "output_type": "execute_result",
     "data": {
      "text/plain": "array([[ 1.  ,  6.5 ,  2.  , ...,  0.  ,  5.26,  1.82],\n       [ 0.  ,  5.23,  1.86, ...,  0.  ,  5.39,  1.48],\n       [ 0.  ,  5.3 ,  1.53, ...,  1.  ,  5.99,  0.9 ],\n       ...,\n       [ 0.  ,  1.97, -1.98, ...,  0.  ,  1.23, -1.93],\n       [ 0.  ,  1.2 , -1.92, ...,  0.  ,  2.01, -2.07],\n       [ 1.  ,  2.13, -2.17, ...,  1.  ,  4.01, -2.48]])"
     },
     "metadata": {},
     "execution_count": 24
    }
   ],
   "source": [
    "size = 1000\n",
    "delay = 100\n",
    "\n",
    "a = df.iloc[0:size,:].to_numpy().reshape(delay,size*3//delay)\n",
    "a"
   ]
  },
  {
   "cell_type": "code",
   "execution_count": 25,
   "metadata": {},
   "outputs": [],
   "source": [
    "from random_forest.tree import Tree\n",
    "import random_forest\n",
    "\n",
    "random_forest.tree.config.min_split_size = 30\n",
    "random_forest.tree.config.number_of_predictors_to_draw = 10"
   ]
  },
  {
   "cell_type": "code",
   "execution_count": 26,
   "metadata": {},
   "outputs": [
    {
     "output_type": "stream",
     "name": "stdout",
     "text": "[ 1.    4.2  -2.5   1.    4.39 -2.51  1.    4.57 -2.52  1.    4.74 -2.53\n  1.    4.9  -2.54  1.    5.05 -2.55  1.    5.18 -2.56  1.    5.3  -2.57\n  1.    5.4  -2.57  0.    5.35 -2.35] -2.6805263157894736\n"
    }
   ],
   "source": [
    "myTree = Tree(a)\n",
    "test_data = df.iloc[1000:1010,:].to_numpy().reshape(30)\n",
    "print(test_data, myTree.predict(test_data))"
   ]
  },
  {
   "cell_type": "code",
   "execution_count": 27,
   "metadata": {},
   "outputs": [
    {
     "output_type": "stream",
     "name": "stdout",
     "text": "\n        min_split_size: 50\n        number_of_predictors_to_draw: 10\n        \n        Branch:\n            if <= 26_-1.15:\n                \n        Branch:\n            if <= 20_-2.33:\n                Leaf: -2.6805263157894736\n            else:\n                Leaf: -1.76125  \n        \n            else:\n                Leaf: 0.004489795918367351  \n        \n        \n"
    }
   ],
   "source": [
    "print(myTree)"
   ]
  },
  {
   "cell_type": "code",
   "execution_count": null,
   "metadata": {},
   "outputs": [],
   "source": []
  }
 ],
 "metadata": {
  "kernelspec": {
   "display_name": "Python 3.8.2 64-bit ('env': venv)",
   "language": "python",
   "name": "python38264bitenvvenv143f3d7cb84140ac993f36096aed9a8e"
  },
  "language_info": {
   "codemirror_mode": {
    "name": "ipython",
    "version": 3
   },
   "file_extension": ".py",
   "mimetype": "text/x-python",
   "name": "python",
   "nbconvert_exporter": "python",
   "pygments_lexer": "ipython3",
   "version": "3.8.2-final"
  }
 },
 "nbformat": 4,
 "nbformat_minor": 4
}