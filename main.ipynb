{
 "cells": [
  {
   "cell_type": "code",
   "execution_count": 2,
   "metadata": {},
   "outputs": [],
   "source": [
    "import numpy as np\n",
    "import pandas as pd\n",
    "import matplotlib.pyplot as plt\n",
    "import statsmodels.api as sm\n",
    "from scipy.stats import pearsonr, spearmanr\n",
    "%matplotlib inline"
   ]
  },
  {
   "cell_type": "code",
   "execution_count": 3,
   "metadata": {},
   "outputs": [
    {
     "output_type": "execute_result",
     "data": {
      "text/plain": "   czas(min)  alpha  temp    Ts\n0          0      1  6,50     2\n1         15      0  6,35  2,18\n2         30      0  6,20  2,19\n3         45      1  6,05  1,68\n4         60      1  5,90   1,5",
      "text/html": "<div>\n<style scoped>\n    .dataframe tbody tr th:only-of-type {\n        vertical-align: middle;\n    }\n\n    .dataframe tbody tr th {\n        vertical-align: top;\n    }\n\n    .dataframe thead th {\n        text-align: right;\n    }\n</style>\n<table border=\"1\" class=\"dataframe\">\n  <thead>\n    <tr style=\"text-align: right;\">\n      <th></th>\n      <th>czas(min)</th>\n      <th>alpha</th>\n      <th>temp</th>\n      <th>Ts</th>\n    </tr>\n  </thead>\n  <tbody>\n    <tr>\n      <th>0</th>\n      <td>0</td>\n      <td>1</td>\n      <td>6,50</td>\n      <td>2</td>\n    </tr>\n    <tr>\n      <th>1</th>\n      <td>15</td>\n      <td>0</td>\n      <td>6,35</td>\n      <td>2,18</td>\n    </tr>\n    <tr>\n      <th>2</th>\n      <td>30</td>\n      <td>0</td>\n      <td>6,20</td>\n      <td>2,19</td>\n    </tr>\n    <tr>\n      <th>3</th>\n      <td>45</td>\n      <td>1</td>\n      <td>6,05</td>\n      <td>1,68</td>\n    </tr>\n    <tr>\n      <th>4</th>\n      <td>60</td>\n      <td>1</td>\n      <td>5,90</td>\n      <td>1,5</td>\n    </tr>\n  </tbody>\n</table>\n</div>"
     },
     "metadata": {},
     "execution_count": 3
    }
   ],
   "source": [
    "df = pd.read_csv('alpha24_step15Stud.csv')\n",
    "df.head()"
   ]
  },
  {
   "cell_type": "code",
   "execution_count": 4,
   "metadata": {},
   "outputs": [],
   "source": [
    "df['temp'] = df['temp'].apply(lambda x: x.replace(',','.')).astype('float64')\n",
    "df['Ts'] = df['Ts'].apply(lambda x: x.replace(',','.')).astype('float64')"
   ]
  },
  {
   "cell_type": "code",
   "execution_count": 5,
   "metadata": {},
   "outputs": [
    {
     "output_type": "execute_result",
     "data": {
      "text/plain": "   czas(min)  alpha  temp    Ts\n0          0      1  6.50  2.00\n1         15      0  6.35  2.18\n2         30      0  6.20  2.19\n3         45      1  6.05  1.68\n4         60      1  5.90  1.50",
      "text/html": "<div>\n<style scoped>\n    .dataframe tbody tr th:only-of-type {\n        vertical-align: middle;\n    }\n\n    .dataframe tbody tr th {\n        vertical-align: top;\n    }\n\n    .dataframe thead th {\n        text-align: right;\n    }\n</style>\n<table border=\"1\" class=\"dataframe\">\n  <thead>\n    <tr style=\"text-align: right;\">\n      <th></th>\n      <th>czas(min)</th>\n      <th>alpha</th>\n      <th>temp</th>\n      <th>Ts</th>\n    </tr>\n  </thead>\n  <tbody>\n    <tr>\n      <th>0</th>\n      <td>0</td>\n      <td>1</td>\n      <td>6.50</td>\n      <td>2.00</td>\n    </tr>\n    <tr>\n      <th>1</th>\n      <td>15</td>\n      <td>0</td>\n      <td>6.35</td>\n      <td>2.18</td>\n    </tr>\n    <tr>\n      <th>2</th>\n      <td>30</td>\n      <td>0</td>\n      <td>6.20</td>\n      <td>2.19</td>\n    </tr>\n    <tr>\n      <th>3</th>\n      <td>45</td>\n      <td>1</td>\n      <td>6.05</td>\n      <td>1.68</td>\n    </tr>\n    <tr>\n      <th>4</th>\n      <td>60</td>\n      <td>1</td>\n      <td>5.90</td>\n      <td>1.50</td>\n    </tr>\n  </tbody>\n</table>\n</div>"
     },
     "metadata": {},
     "execution_count": 5
    }
   ],
   "source": [
    "df.head()"
   ]
  },
  {
   "cell_type": "code",
   "execution_count": 6,
   "metadata": {},
   "outputs": [
    {
     "output_type": "execute_result",
     "data": {
      "text/plain": "      compressor  ambient_temp  refrigerator_temp\ntime                                             \n0              1          6.50               2.00\n15             0          6.35               2.18\n30             0          6.20               2.19\n45             1          6.05               1.68\n60             1          5.90               1.50",
      "text/html": "<div>\n<style scoped>\n    .dataframe tbody tr th:only-of-type {\n        vertical-align: middle;\n    }\n\n    .dataframe tbody tr th {\n        vertical-align: top;\n    }\n\n    .dataframe thead th {\n        text-align: right;\n    }\n</style>\n<table border=\"1\" class=\"dataframe\">\n  <thead>\n    <tr style=\"text-align: right;\">\n      <th></th>\n      <th>compressor</th>\n      <th>ambient_temp</th>\n      <th>refrigerator_temp</th>\n    </tr>\n    <tr>\n      <th>time</th>\n      <th></th>\n      <th></th>\n      <th></th>\n    </tr>\n  </thead>\n  <tbody>\n    <tr>\n      <th>0</th>\n      <td>1</td>\n      <td>6.50</td>\n      <td>2.00</td>\n    </tr>\n    <tr>\n      <th>15</th>\n      <td>0</td>\n      <td>6.35</td>\n      <td>2.18</td>\n    </tr>\n    <tr>\n      <th>30</th>\n      <td>0</td>\n      <td>6.20</td>\n      <td>2.19</td>\n    </tr>\n    <tr>\n      <th>45</th>\n      <td>1</td>\n      <td>6.05</td>\n      <td>1.68</td>\n    </tr>\n    <tr>\n      <th>60</th>\n      <td>1</td>\n      <td>5.90</td>\n      <td>1.50</td>\n    </tr>\n  </tbody>\n</table>\n</div>"
     },
     "metadata": {},
     "execution_count": 6
    }
   ],
   "source": [
    "df.rename(columns={\"czas(min)\": \"time\", \"alpha\": \"compressor\", \"temp\": 'ambient_temp', \"Ts\": 'refrigerator_temp'}, inplace=True)\n",
    "df.set_index('time', inplace=True)\n",
    "df.head()"
   ]
  },
  {
   "cell_type": "code",
   "execution_count": null,
   "metadata": {},
   "outputs": [],
   "source": []
  },
  {
   "cell_type": "code",
   "execution_count": 7,
   "metadata": {},
   "outputs": [
    {
     "output_type": "execute_result",
     "data": {
      "text/plain": "array([[ 1.  ,  6.5 ,  2.  , ...,  0.  ,  5.26,  1.82],\n       [ 0.  ,  5.23,  1.86, ...,  0.  ,  5.39,  1.48],\n       [ 0.  ,  5.3 ,  1.53, ...,  1.  ,  5.99,  0.9 ],\n       ...,\n       [ 0.  ,  1.97, -1.98, ...,  0.  ,  1.23, -1.93],\n       [ 0.  ,  1.2 , -1.92, ...,  0.  ,  2.01, -2.07],\n       [ 1.  ,  2.13, -2.17, ...,  1.  ,  4.01, -2.48]])"
     },
     "metadata": {},
     "execution_count": 7
    }
   ],
   "source": [
    "size = 1000\n",
    "delay = 100\n",
    "\n",
    "a = df.iloc[0:size,:].to_numpy().reshape(delay,size*3//delay)\n",
    "a"
   ]
  },
  {
   "cell_type": "code",
   "execution_count": 8,
   "metadata": {},
   "outputs": [
    {
     "output_type": "execute_result",
     "data": {
      "text/plain": "(50, 12)"
     },
     "metadata": {},
     "execution_count": 8
    }
   ],
   "source": [
    "\n",
    "\n",
    "delay = 4\n",
    "frames = [df.shift(-t) for t in range(delay)]\n",
    "# small_df = df.iloc[:40]\n",
    "delayed_df = pd.concat(frames, axis=1).dropna()\n",
    "\n",
    "small_df = delayed_df.iloc[:50]\n",
    "small_df.shape\n"
   ]
  },
  {
   "cell_type": "code",
   "execution_count": 9,
   "metadata": {},
   "outputs": [
    {
     "output_type": "error",
     "ename": "NameError",
     "evalue": "name 'Forest' is not defined",
     "traceback": [
      "\u001b[1;31m---------------------------------------------------------------------------\u001b[0m",
      "\u001b[1;31mNameError\u001b[0m                                 Traceback (most recent call last)",
      "\u001b[1;32m<ipython-input-9-3b558d2e0135>\u001b[0m in \u001b[0;36m<module>\u001b[1;34m\u001b[0m\n\u001b[1;32m----> 1\u001b[1;33m \u001b[0mforest\u001b[0m \u001b[1;33m=\u001b[0m \u001b[0mForest\u001b[0m\u001b[1;33m(\u001b[0m\u001b[0mdelayed_df\u001b[0m\u001b[1;33m)\u001b[0m\u001b[1;33m\u001b[0m\u001b[1;33m\u001b[0m\u001b[0m\n\u001b[0m\u001b[0;32m      2\u001b[0m \u001b[1;33m\u001b[0m\u001b[0m\n",
      "\u001b[1;31mNameError\u001b[0m: name 'Forest' is not defined"
     ]
    }
   ],
   "source": [
    "forest = Forest(delayed_df)\n",
    " "
   ]
  },
  {
   "cell_type": "code",
   "execution_count": 10,
   "metadata": {},
   "outputs": [
    {
     "output_type": "stream",
     "name": "stdout",
     "text": "(50, 12)\n(16, 12)\n"
    },
    {
     "output_type": "execute_result",
     "data": {
      "text/plain": "      compressor  ambient_temp  refrigerator_temp  compressor  ambient_temp  \\\ntime                                                                          \n720            0          8.00               0.57         0.0          7.99   \n0              1          6.50               2.00         0.0          6.35   \n135            0          5.26               1.82         0.0          5.23   \n255            0          5.60               1.22         0.0          5.49   \n360            0          5.70               1.51         0.0          5.74   \n\n      refrigerator_temp  compressor  ambient_temp  refrigerator_temp  \\\ntime                                                                   \n720                0.59         0.0          7.97               0.84   \n0                  2.18         0.0          6.20               2.19   \n135                1.86         0.0          5.21               1.89   \n255                1.22         0.0          5.39               1.48   \n360                1.54         0.0          5.79               1.57   \n\n      compressor  ambient_temp  refrigerator_temp  \ntime                                               \n720          0.0          7.94               0.93  \n0            1.0          6.05               1.68  \n135          1.0          5.20               1.20  \n255          0.0          5.30               1.53  \n360          1.0          5.84               1.15  ",
      "text/html": "<div>\n<style scoped>\n    .dataframe tbody tr th:only-of-type {\n        vertical-align: middle;\n    }\n\n    .dataframe tbody tr th {\n        vertical-align: top;\n    }\n\n    .dataframe thead th {\n        text-align: right;\n    }\n</style>\n<table border=\"1\" class=\"dataframe\">\n  <thead>\n    <tr style=\"text-align: right;\">\n      <th></th>\n      <th>compressor</th>\n      <th>ambient_temp</th>\n      <th>refrigerator_temp</th>\n      <th>compressor</th>\n      <th>ambient_temp</th>\n      <th>refrigerator_temp</th>\n      <th>compressor</th>\n      <th>ambient_temp</th>\n      <th>refrigerator_temp</th>\n      <th>compressor</th>\n      <th>ambient_temp</th>\n      <th>refrigerator_temp</th>\n    </tr>\n    <tr>\n      <th>time</th>\n      <th></th>\n      <th></th>\n      <th></th>\n      <th></th>\n      <th></th>\n      <th></th>\n      <th></th>\n      <th></th>\n      <th></th>\n      <th></th>\n      <th></th>\n      <th></th>\n    </tr>\n  </thead>\n  <tbody>\n    <tr>\n      <th>720</th>\n      <td>0</td>\n      <td>8.00</td>\n      <td>0.57</td>\n      <td>0.0</td>\n      <td>7.99</td>\n      <td>0.59</td>\n      <td>0.0</td>\n      <td>7.97</td>\n      <td>0.84</td>\n      <td>0.0</td>\n      <td>7.94</td>\n      <td>0.93</td>\n    </tr>\n    <tr>\n      <th>0</th>\n      <td>1</td>\n      <td>6.50</td>\n      <td>2.00</td>\n      <td>0.0</td>\n      <td>6.35</td>\n      <td>2.18</td>\n      <td>0.0</td>\n      <td>6.20</td>\n      <td>2.19</td>\n      <td>1.0</td>\n      <td>6.05</td>\n      <td>1.68</td>\n    </tr>\n    <tr>\n      <th>135</th>\n      <td>0</td>\n      <td>5.26</td>\n      <td>1.82</td>\n      <td>0.0</td>\n      <td>5.23</td>\n      <td>1.86</td>\n      <td>0.0</td>\n      <td>5.21</td>\n      <td>1.89</td>\n      <td>1.0</td>\n      <td>5.20</td>\n      <td>1.20</td>\n    </tr>\n    <tr>\n      <th>255</th>\n      <td>0</td>\n      <td>5.60</td>\n      <td>1.22</td>\n      <td>0.0</td>\n      <td>5.49</td>\n      <td>1.22</td>\n      <td>0.0</td>\n      <td>5.39</td>\n      <td>1.48</td>\n      <td>0.0</td>\n      <td>5.30</td>\n      <td>1.53</td>\n    </tr>\n    <tr>\n      <th>360</th>\n      <td>0</td>\n      <td>5.70</td>\n      <td>1.51</td>\n      <td>0.0</td>\n      <td>5.74</td>\n      <td>1.54</td>\n      <td>0.0</td>\n      <td>5.79</td>\n      <td>1.57</td>\n      <td>1.0</td>\n      <td>5.84</td>\n      <td>1.15</td>\n    </tr>\n  </tbody>\n</table>\n</div>"
     },
     "metadata": {},
     "execution_count": 10
    }
   ],
   "source": [
    "out_of_bag  = small_df\n",
    "print(out_of_bag.shape)\n",
    "data_size_for_tree = 5\n",
    "for i in range(10):\n",
    "    training_data = small_df.sample(data_size_for_tree, replace=True)\n",
    "    out_of_bag = out_of_bag[~out_of_bag.index.isin(training_data.index)]\n",
    "# out_of_bag[~out_of_bag.isin(training_data)].dropna()\n",
    "# out_of_bag.isin(training_data.merge(training_data))\n",
    "# print(out_of_bag.size)\n",
    "print(out_of_bag.shape)\n",
    "training_data.head()"
   ]
  },
  {
   "cell_type": "code",
   "execution_count": 11,
   "metadata": {},
   "outputs": [
    {
     "output_type": "execute_result",
     "data": {
      "text/plain": "array([[0.  , 6.35, 2.18, 0.  , 6.2 , 2.19, 1.  , 6.05, 1.68, 1.  , 5.9 ,\n        1.5 ],\n       [0.  , 6.2 , 2.19, 1.  , 6.05, 1.68, 1.  , 5.9 , 1.5 , 0.  , 5.74,\n        1.64],\n       [1.  , 5.9 , 1.5 , 0.  , 5.74, 1.64, 0.  , 5.59, 1.62, 0.  , 5.44,\n        1.56],\n       [0.  , 5.44, 1.56, 0.  , 5.3 , 1.54, 0.  , 5.26, 1.82, 0.  , 5.23,\n        1.86],\n       [0.  , 5.3 , 1.54, 0.  , 5.26, 1.82, 0.  , 5.23, 1.86, 0.  , 5.21,\n        1.89],\n       [0.  , 5.23, 1.86, 0.  , 5.21, 1.89, 1.  , 5.2 , 1.2 , 1.  , 5.32,\n        1.2 ],\n       [0.  , 5.21, 1.89, 1.  , 5.2 , 1.2 , 1.  , 5.32, 1.2 , 0.  , 5.44,\n        1.36],\n       [0.  , 5.39, 1.48, 0.  , 5.3 , 1.53, 1.  , 5.39, 1.12, 0.  , 5.49,\n        1.26],\n       [0.  , 5.49, 1.26, 0.  , 5.59, 1.47, 0.  , 5.7 , 1.51, 0.  , 5.74,\n        1.54],\n       [1.  , 5.99, 0.9 , 1.  , 6.09, 0.84, 1.  , 6.19, 0.79, 1.  , 6.3 ,\n        0.73],\n       [1.  , 6.09, 0.84, 1.  , 6.19, 0.79, 1.  , 6.3 , 0.73, 1.  , 6.55,\n        0.69],\n       [1.  , 6.19, 0.79, 1.  , 6.3 , 0.73, 1.  , 6.55, 0.69, 1.  , 6.81,\n        0.64],\n       [1.  , 6.3 , 0.73, 1.  , 6.55, 0.69, 1.  , 6.81, 0.64, 1.  , 7.06,\n        0.6 ],\n       [1.  , 7.06, 0.6 , 0.  , 7.3 , 0.79, 0.  , 7.29, 0.81, 0.  , 7.26,\n        0.8 ],\n       [0.  , 7.3 , 0.79, 0.  , 7.29, 0.81, 0.  , 7.26, 0.8 , 0.  , 7.23,\n        0.76],\n       [0.  , 7.23, 0.76, 0.  , 7.2 , 0.77, 1.  , 7.3 , 0.67, 1.  , 7.41,\n        0.52]])"
     },
     "metadata": {},
     "execution_count": 11
    }
   ],
   "source": [
    "out_of_bag.values\n"
   ]
  },
  {
   "cell_type": "code",
   "execution_count": 12,
   "metadata": {},
   "outputs": [
    {
     "output_type": "error",
     "ename": "NameError",
     "evalue": "name 'forest' is not defined",
     "traceback": [
      "\u001b[1;31m---------------------------------------------------------------------------\u001b[0m",
      "\u001b[1;31mNameError\u001b[0m                                 Traceback (most recent call last)",
      "\u001b[1;32m<ipython-input-12-6bbf99e7a05c>\u001b[0m in \u001b[0;36m<module>\u001b[1;34m\u001b[0m\n\u001b[1;32m----> 1\u001b[1;33m \u001b[0mprint\u001b[0m\u001b[1;33m(\u001b[0m\u001b[0mforest\u001b[0m\u001b[1;33m.\u001b[0m\u001b[0mout_of_bag\u001b[0m\u001b[1;33m.\u001b[0m\u001b[0mshape\u001b[0m\u001b[1;33m)\u001b[0m\u001b[1;33m\u001b[0m\u001b[1;33m\u001b[0m\u001b[0m\n\u001b[0m\u001b[0;32m      2\u001b[0m \u001b[0mtest\u001b[0m \u001b[1;33m=\u001b[0m \u001b[0mforest\u001b[0m\u001b[1;33m.\u001b[0m\u001b[0mout_of_bag\u001b[0m\u001b[1;33m.\u001b[0m\u001b[0miloc\u001b[0m\u001b[1;33m[\u001b[0m\u001b[1;36m0\u001b[0m\u001b[1;33m]\u001b[0m\u001b[1;33m.\u001b[0m\u001b[0mvalues\u001b[0m\u001b[1;33m\u001b[0m\u001b[1;33m\u001b[0m\u001b[0m\n\u001b[0;32m      3\u001b[0m \u001b[0mprint\u001b[0m\u001b[1;33m(\u001b[0m\u001b[0mtest\u001b[0m\u001b[1;33m)\u001b[0m\u001b[1;33m\u001b[0m\u001b[1;33m\u001b[0m\u001b[0m\n\u001b[0;32m      4\u001b[0m \u001b[0mprint\u001b[0m\u001b[1;33m(\u001b[0m\u001b[0mforest\u001b[0m\u001b[1;33m.\u001b[0m\u001b[0mpredict\u001b[0m\u001b[1;33m(\u001b[0m\u001b[0mtest\u001b[0m\u001b[1;33m[\u001b[0m\u001b[1;33m:\u001b[0m\u001b[1;33m-\u001b[0m\u001b[1;36m1\u001b[0m\u001b[1;33m]\u001b[0m\u001b[1;33m)\u001b[0m\u001b[1;33m)\u001b[0m\u001b[1;33m\u001b[0m\u001b[1;33m\u001b[0m\u001b[0m\n\u001b[0;32m      5\u001b[0m \u001b[1;31m# df.shape\u001b[0m\u001b[1;33m\u001b[0m\u001b[1;33m\u001b[0m\u001b[1;33m\u001b[0m\u001b[0m\n",
      "\u001b[1;31mNameError\u001b[0m: name 'forest' is not defined"
     ]
    }
   ],
   "source": [
    "print(forest.out_of_bag.shape)\n",
    "test = forest.out_of_bag.iloc[0].values\n",
    "print(test)\n",
    "print(forest.predict(test[:-1]))\n",
    "# df.shape"
   ]
  },
  {
   "cell_type": "markdown",
   "metadata": {},
   "source": [
    "forest.trees[0]"
   ]
  },
  {
   "cell_type": "code",
   "execution_count": 13,
   "metadata": {},
   "outputs": [
    {
     "output_type": "execute_result",
     "data": {
      "text/plain": "        compressor  ambient_temp  refrigerator_temp  \\\ncount  2975.000000   2975.000000        2975.000000   \nmean      0.522017      6.155815          -0.841603   \nstd       0.499599      3.734449           1.336080   \nmin       0.000000     -2.000000          -3.150000   \n25%       0.000000      3.600000          -1.940000   \n50%       1.000000      5.430000          -1.060000   \n75%       1.000000      8.270000           0.155000   \nmax       1.000000     20.300000           3.910000   \n\n       ambient_refrigerator_diff  refrigerator_temp_diff  ambient_temp_diff  \ncount                2975.000000             2975.000000        2975.000000  \nmean                    6.997418                0.000188           0.001449  \nstd                     2.983292                0.128239           0.232284  \nmin                    -0.210000               -0.690000          -1.440000  \n25%                     5.080000               -0.050000          -0.110000  \n50%                     6.500000                0.000000          -0.010000  \n75%                     8.650000                0.050000           0.120000  \nmax                    17.710000                0.520000           1.570000  ",
      "text/html": "<div>\n<style scoped>\n    .dataframe tbody tr th:only-of-type {\n        vertical-align: middle;\n    }\n\n    .dataframe tbody tr th {\n        vertical-align: top;\n    }\n\n    .dataframe thead th {\n        text-align: right;\n    }\n</style>\n<table border=\"1\" class=\"dataframe\">\n  <thead>\n    <tr style=\"text-align: right;\">\n      <th></th>\n      <th>compressor</th>\n      <th>ambient_temp</th>\n      <th>refrigerator_temp</th>\n      <th>ambient_refrigerator_diff</th>\n      <th>refrigerator_temp_diff</th>\n      <th>ambient_temp_diff</th>\n    </tr>\n  </thead>\n  <tbody>\n    <tr>\n      <th>count</th>\n      <td>2975.000000</td>\n      <td>2975.000000</td>\n      <td>2975.000000</td>\n      <td>2975.000000</td>\n      <td>2975.000000</td>\n      <td>2975.000000</td>\n    </tr>\n    <tr>\n      <th>mean</th>\n      <td>0.522017</td>\n      <td>6.155815</td>\n      <td>-0.841603</td>\n      <td>6.997418</td>\n      <td>0.000188</td>\n      <td>0.001449</td>\n    </tr>\n    <tr>\n      <th>std</th>\n      <td>0.499599</td>\n      <td>3.734449</td>\n      <td>1.336080</td>\n      <td>2.983292</td>\n      <td>0.128239</td>\n      <td>0.232284</td>\n    </tr>\n    <tr>\n      <th>min</th>\n      <td>0.000000</td>\n      <td>-2.000000</td>\n      <td>-3.150000</td>\n      <td>-0.210000</td>\n      <td>-0.690000</td>\n      <td>-1.440000</td>\n    </tr>\n    <tr>\n      <th>25%</th>\n      <td>0.000000</td>\n      <td>3.600000</td>\n      <td>-1.940000</td>\n      <td>5.080000</td>\n      <td>-0.050000</td>\n      <td>-0.110000</td>\n    </tr>\n    <tr>\n      <th>50%</th>\n      <td>1.000000</td>\n      <td>5.430000</td>\n      <td>-1.060000</td>\n      <td>6.500000</td>\n      <td>0.000000</td>\n      <td>-0.010000</td>\n    </tr>\n    <tr>\n      <th>75%</th>\n      <td>1.000000</td>\n      <td>8.270000</td>\n      <td>0.155000</td>\n      <td>8.650000</td>\n      <td>0.050000</td>\n      <td>0.120000</td>\n    </tr>\n    <tr>\n      <th>max</th>\n      <td>1.000000</td>\n      <td>20.300000</td>\n      <td>3.910000</td>\n      <td>17.710000</td>\n      <td>0.520000</td>\n      <td>1.570000</td>\n    </tr>\n  </tbody>\n</table>\n</div>"
     },
     "metadata": {},
     "execution_count": 13
    }
   ],
   "source": [
    "df[\"ambient_refrigerator_diff\"] = df[\"ambient_temp\"] - df[\"refrigerator_temp\"]\n",
    "df_diff = df.diff().rename(columns={\"refrigerator_temp\": \"refrigerator_temp_diff\", \"ambient_temp\": \"ambient_temp_diff\"}).loc[:, [\"refrigerator_temp_diff\",\"ambient_temp_diff\"]]\n",
    "frames = [df, df_diff]\n",
    "df = pd.concat(frames, axis=1).dropna()\n",
    "df.describe()"
   ]
  },
  {
   "cell_type": "code",
   "execution_count": 14,
   "metadata": {},
   "outputs": [
    {
     "output_type": "execute_result",
     "data": {
      "text/plain": "      compressor  ambient_temp  refrigerator_temp  ambient_refrigerator_diff  \\\ntime                                                                           \n15             0          6.35               2.18                       4.17   \n30             0          6.20               2.19                       4.01   \n45             1          6.05               1.68                       4.37   \n60             1          5.90               1.50                       4.40   \n75             0          5.74               1.64                       4.10   \n\n      refrigerator_temp_diff  ambient_temp_diff  compressor  ambient_temp  \\\ntime                                                                        \n15                      0.18              -0.15         0.0          6.20   \n30                      0.01              -0.15         1.0          6.05   \n45                     -0.51              -0.15         1.0          5.90   \n60                     -0.18              -0.15         0.0          5.74   \n75                      0.14              -0.16         0.0          5.59   \n\n      refrigerator_temp  ambient_refrigerator_diff  refrigerator_temp_diff  \\\ntime                                                                         \n15                 2.19                       4.01                    0.01   \n30                 1.68                       4.37                   -0.51   \n45                 1.50                       4.40                   -0.18   \n60                 1.64                       4.10                    0.14   \n75                 1.62                       3.97                   -0.02   \n\n      ambient_temp_diff  compressor  ambient_temp  refrigerator_temp  \\\ntime                                                                   \n15                -0.15         1.0          6.05               1.68   \n30                -0.15         1.0          5.90               1.50   \n45                -0.15         0.0          5.74               1.64   \n60                -0.16         0.0          5.59               1.62   \n75                -0.15         0.0          5.44               1.56   \n\n      ambient_refrigerator_diff  refrigerator_temp_diff  ambient_temp_diff  \ntime                                                                        \n15                         4.37                   -0.51              -0.15  \n30                         4.40                   -0.18              -0.15  \n45                         4.10                    0.14              -0.16  \n60                         3.97                   -0.02              -0.15  \n75                         3.88                   -0.06              -0.15  ",
      "text/html": "<div>\n<style scoped>\n    .dataframe tbody tr th:only-of-type {\n        vertical-align: middle;\n    }\n\n    .dataframe tbody tr th {\n        vertical-align: top;\n    }\n\n    .dataframe thead th {\n        text-align: right;\n    }\n</style>\n<table border=\"1\" class=\"dataframe\">\n  <thead>\n    <tr style=\"text-align: right;\">\n      <th></th>\n      <th>compressor</th>\n      <th>ambient_temp</th>\n      <th>refrigerator_temp</th>\n      <th>ambient_refrigerator_diff</th>\n      <th>refrigerator_temp_diff</th>\n      <th>ambient_temp_diff</th>\n      <th>compressor</th>\n      <th>ambient_temp</th>\n      <th>refrigerator_temp</th>\n      <th>ambient_refrigerator_diff</th>\n      <th>refrigerator_temp_diff</th>\n      <th>ambient_temp_diff</th>\n      <th>compressor</th>\n      <th>ambient_temp</th>\n      <th>refrigerator_temp</th>\n      <th>ambient_refrigerator_diff</th>\n      <th>refrigerator_temp_diff</th>\n      <th>ambient_temp_diff</th>\n    </tr>\n    <tr>\n      <th>time</th>\n      <th></th>\n      <th></th>\n      <th></th>\n      <th></th>\n      <th></th>\n      <th></th>\n      <th></th>\n      <th></th>\n      <th></th>\n      <th></th>\n      <th></th>\n      <th></th>\n      <th></th>\n      <th></th>\n      <th></th>\n      <th></th>\n      <th></th>\n      <th></th>\n    </tr>\n  </thead>\n  <tbody>\n    <tr>\n      <th>15</th>\n      <td>0</td>\n      <td>6.35</td>\n      <td>2.18</td>\n      <td>4.17</td>\n      <td>0.18</td>\n      <td>-0.15</td>\n      <td>0.0</td>\n      <td>6.20</td>\n      <td>2.19</td>\n      <td>4.01</td>\n      <td>0.01</td>\n      <td>-0.15</td>\n      <td>1.0</td>\n      <td>6.05</td>\n      <td>1.68</td>\n      <td>4.37</td>\n      <td>-0.51</td>\n      <td>-0.15</td>\n    </tr>\n    <tr>\n      <th>30</th>\n      <td>0</td>\n      <td>6.20</td>\n      <td>2.19</td>\n      <td>4.01</td>\n      <td>0.01</td>\n      <td>-0.15</td>\n      <td>1.0</td>\n      <td>6.05</td>\n      <td>1.68</td>\n      <td>4.37</td>\n      <td>-0.51</td>\n      <td>-0.15</td>\n      <td>1.0</td>\n      <td>5.90</td>\n      <td>1.50</td>\n      <td>4.40</td>\n      <td>-0.18</td>\n      <td>-0.15</td>\n    </tr>\n    <tr>\n      <th>45</th>\n      <td>1</td>\n      <td>6.05</td>\n      <td>1.68</td>\n      <td>4.37</td>\n      <td>-0.51</td>\n      <td>-0.15</td>\n      <td>1.0</td>\n      <td>5.90</td>\n      <td>1.50</td>\n      <td>4.40</td>\n      <td>-0.18</td>\n      <td>-0.15</td>\n      <td>0.0</td>\n      <td>5.74</td>\n      <td>1.64</td>\n      <td>4.10</td>\n      <td>0.14</td>\n      <td>-0.16</td>\n    </tr>\n    <tr>\n      <th>60</th>\n      <td>1</td>\n      <td>5.90</td>\n      <td>1.50</td>\n      <td>4.40</td>\n      <td>-0.18</td>\n      <td>-0.15</td>\n      <td>0.0</td>\n      <td>5.74</td>\n      <td>1.64</td>\n      <td>4.10</td>\n      <td>0.14</td>\n      <td>-0.16</td>\n      <td>0.0</td>\n      <td>5.59</td>\n      <td>1.62</td>\n      <td>3.97</td>\n      <td>-0.02</td>\n      <td>-0.15</td>\n    </tr>\n    <tr>\n      <th>75</th>\n      <td>0</td>\n      <td>5.74</td>\n      <td>1.64</td>\n      <td>4.10</td>\n      <td>0.14</td>\n      <td>-0.16</td>\n      <td>0.0</td>\n      <td>5.59</td>\n      <td>1.62</td>\n      <td>3.97</td>\n      <td>-0.02</td>\n      <td>-0.15</td>\n      <td>0.0</td>\n      <td>5.44</td>\n      <td>1.56</td>\n      <td>3.88</td>\n      <td>-0.06</td>\n      <td>-0.15</td>\n    </tr>\n  </tbody>\n</table>\n</div>"
     },
     "metadata": {},
     "execution_count": 14
    }
   ],
   "source": [
    "delay = 3\n",
    "frames = [df.shift(-t) for t in range(delay)]\n",
    "# small_df = df.iloc[:40]\n",
    "delayed_df = pd.concat(frames, axis=1).dropna()\n",
    "delayed_df.head()"
   ]
  },
  {
   "cell_type": "code",
   "execution_count": 15,
   "metadata": {},
   "outputs": [
    {
     "output_type": "execute_result",
     "data": {
      "text/plain": "time\n15   -0.18\n30    0.14\n45   -0.02\n60   -0.06\n75   -0.02\nName: refrigerator_temp_diff, dtype: float64"
     },
     "metadata": {},
     "execution_count": 15
    }
   ],
   "source": [
    "to_be_predicted = delayed_df.iloc[:,-2].shift(-1)\n",
    "to_be_predicted.head()"
   ]
  },
  {
   "cell_type": "code",
   "execution_count": 16,
   "metadata": {},
   "outputs": [
    {
     "output_type": "execute_result",
     "data": {
      "text/plain": "time\n15    1.50\n30    1.64\n45    1.62\n60    1.56\n75    1.54\nName: refrigerator_temp, dtype: float64"
     },
     "metadata": {},
     "execution_count": 16
    }
   ],
   "source": [
    "actual_refrigerator_temp = delayed_df.iloc[:,-4].shift(-1)\n",
    "actual_refrigerator_temp.head()"
   ]
  },
  {
   "cell_type": "code",
   "execution_count": 17,
   "metadata": {},
   "outputs": [
    {
     "output_type": "execute_result",
     "data": {
      "text/plain": "      compressor  ambient_temp  refrigerator_temp  ambient_refrigerator_diff  \\\ntime                                                                           \n15             0          6.35               2.18                       4.17   \n30             0          6.20               2.19                       4.01   \n45             1          6.05               1.68                       4.37   \n60             1          5.90               1.50                       4.40   \n75             0          5.74               1.64                       4.10   \n\n      refrigerator_temp_diff  ambient_temp_diff  compressor  ambient_temp  \\\ntime                                                                        \n15                      0.18              -0.15         0.0          6.20   \n30                      0.01              -0.15         1.0          6.05   \n45                     -0.51              -0.15         1.0          5.90   \n60                     -0.18              -0.15         0.0          5.74   \n75                      0.14              -0.16         0.0          5.59   \n\n      refrigerator_temp  ambient_refrigerator_diff  refrigerator_temp_diff  \\\ntime                                                                         \n15                 2.19                       4.01                    0.01   \n30                 1.68                       4.37                   -0.51   \n45                 1.50                       4.40                   -0.18   \n60                 1.64                       4.10                    0.14   \n75                 1.62                       3.97                   -0.02   \n\n      ambient_temp_diff  compressor  ambient_temp  refrigerator_temp  \\\ntime                                                                   \n15                -0.15         1.0          6.05               1.68   \n30                -0.15         1.0          5.90               1.50   \n45                -0.15         0.0          5.74               1.64   \n60                -0.16         0.0          5.59               1.62   \n75                -0.15         0.0          5.44               1.56   \n\n      ambient_refrigerator_diff  refrigerator_temp_diff  ambient_temp_diff  \\\ntime                                                                         \n15                         4.37                   -0.51              -0.15   \n30                         4.40                   -0.18              -0.15   \n45                         4.10                    0.14              -0.16   \n60                         3.97                   -0.02              -0.15   \n75                         3.88                   -0.06              -0.15   \n\n      refrigerator_temp_diff  refrigerator_temp  \ntime                                             \n15                     -0.18               1.50  \n30                      0.14               1.64  \n45                     -0.02               1.62  \n60                     -0.06               1.56  \n75                     -0.02               1.54  ",
      "text/html": "<div>\n<style scoped>\n    .dataframe tbody tr th:only-of-type {\n        vertical-align: middle;\n    }\n\n    .dataframe tbody tr th {\n        vertical-align: top;\n    }\n\n    .dataframe thead th {\n        text-align: right;\n    }\n</style>\n<table border=\"1\" class=\"dataframe\">\n  <thead>\n    <tr style=\"text-align: right;\">\n      <th></th>\n      <th>compressor</th>\n      <th>ambient_temp</th>\n      <th>refrigerator_temp</th>\n      <th>ambient_refrigerator_diff</th>\n      <th>refrigerator_temp_diff</th>\n      <th>ambient_temp_diff</th>\n      <th>compressor</th>\n      <th>ambient_temp</th>\n      <th>refrigerator_temp</th>\n      <th>ambient_refrigerator_diff</th>\n      <th>refrigerator_temp_diff</th>\n      <th>ambient_temp_diff</th>\n      <th>compressor</th>\n      <th>ambient_temp</th>\n      <th>refrigerator_temp</th>\n      <th>ambient_refrigerator_diff</th>\n      <th>refrigerator_temp_diff</th>\n      <th>ambient_temp_diff</th>\n      <th>refrigerator_temp_diff</th>\n      <th>refrigerator_temp</th>\n    </tr>\n    <tr>\n      <th>time</th>\n      <th></th>\n      <th></th>\n      <th></th>\n      <th></th>\n      <th></th>\n      <th></th>\n      <th></th>\n      <th></th>\n      <th></th>\n      <th></th>\n      <th></th>\n      <th></th>\n      <th></th>\n      <th></th>\n      <th></th>\n      <th></th>\n      <th></th>\n      <th></th>\n      <th></th>\n      <th></th>\n    </tr>\n  </thead>\n  <tbody>\n    <tr>\n      <th>15</th>\n      <td>0</td>\n      <td>6.35</td>\n      <td>2.18</td>\n      <td>4.17</td>\n      <td>0.18</td>\n      <td>-0.15</td>\n      <td>0.0</td>\n      <td>6.20</td>\n      <td>2.19</td>\n      <td>4.01</td>\n      <td>0.01</td>\n      <td>-0.15</td>\n      <td>1.0</td>\n      <td>6.05</td>\n      <td>1.68</td>\n      <td>4.37</td>\n      <td>-0.51</td>\n      <td>-0.15</td>\n      <td>-0.18</td>\n      <td>1.50</td>\n    </tr>\n    <tr>\n      <th>30</th>\n      <td>0</td>\n      <td>6.20</td>\n      <td>2.19</td>\n      <td>4.01</td>\n      <td>0.01</td>\n      <td>-0.15</td>\n      <td>1.0</td>\n      <td>6.05</td>\n      <td>1.68</td>\n      <td>4.37</td>\n      <td>-0.51</td>\n      <td>-0.15</td>\n      <td>1.0</td>\n      <td>5.90</td>\n      <td>1.50</td>\n      <td>4.40</td>\n      <td>-0.18</td>\n      <td>-0.15</td>\n      <td>0.14</td>\n      <td>1.64</td>\n    </tr>\n    <tr>\n      <th>45</th>\n      <td>1</td>\n      <td>6.05</td>\n      <td>1.68</td>\n      <td>4.37</td>\n      <td>-0.51</td>\n      <td>-0.15</td>\n      <td>1.0</td>\n      <td>5.90</td>\n      <td>1.50</td>\n      <td>4.40</td>\n      <td>-0.18</td>\n      <td>-0.15</td>\n      <td>0.0</td>\n      <td>5.74</td>\n      <td>1.64</td>\n      <td>4.10</td>\n      <td>0.14</td>\n      <td>-0.16</td>\n      <td>-0.02</td>\n      <td>1.62</td>\n    </tr>\n    <tr>\n      <th>60</th>\n      <td>1</td>\n      <td>5.90</td>\n      <td>1.50</td>\n      <td>4.40</td>\n      <td>-0.18</td>\n      <td>-0.15</td>\n      <td>0.0</td>\n      <td>5.74</td>\n      <td>1.64</td>\n      <td>4.10</td>\n      <td>0.14</td>\n      <td>-0.16</td>\n      <td>0.0</td>\n      <td>5.59</td>\n      <td>1.62</td>\n      <td>3.97</td>\n      <td>-0.02</td>\n      <td>-0.15</td>\n      <td>-0.06</td>\n      <td>1.56</td>\n    </tr>\n    <tr>\n      <th>75</th>\n      <td>0</td>\n      <td>5.74</td>\n      <td>1.64</td>\n      <td>4.10</td>\n      <td>0.14</td>\n      <td>-0.16</td>\n      <td>0.0</td>\n      <td>5.59</td>\n      <td>1.62</td>\n      <td>3.97</td>\n      <td>-0.02</td>\n      <td>-0.15</td>\n      <td>0.0</td>\n      <td>5.44</td>\n      <td>1.56</td>\n      <td>3.88</td>\n      <td>-0.06</td>\n      <td>-0.15</td>\n      <td>-0.02</td>\n      <td>1.54</td>\n    </tr>\n  </tbody>\n</table>\n</div>"
     },
     "metadata": {},
     "execution_count": 17
    }
   ],
   "source": [
    "final_df = pd.concat([delayed_df, to_be_predicted, actual_refrigerator_temp], axis=1).dropna()\n",
    "final_df.head()"
   ]
  },
  {
   "cell_type": "code",
   "execution_count": 18,
   "metadata": {},
   "outputs": [
    {
     "output_type": "execute_result",
     "data": {
      "text/plain": "(2872, 19)"
     },
     "metadata": {},
     "execution_count": 18
    }
   ],
   "source": [
    "\n",
    "training_data = final_df.iloc[:-100, :-1]\n",
    "test_data = final_df.iloc[-100:, :]\n",
    "training_data.shape"
   ]
  },
  {
   "cell_type": "code",
   "execution_count": 19,
   "metadata": {},
   "outputs": [],
   "source": [
    "import random_forest\n",
    "from random_forest.forest import Forest\n",
    "\n",
    "random_forest.tree.config.create_config(min_split_size=30, number_of_predictors_to_draw=15)\n",
    "random_forest.forest.config.create_config(data_size_for_tree=200, number_of_trees=100)\n",
    "\n",
    "forest = Forest(training_data)"
   ]
  },
  {
   "cell_type": "code",
   "execution_count": 20,
   "metadata": {},
   "outputs": [
    {
     "output_type": "execute_result",
     "data": {
      "text/plain": "(1, 19)"
     },
     "metadata": {},
     "execution_count": 20
    }
   ],
   "source": [
    "test_data.iloc[:, -6]\n",
    "forest.out_of_bag.shape"
   ]
  },
  {
   "cell_type": "code",
   "execution_count": 21,
   "metadata": {},
   "outputs": [
    {
     "output_type": "stream",
     "name": "stdout",
     "text": "test mean error 0.13334959357203466%\nNaive mean error 0.11790000000000006%\n"
    }
   ],
   "source": [
    "prediction_err_sum = 0\n",
    "actual_value = 0\n",
    "naive_err_sum = 0\n",
    "for test in test_data.values:\n",
    "    previous_temp = test[-6]\n",
    "    actual_value = test[-1]\n",
    "    prediction_err_sum += abs(((forest.predict(test[:-2]) + previous_temp) - actual_value))\n",
    "    naive_err_sum += abs((previous_temp - actual_value))\n",
    "\n",
    "# out_of_bag_size = forest.out_of_bag.shape[0]\n",
    "print(f\"test mean error {(prediction_err_sum/test_data.shape[0])}%\")\n",
    "print(f\"Naive mean error {(naive_err_sum/test_data.shape[0])}%\")"
   ]
  },
  {
   "cell_type": "code",
   "execution_count": 22,
   "metadata": {},
   "outputs": [
    {
     "output_type": "execute_result",
     "data": {
      "text/plain": "(100, 20)"
     },
     "metadata": {},
     "execution_count": 22
    }
   ],
   "source": [
    "test_data.shape"
   ]
  },
  {
   "cell_type": "code",
   "execution_count": 23,
   "metadata": {},
   "outputs": [
    {
     "output_type": "stream",
     "name": "stdout",
     "text": "previous = 2.72 forest prediction = 2.609736955539036 current = 2.56\n"
    }
   ],
   "source": [
    "print(f\"previous = {test[-6]} forest prediction = {forest.predict(test[:-2])+test[-6]} current = {test[-1]}\")"
   ]
  },
  {
   "cell_type": "code",
   "execution_count": 24,
   "metadata": {},
   "outputs": [
    {
     "output_type": "execute_result",
     "data": {
      "text/plain": "\n        min_split_size: 30\n        number_of_predictors_to_draw: 15\n        \n        Branch:\n            if <= 9_1.35:\n                Leaf: -0.48\n            else:\n                \n        Branch:\n            if <= 16_0.3400000000000001:\n                \n        Branch:\n            if <= 9_7.02:\n                \n        Branch:\n            if <= 13_5.9:\n                \n        Branch:\n            if <= 11_-0.06999999999999984:\n                \n        Branch:\n            if <= 4_-0.05:\n                Leaf: -0.07000000000000002\n            else:\n                Leaf: -0.004782608695652159  \n        \n            else:\n                \n        Branch:\n            if <= 2_-1.05:\n                \n        Branch:\n            if <= 5_-0.11999999999999966:\n                Leaf: 0.1399999999999999\n            else:\n                \n        Branch:\n            if <= 8_-2.77:\n                Leaf: 0.0949999999999999\n            else:\n                \n        Branch:\n            if <= 12_0.0:\n                Leaf: 0.01176470588235294\n            else:\n                \n        Branch:\n            if <= 5_-0.020000000000000462:\n                Leaf: -0.09499999999999997\n            else:\n                Leaf: -0.023333333333333307  \n          \n          \n          \n        \n            else:\n                Leaf: 0.09500000000000004  \n          \n        \n            else:\n                Leaf: -0.15214285714285714  \n        \n            else:\n                \n        Branch:\n            if <= 16_-0.010000000000000009:\n                \n        Branch:\n            if <= 10_-0.14000000000000012:\n                Leaf: 0.09\n            else:\n                Leaf: -0.01461538461538462  \n        \n            else:\n                \n        Branch:\n            if <= 17_0.5200000000000014:\n                \n        Branch:\n            if <= 4_0.11999999999999988:\n                \n        Branch:\n            if <= 7_16.31:\n                \n        Branch:\n            if <= 2_-2.56:\n                Leaf: 0.22999999999999998\n            else:\n                \n        Branch:\n            if <= 16_-0.009999999999999898:\n                Leaf: 0.22999999999999998\n            else:\n                \n        Branch:\n            if <= 5_-0.02999999999999936:\n                Leaf: -0.04399999999999995\n            else:\n                Leaf: 0.039259259259259244  \n          \n          \n        \n            else:\n                Leaf: 0.25  \n        \n            else:\n                Leaf: 0.12571428571428572  \n        \n            else:\n                Leaf: 0.28  \n          \n          \n        \n            else:\n                Leaf: -0.37  \n          \n        \n        "
     },
     "metadata": {},
     "execution_count": 24
    }
   ],
   "source": [
    "forest.trees[0]"
   ]
  },
  {
   "cell_type": "code",
   "execution_count": 25,
   "metadata": {},
   "outputs": [
    {
     "output_type": "error",
     "ename": "IndexError",
     "evalue": "index 21 is out of bounds for axis 0 with size 20",
     "traceback": [
      "\u001b[1;31m---------------------------------------------------------------------------\u001b[0m",
      "\u001b[1;31mIndexError\u001b[0m                                Traceback (most recent call last)",
      "\u001b[1;32m<ipython-input-25-d58008487e13>\u001b[0m in \u001b[0;36m<module>\u001b[1;34m\u001b[0m\n\u001b[1;32m----> 1\u001b[1;33m \u001b[0mtest\u001b[0m\u001b[1;33m[\u001b[0m\u001b[1;36m21\u001b[0m\u001b[1;33m]\u001b[0m\u001b[1;33m\u001b[0m\u001b[1;33m\u001b[0m\u001b[0m\n\u001b[0m",
      "\u001b[1;31mIndexError\u001b[0m: index 21 is out of bounds for axis 0 with size 20"
     ]
    }
   ],
   "source": [
    "test[21]"
   ]
  },
  {
   "cell_type": "code",
   "execution_count": null,
   "metadata": {},
   "outputs": [],
   "source": []
  },
  {
   "cell_type": "code",
   "execution_count": 31,
   "metadata": {},
   "outputs": [
    {
     "output_type": "error",
     "ename": "TypeError",
     "evalue": "'(slice(None, None, None), -1)' is an invalid key",
     "traceback": [
      "\u001b[1;31m---------------------------------------------------------------------------\u001b[0m",
      "\u001b[1;31mTypeError\u001b[0m                                 Traceback (most recent call last)",
      "\u001b[1;32m<ipython-input-31-9d6761309602>\u001b[0m in \u001b[0;36m<module>\u001b[1;34m\u001b[0m\n\u001b[0;32m      1\u001b[0m \u001b[1;32mimport\u001b[0m \u001b[0mmatplotlib\u001b[0m\u001b[1;33m.\u001b[0m \u001b[0mpyplot\u001b[0m \u001b[1;32mas\u001b[0m \u001b[0mplt\u001b[0m\u001b[1;33m\u001b[0m\u001b[1;33m\u001b[0m\u001b[0m\n\u001b[1;32m----> 2\u001b[1;33m \u001b[0mplt\u001b[0m\u001b[1;33m.\u001b[0m\u001b[0mplot\u001b[0m\u001b[1;33m(\u001b[0m\u001b[0mtest_data\u001b[0m\u001b[1;33m[\u001b[0m\u001b[1;33m:\u001b[0m\u001b[1;33m,\u001b[0m\u001b[1;33m-\u001b[0m\u001b[1;36m1\u001b[0m\u001b[1;33m]\u001b[0m\u001b[1;33m)\u001b[0m\u001b[1;33m\u001b[0m\u001b[1;33m\u001b[0m\u001b[0m\n\u001b[0m",
      "\u001b[1;32mc:\\Users\\Jacek\\Documents\\um\\env\\lib\\site-packages\\pandas\\core\\frame.py\u001b[0m in \u001b[0;36m__getitem__\u001b[1;34m(self, key)\u001b[0m\n\u001b[0;32m   2798\u001b[0m             \u001b[1;32mif\u001b[0m \u001b[0mself\u001b[0m\u001b[1;33m.\u001b[0m\u001b[0mcolumns\u001b[0m\u001b[1;33m.\u001b[0m\u001b[0mnlevels\u001b[0m \u001b[1;33m>\u001b[0m \u001b[1;36m1\u001b[0m\u001b[1;33m:\u001b[0m\u001b[1;33m\u001b[0m\u001b[1;33m\u001b[0m\u001b[0m\n\u001b[0;32m   2799\u001b[0m                 \u001b[1;32mreturn\u001b[0m \u001b[0mself\u001b[0m\u001b[1;33m.\u001b[0m\u001b[0m_getitem_multilevel\u001b[0m\u001b[1;33m(\u001b[0m\u001b[0mkey\u001b[0m\u001b[1;33m)\u001b[0m\u001b[1;33m\u001b[0m\u001b[1;33m\u001b[0m\u001b[0m\n\u001b[1;32m-> 2800\u001b[1;33m             \u001b[0mindexer\u001b[0m \u001b[1;33m=\u001b[0m \u001b[0mself\u001b[0m\u001b[1;33m.\u001b[0m\u001b[0mcolumns\u001b[0m\u001b[1;33m.\u001b[0m\u001b[0mget_loc\u001b[0m\u001b[1;33m(\u001b[0m\u001b[0mkey\u001b[0m\u001b[1;33m)\u001b[0m\u001b[1;33m\u001b[0m\u001b[1;33m\u001b[0m\u001b[0m\n\u001b[0m\u001b[0;32m   2801\u001b[0m             \u001b[1;32mif\u001b[0m \u001b[0mis_integer\u001b[0m\u001b[1;33m(\u001b[0m\u001b[0mindexer\u001b[0m\u001b[1;33m)\u001b[0m\u001b[1;33m:\u001b[0m\u001b[1;33m\u001b[0m\u001b[1;33m\u001b[0m\u001b[0m\n\u001b[0;32m   2802\u001b[0m                 \u001b[0mindexer\u001b[0m \u001b[1;33m=\u001b[0m \u001b[1;33m[\u001b[0m\u001b[0mindexer\u001b[0m\u001b[1;33m]\u001b[0m\u001b[1;33m\u001b[0m\u001b[1;33m\u001b[0m\u001b[0m\n",
      "\u001b[1;32mc:\\Users\\Jacek\\Documents\\um\\env\\lib\\site-packages\\pandas\\core\\indexes\\base.py\u001b[0m in \u001b[0;36mget_loc\u001b[1;34m(self, key, method, tolerance)\u001b[0m\n\u001b[0;32m   2644\u001b[0m                 )\n\u001b[0;32m   2645\u001b[0m             \u001b[1;32mtry\u001b[0m\u001b[1;33m:\u001b[0m\u001b[1;33m\u001b[0m\u001b[1;33m\u001b[0m\u001b[0m\n\u001b[1;32m-> 2646\u001b[1;33m                 \u001b[1;32mreturn\u001b[0m \u001b[0mself\u001b[0m\u001b[1;33m.\u001b[0m\u001b[0m_engine\u001b[0m\u001b[1;33m.\u001b[0m\u001b[0mget_loc\u001b[0m\u001b[1;33m(\u001b[0m\u001b[0mkey\u001b[0m\u001b[1;33m)\u001b[0m\u001b[1;33m\u001b[0m\u001b[1;33m\u001b[0m\u001b[0m\n\u001b[0m\u001b[0;32m   2647\u001b[0m             \u001b[1;32mexcept\u001b[0m \u001b[0mKeyError\u001b[0m\u001b[1;33m:\u001b[0m\u001b[1;33m\u001b[0m\u001b[1;33m\u001b[0m\u001b[0m\n\u001b[0;32m   2648\u001b[0m                 \u001b[1;32mreturn\u001b[0m \u001b[0mself\u001b[0m\u001b[1;33m.\u001b[0m\u001b[0m_engine\u001b[0m\u001b[1;33m.\u001b[0m\u001b[0mget_loc\u001b[0m\u001b[1;33m(\u001b[0m\u001b[0mself\u001b[0m\u001b[1;33m.\u001b[0m\u001b[0m_maybe_cast_indexer\u001b[0m\u001b[1;33m(\u001b[0m\u001b[0mkey\u001b[0m\u001b[1;33m)\u001b[0m\u001b[1;33m)\u001b[0m\u001b[1;33m\u001b[0m\u001b[1;33m\u001b[0m\u001b[0m\n",
      "\u001b[1;32mpandas\\_libs\\index.pyx\u001b[0m in \u001b[0;36mpandas._libs.index.IndexEngine.get_loc\u001b[1;34m()\u001b[0m\n",
      "\u001b[1;32mpandas\\_libs\\index.pyx\u001b[0m in \u001b[0;36mpandas._libs.index.IndexEngine.get_loc\u001b[1;34m()\u001b[0m\n",
      "\u001b[1;31mTypeError\u001b[0m: '(slice(None, None, None), -1)' is an invalid key"
     ]
    }
   ],
   "source": [
    "import matplotlib. pyplot as plt\n",
    "plt.plot(test_data.iloc[:,-1])"
   ]
  }
 ],
 "metadata": {
  "kernelspec": {
   "display_name": "Python 3.8.2 64-bit ('env': venv)",
   "language": "python",
   "name": "python38264bitenvvenv143f3d7cb84140ac993f36096aed9a8e"
  },
  "language_info": {
   "codemirror_mode": {
    "name": "ipython",
    "version": 3
   },
   "file_extension": ".py",
   "mimetype": "text/x-python",
   "name": "python",
   "nbconvert_exporter": "python",
   "pygments_lexer": "ipython3",
   "version": "3.8.2-final"
  }
 },
 "nbformat": 4,
 "nbformat_minor": 4
}