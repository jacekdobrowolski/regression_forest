{
 "cells": [
  {
   "cell_type": "markdown",
   "metadata": {},
   "source": [
    "I tutaj będe sobie pisać eksperymenty i temu podobne sprawy"
   ]
  },
  {
   "cell_type": "code",
   "execution_count": 1,
   "metadata": {},
   "outputs": [],
   "source": [
    "import numpy as np\n",
    "import pandas as pd\n",
    "import matplotlib.pyplot as plt\n",
    "%matplotlib inline"
   ]
  },
  {
   "cell_type": "code",
   "execution_count": 2,
   "metadata": {},
   "outputs": [
    {
     "output_type": "execute_result",
     "data": {
      "text/plain": "   czas(min)  alpha  temp    Ts\n0          0      1  6,50     2\n1         15      0  6,35  2,18\n2         30      0  6,20  2,19\n3         45      1  6,05  1,68\n4         60      1  5,90   1,5",
      "text/html": "<div>\n<style scoped>\n    .dataframe tbody tr th:only-of-type {\n        vertical-align: middle;\n    }\n\n    .dataframe tbody tr th {\n        vertical-align: top;\n    }\n\n    .dataframe thead th {\n        text-align: right;\n    }\n</style>\n<table border=\"1\" class=\"dataframe\">\n  <thead>\n    <tr style=\"text-align: right;\">\n      <th></th>\n      <th>czas(min)</th>\n      <th>alpha</th>\n      <th>temp</th>\n      <th>Ts</th>\n    </tr>\n  </thead>\n  <tbody>\n    <tr>\n      <th>0</th>\n      <td>0</td>\n      <td>1</td>\n      <td>6,50</td>\n      <td>2</td>\n    </tr>\n    <tr>\n      <th>1</th>\n      <td>15</td>\n      <td>0</td>\n      <td>6,35</td>\n      <td>2,18</td>\n    </tr>\n    <tr>\n      <th>2</th>\n      <td>30</td>\n      <td>0</td>\n      <td>6,20</td>\n      <td>2,19</td>\n    </tr>\n    <tr>\n      <th>3</th>\n      <td>45</td>\n      <td>1</td>\n      <td>6,05</td>\n      <td>1,68</td>\n    </tr>\n    <tr>\n      <th>4</th>\n      <td>60</td>\n      <td>1</td>\n      <td>5,90</td>\n      <td>1,5</td>\n    </tr>\n  </tbody>\n</table>\n</div>"
     },
     "metadata": {},
     "execution_count": 2
    }
   ],
   "source": [
    "df = pd.read_csv('refrigerator_temp_time_series.csv')\n",
    "df.head()"
   ]
  },
  {
   "cell_type": "code",
   "execution_count": 3,
   "metadata": {},
   "outputs": [],
   "source": [
    "df['temp'] = df['temp'].apply(lambda x: x.replace(',','.')).astype('float64')\n",
    "df['Ts'] = df['Ts'].apply(lambda x: x.replace(',','.')).astype('float64')"
   ]
  },
  {
   "cell_type": "code",
   "execution_count": 4,
   "metadata": {},
   "outputs": [
    {
     "output_type": "execute_result",
     "data": {
      "text/plain": "   czas(min)  alpha  temp    Ts\n0          0      1  6.50  2.00\n1         15      0  6.35  2.18\n2         30      0  6.20  2.19\n3         45      1  6.05  1.68\n4         60      1  5.90  1.50",
      "text/html": "<div>\n<style scoped>\n    .dataframe tbody tr th:only-of-type {\n        vertical-align: middle;\n    }\n\n    .dataframe tbody tr th {\n        vertical-align: top;\n    }\n\n    .dataframe thead th {\n        text-align: right;\n    }\n</style>\n<table border=\"1\" class=\"dataframe\">\n  <thead>\n    <tr style=\"text-align: right;\">\n      <th></th>\n      <th>czas(min)</th>\n      <th>alpha</th>\n      <th>temp</th>\n      <th>Ts</th>\n    </tr>\n  </thead>\n  <tbody>\n    <tr>\n      <th>0</th>\n      <td>0</td>\n      <td>1</td>\n      <td>6.50</td>\n      <td>2.00</td>\n    </tr>\n    <tr>\n      <th>1</th>\n      <td>15</td>\n      <td>0</td>\n      <td>6.35</td>\n      <td>2.18</td>\n    </tr>\n    <tr>\n      <th>2</th>\n      <td>30</td>\n      <td>0</td>\n      <td>6.20</td>\n      <td>2.19</td>\n    </tr>\n    <tr>\n      <th>3</th>\n      <td>45</td>\n      <td>1</td>\n      <td>6.05</td>\n      <td>1.68</td>\n    </tr>\n    <tr>\n      <th>4</th>\n      <td>60</td>\n      <td>1</td>\n      <td>5.90</td>\n      <td>1.50</td>\n    </tr>\n  </tbody>\n</table>\n</div>"
     },
     "metadata": {},
     "execution_count": 4
    }
   ],
   "source": [
    "df.head()"
   ]
  },
  {
   "cell_type": "code",
   "execution_count": 5,
   "metadata": {},
   "outputs": [
    {
     "output_type": "execute_result",
     "data": {
      "text/plain": "      compressor  ambient_temp  refrigerator_temp\ntime                                             \n0              1          6.50               2.00\n15             0          6.35               2.18\n30             0          6.20               2.19\n45             1          6.05               1.68\n60             1          5.90               1.50",
      "text/html": "<div>\n<style scoped>\n    .dataframe tbody tr th:only-of-type {\n        vertical-align: middle;\n    }\n\n    .dataframe tbody tr th {\n        vertical-align: top;\n    }\n\n    .dataframe thead th {\n        text-align: right;\n    }\n</style>\n<table border=\"1\" class=\"dataframe\">\n  <thead>\n    <tr style=\"text-align: right;\">\n      <th></th>\n      <th>compressor</th>\n      <th>ambient_temp</th>\n      <th>refrigerator_temp</th>\n    </tr>\n    <tr>\n      <th>time</th>\n      <th></th>\n      <th></th>\n      <th></th>\n    </tr>\n  </thead>\n  <tbody>\n    <tr>\n      <th>0</th>\n      <td>1</td>\n      <td>6.50</td>\n      <td>2.00</td>\n    </tr>\n    <tr>\n      <th>15</th>\n      <td>0</td>\n      <td>6.35</td>\n      <td>2.18</td>\n    </tr>\n    <tr>\n      <th>30</th>\n      <td>0</td>\n      <td>6.20</td>\n      <td>2.19</td>\n    </tr>\n    <tr>\n      <th>45</th>\n      <td>1</td>\n      <td>6.05</td>\n      <td>1.68</td>\n    </tr>\n    <tr>\n      <th>60</th>\n      <td>1</td>\n      <td>5.90</td>\n      <td>1.50</td>\n    </tr>\n  </tbody>\n</table>\n</div>"
     },
     "metadata": {},
     "execution_count": 5
    }
   ],
   "source": [
    "df.rename(columns={\"czas(min)\": \"time\", \"alpha\": \"compressor\", \"temp\": 'ambient_temp', \"Ts\": 'refrigerator_temp'}, inplace=True)\n",
    "df.set_index('time', inplace=True)\n",
    "df.head()"
   ]
  },
  {
   "cell_type": "code",
   "execution_count": null,
   "metadata": {},
   "outputs": [],
   "source": []
  },
  {
   "cell_type": "code",
   "execution_count": 6,
   "metadata": {},
   "outputs": [
    {
     "output_type": "execute_result",
     "data": {
      "text/plain": "array([[ 1.  ,  6.5 ,  2.  , ...,  0.  ,  5.26,  1.82],\n       [ 0.  ,  5.23,  1.86, ...,  0.  ,  5.39,  1.48],\n       [ 0.  ,  5.3 ,  1.53, ...,  1.  ,  5.99,  0.9 ],\n       ...,\n       [ 0.  ,  1.97, -1.98, ...,  0.  ,  1.23, -1.93],\n       [ 0.  ,  1.2 , -1.92, ...,  0.  ,  2.01, -2.07],\n       [ 1.  ,  2.13, -2.17, ...,  1.  ,  4.01, -2.48]])"
     },
     "metadata": {},
     "execution_count": 6
    }
   ],
   "source": [
    "size = 1000\n",
    "delay = 100\n",
    "\n",
    "a = df.iloc[0:size,:].to_numpy().reshape(delay,size*3//delay)\n",
    "a"
   ]
  },
  {
   "cell_type": "code",
   "execution_count": 7,
   "metadata": {},
   "outputs": [
    {
     "output_type": "execute_result",
     "data": {
      "text/plain": "(50, 12)"
     },
     "metadata": {},
     "execution_count": 7
    }
   ],
   "source": [
    "\n",
    "\n",
    "delay = 4\n",
    "frames = [df.shift(-t) for t in range(delay)]\n",
    "# small_df = df.iloc[:40]\n",
    "delayed_df = pd.concat(frames, axis=1).dropna()\n",
    "\n",
    "small_df = delayed_df.iloc[:50]\n",
    "small_df.shape\n"
   ]
  },
  {
   "cell_type": "code",
   "execution_count": 8,
   "metadata": {},
   "outputs": [
    {
     "output_type": "error",
     "ename": "NameError",
     "evalue": "name 'Forest' is not defined",
     "traceback": [
      "\u001b[1;31m---------------------------------------------------------------------------\u001b[0m",
      "\u001b[1;31mNameError\u001b[0m                                 Traceback (most recent call last)",
      "\u001b[1;32m<ipython-input-8-3b558d2e0135>\u001b[0m in \u001b[0;36m<module>\u001b[1;34m\u001b[0m\n\u001b[1;32m----> 1\u001b[1;33m \u001b[0mforest\u001b[0m \u001b[1;33m=\u001b[0m \u001b[0mForest\u001b[0m\u001b[1;33m(\u001b[0m\u001b[0mdelayed_df\u001b[0m\u001b[1;33m)\u001b[0m\u001b[1;33m\u001b[0m\u001b[1;33m\u001b[0m\u001b[0m\n\u001b[0m\u001b[0;32m      2\u001b[0m \u001b[1;33m\u001b[0m\u001b[0m\n",
      "\u001b[1;31mNameError\u001b[0m: name 'Forest' is not defined"
     ]
    }
   ],
   "source": [
    "forest = Forest(delayed_df)\n",
    " "
   ]
  },
  {
   "cell_type": "code",
   "execution_count": 9,
   "metadata": {
    "tags": []
   },
   "outputs": [
    {
     "output_type": "stream",
     "name": "stdout",
     "text": "(50, 12)\n(19, 12)\n"
    },
    {
     "output_type": "execute_result",
     "data": {
      "text/plain": "      compressor  ambient_temp  refrigerator_temp  compressor  ambient_temp  \\\ntime                                                                          \n45             1          6.05               1.68         1.0          5.90   \n510            1          6.81               0.64         1.0          7.06   \n255            0          5.60               1.22         0.0          5.49   \n90             0          5.59               1.62         0.0          5.44   \n735            0          7.99               0.59         0.0          7.97   \n\n      refrigerator_temp  compressor  ambient_temp  refrigerator_temp  \\\ntime                                                                   \n45                 1.50         0.0          5.74               1.64   \n510                0.60         0.0          7.30               0.79   \n255                1.22         0.0          5.39               1.48   \n90                 1.56         0.0          5.30               1.54   \n735                0.84         0.0          7.94               0.93   \n\n      compressor  ambient_temp  refrigerator_temp  \ntime                                               \n45           0.0          5.59               1.62  \n510          0.0          7.29               0.81  \n255          0.0          5.30               1.53  \n90           0.0          5.26               1.82  \n735          0.0          7.90               0.98  ",
      "text/html": "<div>\n<style scoped>\n    .dataframe tbody tr th:only-of-type {\n        vertical-align: middle;\n    }\n\n    .dataframe tbody tr th {\n        vertical-align: top;\n    }\n\n    .dataframe thead th {\n        text-align: right;\n    }\n</style>\n<table border=\"1\" class=\"dataframe\">\n  <thead>\n    <tr style=\"text-align: right;\">\n      <th></th>\n      <th>compressor</th>\n      <th>ambient_temp</th>\n      <th>refrigerator_temp</th>\n      <th>compressor</th>\n      <th>ambient_temp</th>\n      <th>refrigerator_temp</th>\n      <th>compressor</th>\n      <th>ambient_temp</th>\n      <th>refrigerator_temp</th>\n      <th>compressor</th>\n      <th>ambient_temp</th>\n      <th>refrigerator_temp</th>\n    </tr>\n    <tr>\n      <th>time</th>\n      <th></th>\n      <th></th>\n      <th></th>\n      <th></th>\n      <th></th>\n      <th></th>\n      <th></th>\n      <th></th>\n      <th></th>\n      <th></th>\n      <th></th>\n      <th></th>\n    </tr>\n  </thead>\n  <tbody>\n    <tr>\n      <th>45</th>\n      <td>1</td>\n      <td>6.05</td>\n      <td>1.68</td>\n      <td>1.0</td>\n      <td>5.90</td>\n      <td>1.50</td>\n      <td>0.0</td>\n      <td>5.74</td>\n      <td>1.64</td>\n      <td>0.0</td>\n      <td>5.59</td>\n      <td>1.62</td>\n    </tr>\n    <tr>\n      <th>510</th>\n      <td>1</td>\n      <td>6.81</td>\n      <td>0.64</td>\n      <td>1.0</td>\n      <td>7.06</td>\n      <td>0.60</td>\n      <td>0.0</td>\n      <td>7.30</td>\n      <td>0.79</td>\n      <td>0.0</td>\n      <td>7.29</td>\n      <td>0.81</td>\n    </tr>\n    <tr>\n      <th>255</th>\n      <td>0</td>\n      <td>5.60</td>\n      <td>1.22</td>\n      <td>0.0</td>\n      <td>5.49</td>\n      <td>1.22</td>\n      <td>0.0</td>\n      <td>5.39</td>\n      <td>1.48</td>\n      <td>0.0</td>\n      <td>5.30</td>\n      <td>1.53</td>\n    </tr>\n    <tr>\n      <th>90</th>\n      <td>0</td>\n      <td>5.59</td>\n      <td>1.62</td>\n      <td>0.0</td>\n      <td>5.44</td>\n      <td>1.56</td>\n      <td>0.0</td>\n      <td>5.30</td>\n      <td>1.54</td>\n      <td>0.0</td>\n      <td>5.26</td>\n      <td>1.82</td>\n    </tr>\n    <tr>\n      <th>735</th>\n      <td>0</td>\n      <td>7.99</td>\n      <td>0.59</td>\n      <td>0.0</td>\n      <td>7.97</td>\n      <td>0.84</td>\n      <td>0.0</td>\n      <td>7.94</td>\n      <td>0.93</td>\n      <td>0.0</td>\n      <td>7.90</td>\n      <td>0.98</td>\n    </tr>\n  </tbody>\n</table>\n</div>"
     },
     "metadata": {},
     "execution_count": 9
    }
   ],
   "source": [
    "out_of_bag  = small_df\n",
    "print(out_of_bag.shape)\n",
    "data_size_for_tree = 5\n",
    "for i in range(10):\n",
    "    training_data = small_df.sample(data_size_for_tree, replace=True)\n",
    "    out_of_bag = out_of_bag[~out_of_bag.index.isin(training_data.index)]\n",
    "# out_of_bag[~out_of_bag.isin(training_data)].dropna()\n",
    "# out_of_bag.isin(training_data.merge(training_data))\n",
    "# print(out_of_bag.size)\n",
    "print(out_of_bag.shape)\n",
    "training_data.head()"
   ]
  },
  {
   "cell_type": "code",
   "execution_count": 10,
   "metadata": {},
   "outputs": [
    {
     "output_type": "execute_result",
     "data": {
      "text/plain": "array([[1.  , 5.9 , 1.5 , 0.  , 5.74, 1.64, 0.  , 5.59, 1.62, 0.  , 5.44,\n        1.56],\n       [0.  , 5.26, 1.82, 0.  , 5.23, 1.86, 0.  , 5.21, 1.89, 1.  , 5.2 ,\n        1.2 ],\n       [0.  , 5.23, 1.86, 0.  , 5.21, 1.89, 1.  , 5.2 , 1.2 , 1.  , 5.32,\n        1.2 ],\n       [0.  , 5.21, 1.89, 1.  , 5.2 , 1.2 , 1.  , 5.32, 1.2 , 0.  , 5.44,\n        1.36],\n       [1.  , 5.32, 1.2 , 0.  , 5.44, 1.36, 1.  , 5.57, 1.24, 1.  , 5.7 ,\n        1.07],\n       [0.  , 5.3 , 1.53, 1.  , 5.39, 1.12, 0.  , 5.49, 1.26, 0.  , 5.59,\n        1.47],\n       [0.  , 5.74, 1.54, 0.  , 5.79, 1.57, 1.  , 5.84, 1.15, 1.  , 5.9 ,\n        1.  ],\n       [0.  , 5.79, 1.57, 1.  , 5.84, 1.15, 1.  , 5.9 , 1.  , 1.  , 5.99,\n        0.9 ],\n       [1.  , 5.84, 1.15, 1.  , 5.9 , 1.  , 1.  , 5.99, 0.9 , 1.  , 6.09,\n        0.84],\n       [1.  , 5.9 , 1.  , 1.  , 5.99, 0.9 , 1.  , 6.09, 0.84, 1.  , 6.19,\n        0.79],\n       [1.  , 6.09, 0.84, 1.  , 6.19, 0.79, 1.  , 6.3 , 0.73, 1.  , 6.55,\n        0.69],\n       [1.  , 6.19, 0.79, 1.  , 6.3 , 0.73, 1.  , 6.55, 0.69, 1.  , 6.81,\n        0.64],\n       [1.  , 7.06, 0.6 , 0.  , 7.3 , 0.79, 0.  , 7.29, 0.81, 0.  , 7.26,\n        0.8 ],\n       [0.  , 7.29, 0.81, 0.  , 7.26, 0.8 , 0.  , 7.23, 0.76, 0.  , 7.2 ,\n        0.77],\n       [0.  , 7.23, 0.76, 0.  , 7.2 , 0.77, 1.  , 7.3 , 0.67, 1.  , 7.41,\n        0.52],\n       [0.  , 7.2 , 0.77, 1.  , 7.3 , 0.67, 1.  , 7.41, 0.52, 0.  , 7.51,\n        0.69],\n       [1.  , 7.3 , 0.67, 1.  , 7.41, 0.52, 0.  , 7.51, 0.69, 1.  , 7.6 ,\n        0.6 ],\n       [1.  , 7.71, 0.45, 1.  , 7.82, 0.41, 1.  , 7.91, 0.37, 0.  , 8.  ,\n        0.57],\n       [0.  , 8.  , 0.57, 0.  , 7.99, 0.59, 0.  , 7.97, 0.84, 0.  , 7.94,\n        0.93]])"
     },
     "metadata": {},
     "execution_count": 10
    }
   ],
   "source": [
    "out_of_bag.values\n"
   ]
  },
  {
   "cell_type": "code",
   "execution_count": 11,
   "metadata": {},
   "outputs": [
    {
     "output_type": "error",
     "ename": "NameError",
     "evalue": "name 'forest' is not defined",
     "traceback": [
      "\u001b[1;31m---------------------------------------------------------------------------\u001b[0m",
      "\u001b[1;31mNameError\u001b[0m                                 Traceback (most recent call last)",
      "\u001b[1;32m<ipython-input-11-6bbf99e7a05c>\u001b[0m in \u001b[0;36m<module>\u001b[1;34m\u001b[0m\n\u001b[1;32m----> 1\u001b[1;33m \u001b[0mprint\u001b[0m\u001b[1;33m(\u001b[0m\u001b[0mforest\u001b[0m\u001b[1;33m.\u001b[0m\u001b[0mout_of_bag\u001b[0m\u001b[1;33m.\u001b[0m\u001b[0mshape\u001b[0m\u001b[1;33m)\u001b[0m\u001b[1;33m\u001b[0m\u001b[1;33m\u001b[0m\u001b[0m\n\u001b[0m\u001b[0;32m      2\u001b[0m \u001b[0mtest\u001b[0m \u001b[1;33m=\u001b[0m \u001b[0mforest\u001b[0m\u001b[1;33m.\u001b[0m\u001b[0mout_of_bag\u001b[0m\u001b[1;33m.\u001b[0m\u001b[0miloc\u001b[0m\u001b[1;33m[\u001b[0m\u001b[1;36m0\u001b[0m\u001b[1;33m]\u001b[0m\u001b[1;33m.\u001b[0m\u001b[0mvalues\u001b[0m\u001b[1;33m\u001b[0m\u001b[1;33m\u001b[0m\u001b[0m\n\u001b[0;32m      3\u001b[0m \u001b[0mprint\u001b[0m\u001b[1;33m(\u001b[0m\u001b[0mtest\u001b[0m\u001b[1;33m)\u001b[0m\u001b[1;33m\u001b[0m\u001b[1;33m\u001b[0m\u001b[0m\n\u001b[0;32m      4\u001b[0m \u001b[0mprint\u001b[0m\u001b[1;33m(\u001b[0m\u001b[0mforest\u001b[0m\u001b[1;33m.\u001b[0m\u001b[0mpredict\u001b[0m\u001b[1;33m(\u001b[0m\u001b[0mtest\u001b[0m\u001b[1;33m[\u001b[0m\u001b[1;33m:\u001b[0m\u001b[1;33m-\u001b[0m\u001b[1;36m1\u001b[0m\u001b[1;33m]\u001b[0m\u001b[1;33m)\u001b[0m\u001b[1;33m)\u001b[0m\u001b[1;33m\u001b[0m\u001b[1;33m\u001b[0m\u001b[0m\n\u001b[0;32m      5\u001b[0m \u001b[1;31m# df.shape\u001b[0m\u001b[1;33m\u001b[0m\u001b[1;33m\u001b[0m\u001b[1;33m\u001b[0m\u001b[0m\n",
      "\u001b[1;31mNameError\u001b[0m: name 'forest' is not defined"
     ]
    }
   ],
   "source": [
    "print(forest.out_of_bag.shape)\n",
    "test = forest.out_of_bag.iloc[0].values\n",
    "print(test)\n",
    "print(forest.predict(test[:-1]))\n",
    "# df.shape"
   ]
  },
  {
   "cell_type": "markdown",
   "metadata": {},
   "source": [
    "forest.trees[0]"
   ]
  },
  {
   "cell_type": "code",
   "execution_count": 12,
   "metadata": {},
   "outputs": [
    {
     "output_type": "execute_result",
     "data": {
      "text/plain": "        compressor  ambient_temp  refrigerator_temp  \\\ncount  2975.000000   2975.000000        2975.000000   \nmean      0.522017      6.155815          -0.841603   \nstd       0.499599      3.734449           1.336080   \nmin       0.000000     -2.000000          -3.150000   \n25%       0.000000      3.600000          -1.940000   \n50%       1.000000      5.430000          -1.060000   \n75%       1.000000      8.270000           0.155000   \nmax       1.000000     20.300000           3.910000   \n\n       ambient_refrigerator_diff  refrigerator_temp_diff  ambient_temp_diff  \ncount                2975.000000             2975.000000        2975.000000  \nmean                    6.997418                0.000188           0.001449  \nstd                     2.983292                0.128239           0.232284  \nmin                    -0.210000               -0.690000          -1.440000  \n25%                     5.080000               -0.050000          -0.110000  \n50%                     6.500000                0.000000          -0.010000  \n75%                     8.650000                0.050000           0.120000  \nmax                    17.710000                0.520000           1.570000  ",
      "text/html": "<div>\n<style scoped>\n    .dataframe tbody tr th:only-of-type {\n        vertical-align: middle;\n    }\n\n    .dataframe tbody tr th {\n        vertical-align: top;\n    }\n\n    .dataframe thead th {\n        text-align: right;\n    }\n</style>\n<table border=\"1\" class=\"dataframe\">\n  <thead>\n    <tr style=\"text-align: right;\">\n      <th></th>\n      <th>compressor</th>\n      <th>ambient_temp</th>\n      <th>refrigerator_temp</th>\n      <th>ambient_refrigerator_diff</th>\n      <th>refrigerator_temp_diff</th>\n      <th>ambient_temp_diff</th>\n    </tr>\n  </thead>\n  <tbody>\n    <tr>\n      <th>count</th>\n      <td>2975.000000</td>\n      <td>2975.000000</td>\n      <td>2975.000000</td>\n      <td>2975.000000</td>\n      <td>2975.000000</td>\n      <td>2975.000000</td>\n    </tr>\n    <tr>\n      <th>mean</th>\n      <td>0.522017</td>\n      <td>6.155815</td>\n      <td>-0.841603</td>\n      <td>6.997418</td>\n      <td>0.000188</td>\n      <td>0.001449</td>\n    </tr>\n    <tr>\n      <th>std</th>\n      <td>0.499599</td>\n      <td>3.734449</td>\n      <td>1.336080</td>\n      <td>2.983292</td>\n      <td>0.128239</td>\n      <td>0.232284</td>\n    </tr>\n    <tr>\n      <th>min</th>\n      <td>0.000000</td>\n      <td>-2.000000</td>\n      <td>-3.150000</td>\n      <td>-0.210000</td>\n      <td>-0.690000</td>\n      <td>-1.440000</td>\n    </tr>\n    <tr>\n      <th>25%</th>\n      <td>0.000000</td>\n      <td>3.600000</td>\n      <td>-1.940000</td>\n      <td>5.080000</td>\n      <td>-0.050000</td>\n      <td>-0.110000</td>\n    </tr>\n    <tr>\n      <th>50%</th>\n      <td>1.000000</td>\n      <td>5.430000</td>\n      <td>-1.060000</td>\n      <td>6.500000</td>\n      <td>0.000000</td>\n      <td>-0.010000</td>\n    </tr>\n    <tr>\n      <th>75%</th>\n      <td>1.000000</td>\n      <td>8.270000</td>\n      <td>0.155000</td>\n      <td>8.650000</td>\n      <td>0.050000</td>\n      <td>0.120000</td>\n    </tr>\n    <tr>\n      <th>max</th>\n      <td>1.000000</td>\n      <td>20.300000</td>\n      <td>3.910000</td>\n      <td>17.710000</td>\n      <td>0.520000</td>\n      <td>1.570000</td>\n    </tr>\n  </tbody>\n</table>\n</div>"
     },
     "metadata": {},
     "execution_count": 12
    }
   ],
   "source": [
    "df[\"ambient_refrigerator_diff\"] = df[\"ambient_temp\"] - df[\"refrigerator_temp\"]\n",
    "df_diff = df.diff().rename(columns={\"refrigerator_temp\": \"refrigerator_temp_diff\", \"ambient_temp\": \"ambient_temp_diff\"}).loc[:, [\"refrigerator_temp_diff\",\"ambient_temp_diff\"]]\n",
    "frames = [df, df_diff]\n",
    "df = pd.concat(frames, axis=1).dropna()\n",
    "df.describe()"
   ]
  },
  {
   "cell_type": "code",
   "execution_count": 13,
   "metadata": {},
   "outputs": [
    {
     "output_type": "execute_result",
     "data": {
      "text/plain": "      compressor  ambient_temp  refrigerator_temp  ambient_refrigerator_diff  \\\ntime                                                                           \n15             0          6.35               2.18                       4.17   \n30             0          6.20               2.19                       4.01   \n45             1          6.05               1.68                       4.37   \n60             1          5.90               1.50                       4.40   \n75             0          5.74               1.64                       4.10   \n\n      refrigerator_temp_diff  ambient_temp_diff  compressor  ambient_temp  \\\ntime                                                                        \n15                      0.18              -0.15         0.0          6.20   \n30                      0.01              -0.15         1.0          6.05   \n45                     -0.51              -0.15         1.0          5.90   \n60                     -0.18              -0.15         0.0          5.74   \n75                      0.14              -0.16         0.0          5.59   \n\n      refrigerator_temp  ambient_refrigerator_diff  refrigerator_temp_diff  \\\ntime                                                                         \n15                 2.19                       4.01                    0.01   \n30                 1.68                       4.37                   -0.51   \n45                 1.50                       4.40                   -0.18   \n60                 1.64                       4.10                    0.14   \n75                 1.62                       3.97                   -0.02   \n\n      ambient_temp_diff  compressor  ambient_temp  refrigerator_temp  \\\ntime                                                                   \n15                -0.15         1.0          6.05               1.68   \n30                -0.15         1.0          5.90               1.50   \n45                -0.15         0.0          5.74               1.64   \n60                -0.16         0.0          5.59               1.62   \n75                -0.15         0.0          5.44               1.56   \n\n      ambient_refrigerator_diff  refrigerator_temp_diff  ambient_temp_diff  \ntime                                                                        \n15                         4.37                   -0.51              -0.15  \n30                         4.40                   -0.18              -0.15  \n45                         4.10                    0.14              -0.16  \n60                         3.97                   -0.02              -0.15  \n75                         3.88                   -0.06              -0.15  ",
      "text/html": "<div>\n<style scoped>\n    .dataframe tbody tr th:only-of-type {\n        vertical-align: middle;\n    }\n\n    .dataframe tbody tr th {\n        vertical-align: top;\n    }\n\n    .dataframe thead th {\n        text-align: right;\n    }\n</style>\n<table border=\"1\" class=\"dataframe\">\n  <thead>\n    <tr style=\"text-align: right;\">\n      <th></th>\n      <th>compressor</th>\n      <th>ambient_temp</th>\n      <th>refrigerator_temp</th>\n      <th>ambient_refrigerator_diff</th>\n      <th>refrigerator_temp_diff</th>\n      <th>ambient_temp_diff</th>\n      <th>compressor</th>\n      <th>ambient_temp</th>\n      <th>refrigerator_temp</th>\n      <th>ambient_refrigerator_diff</th>\n      <th>refrigerator_temp_diff</th>\n      <th>ambient_temp_diff</th>\n      <th>compressor</th>\n      <th>ambient_temp</th>\n      <th>refrigerator_temp</th>\n      <th>ambient_refrigerator_diff</th>\n      <th>refrigerator_temp_diff</th>\n      <th>ambient_temp_diff</th>\n    </tr>\n    <tr>\n      <th>time</th>\n      <th></th>\n      <th></th>\n      <th></th>\n      <th></th>\n      <th></th>\n      <th></th>\n      <th></th>\n      <th></th>\n      <th></th>\n      <th></th>\n      <th></th>\n      <th></th>\n      <th></th>\n      <th></th>\n      <th></th>\n      <th></th>\n      <th></th>\n      <th></th>\n    </tr>\n  </thead>\n  <tbody>\n    <tr>\n      <th>15</th>\n      <td>0</td>\n      <td>6.35</td>\n      <td>2.18</td>\n      <td>4.17</td>\n      <td>0.18</td>\n      <td>-0.15</td>\n      <td>0.0</td>\n      <td>6.20</td>\n      <td>2.19</td>\n      <td>4.01</td>\n      <td>0.01</td>\n      <td>-0.15</td>\n      <td>1.0</td>\n      <td>6.05</td>\n      <td>1.68</td>\n      <td>4.37</td>\n      <td>-0.51</td>\n      <td>-0.15</td>\n    </tr>\n    <tr>\n      <th>30</th>\n      <td>0</td>\n      <td>6.20</td>\n      <td>2.19</td>\n      <td>4.01</td>\n      <td>0.01</td>\n      <td>-0.15</td>\n      <td>1.0</td>\n      <td>6.05</td>\n      <td>1.68</td>\n      <td>4.37</td>\n      <td>-0.51</td>\n      <td>-0.15</td>\n      <td>1.0</td>\n      <td>5.90</td>\n      <td>1.50</td>\n      <td>4.40</td>\n      <td>-0.18</td>\n      <td>-0.15</td>\n    </tr>\n    <tr>\n      <th>45</th>\n      <td>1</td>\n      <td>6.05</td>\n      <td>1.68</td>\n      <td>4.37</td>\n      <td>-0.51</td>\n      <td>-0.15</td>\n      <td>1.0</td>\n      <td>5.90</td>\n      <td>1.50</td>\n      <td>4.40</td>\n      <td>-0.18</td>\n      <td>-0.15</td>\n      <td>0.0</td>\n      <td>5.74</td>\n      <td>1.64</td>\n      <td>4.10</td>\n      <td>0.14</td>\n      <td>-0.16</td>\n    </tr>\n    <tr>\n      <th>60</th>\n      <td>1</td>\n      <td>5.90</td>\n      <td>1.50</td>\n      <td>4.40</td>\n      <td>-0.18</td>\n      <td>-0.15</td>\n      <td>0.0</td>\n      <td>5.74</td>\n      <td>1.64</td>\n      <td>4.10</td>\n      <td>0.14</td>\n      <td>-0.16</td>\n      <td>0.0</td>\n      <td>5.59</td>\n      <td>1.62</td>\n      <td>3.97</td>\n      <td>-0.02</td>\n      <td>-0.15</td>\n    </tr>\n    <tr>\n      <th>75</th>\n      <td>0</td>\n      <td>5.74</td>\n      <td>1.64</td>\n      <td>4.10</td>\n      <td>0.14</td>\n      <td>-0.16</td>\n      <td>0.0</td>\n      <td>5.59</td>\n      <td>1.62</td>\n      <td>3.97</td>\n      <td>-0.02</td>\n      <td>-0.15</td>\n      <td>0.0</td>\n      <td>5.44</td>\n      <td>1.56</td>\n      <td>3.88</td>\n      <td>-0.06</td>\n      <td>-0.15</td>\n    </tr>\n  </tbody>\n</table>\n</div>"
     },
     "metadata": {},
     "execution_count": 13
    }
   ],
   "source": [
    "delay = 3\n",
    "frames = [df.shift(-t) for t in range(delay)]\n",
    "# small_df = df.iloc[:40]\n",
    "delayed_df = pd.concat(frames, axis=1).dropna()\n",
    "delayed_df.head()"
   ]
  },
  {
   "cell_type": "code",
   "execution_count": 14,
   "metadata": {},
   "outputs": [
    {
     "output_type": "execute_result",
     "data": {
      "text/plain": "time\n15   -0.18\n30    0.14\n45   -0.02\n60   -0.06\n75   -0.02\nName: refrigerator_temp_diff, dtype: float64"
     },
     "metadata": {},
     "execution_count": 14
    }
   ],
   "source": [
    "to_be_predicted = delayed_df.iloc[:,-2].shift(-1)\n",
    "to_be_predicted.head()"
   ]
  },
  {
   "cell_type": "code",
   "execution_count": 15,
   "metadata": {},
   "outputs": [
    {
     "output_type": "execute_result",
     "data": {
      "text/plain": "time\n15    1.50\n30    1.64\n45    1.62\n60    1.56\n75    1.54\nName: refrigerator_temp, dtype: float64"
     },
     "metadata": {},
     "execution_count": 15
    }
   ],
   "source": [
    "actual_refrigerator_temp = delayed_df.iloc[:,-4].shift(-1)\n",
    "actual_refrigerator_temp.head()"
   ]
  },
  {
   "cell_type": "code",
   "execution_count": 16,
   "metadata": {},
   "outputs": [
    {
     "output_type": "execute_result",
     "data": {
      "text/plain": "      compressor  ambient_temp  refrigerator_temp  ambient_refrigerator_diff  \\\ntime                                                                           \n15             0          6.35               2.18                       4.17   \n30             0          6.20               2.19                       4.01   \n45             1          6.05               1.68                       4.37   \n60             1          5.90               1.50                       4.40   \n75             0          5.74               1.64                       4.10   \n\n      refrigerator_temp_diff  ambient_temp_diff  compressor  ambient_temp  \\\ntime                                                                        \n15                      0.18              -0.15         0.0          6.20   \n30                      0.01              -0.15         1.0          6.05   \n45                     -0.51              -0.15         1.0          5.90   \n60                     -0.18              -0.15         0.0          5.74   \n75                      0.14              -0.16         0.0          5.59   \n\n      refrigerator_temp  ambient_refrigerator_diff  refrigerator_temp_diff  \\\ntime                                                                         \n15                 2.19                       4.01                    0.01   \n30                 1.68                       4.37                   -0.51   \n45                 1.50                       4.40                   -0.18   \n60                 1.64                       4.10                    0.14   \n75                 1.62                       3.97                   -0.02   \n\n      ambient_temp_diff  compressor  ambient_temp  refrigerator_temp  \\\ntime                                                                   \n15                -0.15         1.0          6.05               1.68   \n30                -0.15         1.0          5.90               1.50   \n45                -0.15         0.0          5.74               1.64   \n60                -0.16         0.0          5.59               1.62   \n75                -0.15         0.0          5.44               1.56   \n\n      ambient_refrigerator_diff  refrigerator_temp_diff  ambient_temp_diff  \\\ntime                                                                         \n15                         4.37                   -0.51              -0.15   \n30                         4.40                   -0.18              -0.15   \n45                         4.10                    0.14              -0.16   \n60                         3.97                   -0.02              -0.15   \n75                         3.88                   -0.06              -0.15   \n\n      refrigerator_temp_diff  refrigerator_temp  \ntime                                             \n15                     -0.18               1.50  \n30                      0.14               1.64  \n45                     -0.02               1.62  \n60                     -0.06               1.56  \n75                     -0.02               1.54  ",
      "text/html": "<div>\n<style scoped>\n    .dataframe tbody tr th:only-of-type {\n        vertical-align: middle;\n    }\n\n    .dataframe tbody tr th {\n        vertical-align: top;\n    }\n\n    .dataframe thead th {\n        text-align: right;\n    }\n</style>\n<table border=\"1\" class=\"dataframe\">\n  <thead>\n    <tr style=\"text-align: right;\">\n      <th></th>\n      <th>compressor</th>\n      <th>ambient_temp</th>\n      <th>refrigerator_temp</th>\n      <th>ambient_refrigerator_diff</th>\n      <th>refrigerator_temp_diff</th>\n      <th>ambient_temp_diff</th>\n      <th>compressor</th>\n      <th>ambient_temp</th>\n      <th>refrigerator_temp</th>\n      <th>ambient_refrigerator_diff</th>\n      <th>refrigerator_temp_diff</th>\n      <th>ambient_temp_diff</th>\n      <th>compressor</th>\n      <th>ambient_temp</th>\n      <th>refrigerator_temp</th>\n      <th>ambient_refrigerator_diff</th>\n      <th>refrigerator_temp_diff</th>\n      <th>ambient_temp_diff</th>\n      <th>refrigerator_temp_diff</th>\n      <th>refrigerator_temp</th>\n    </tr>\n    <tr>\n      <th>time</th>\n      <th></th>\n      <th></th>\n      <th></th>\n      <th></th>\n      <th></th>\n      <th></th>\n      <th></th>\n      <th></th>\n      <th></th>\n      <th></th>\n      <th></th>\n      <th></th>\n      <th></th>\n      <th></th>\n      <th></th>\n      <th></th>\n      <th></th>\n      <th></th>\n      <th></th>\n      <th></th>\n    </tr>\n  </thead>\n  <tbody>\n    <tr>\n      <th>15</th>\n      <td>0</td>\n      <td>6.35</td>\n      <td>2.18</td>\n      <td>4.17</td>\n      <td>0.18</td>\n      <td>-0.15</td>\n      <td>0.0</td>\n      <td>6.20</td>\n      <td>2.19</td>\n      <td>4.01</td>\n      <td>0.01</td>\n      <td>-0.15</td>\n      <td>1.0</td>\n      <td>6.05</td>\n      <td>1.68</td>\n      <td>4.37</td>\n      <td>-0.51</td>\n      <td>-0.15</td>\n      <td>-0.18</td>\n      <td>1.50</td>\n    </tr>\n    <tr>\n      <th>30</th>\n      <td>0</td>\n      <td>6.20</td>\n      <td>2.19</td>\n      <td>4.01</td>\n      <td>0.01</td>\n      <td>-0.15</td>\n      <td>1.0</td>\n      <td>6.05</td>\n      <td>1.68</td>\n      <td>4.37</td>\n      <td>-0.51</td>\n      <td>-0.15</td>\n      <td>1.0</td>\n      <td>5.90</td>\n      <td>1.50</td>\n      <td>4.40</td>\n      <td>-0.18</td>\n      <td>-0.15</td>\n      <td>0.14</td>\n      <td>1.64</td>\n    </tr>\n    <tr>\n      <th>45</th>\n      <td>1</td>\n      <td>6.05</td>\n      <td>1.68</td>\n      <td>4.37</td>\n      <td>-0.51</td>\n      <td>-0.15</td>\n      <td>1.0</td>\n      <td>5.90</td>\n      <td>1.50</td>\n      <td>4.40</td>\n      <td>-0.18</td>\n      <td>-0.15</td>\n      <td>0.0</td>\n      <td>5.74</td>\n      <td>1.64</td>\n      <td>4.10</td>\n      <td>0.14</td>\n      <td>-0.16</td>\n      <td>-0.02</td>\n      <td>1.62</td>\n    </tr>\n    <tr>\n      <th>60</th>\n      <td>1</td>\n      <td>5.90</td>\n      <td>1.50</td>\n      <td>4.40</td>\n      <td>-0.18</td>\n      <td>-0.15</td>\n      <td>0.0</td>\n      <td>5.74</td>\n      <td>1.64</td>\n      <td>4.10</td>\n      <td>0.14</td>\n      <td>-0.16</td>\n      <td>0.0</td>\n      <td>5.59</td>\n      <td>1.62</td>\n      <td>3.97</td>\n      <td>-0.02</td>\n      <td>-0.15</td>\n      <td>-0.06</td>\n      <td>1.56</td>\n    </tr>\n    <tr>\n      <th>75</th>\n      <td>0</td>\n      <td>5.74</td>\n      <td>1.64</td>\n      <td>4.10</td>\n      <td>0.14</td>\n      <td>-0.16</td>\n      <td>0.0</td>\n      <td>5.59</td>\n      <td>1.62</td>\n      <td>3.97</td>\n      <td>-0.02</td>\n      <td>-0.15</td>\n      <td>0.0</td>\n      <td>5.44</td>\n      <td>1.56</td>\n      <td>3.88</td>\n      <td>-0.06</td>\n      <td>-0.15</td>\n      <td>-0.02</td>\n      <td>1.54</td>\n    </tr>\n  </tbody>\n</table>\n</div>"
     },
     "metadata": {},
     "execution_count": 16
    }
   ],
   "source": [
    "final_df = pd.concat([delayed_df, to_be_predicted, actual_refrigerator_temp], axis=1).dropna()\n",
    "final_df.head()"
   ]
  },
  {
   "cell_type": "code",
   "execution_count": 17,
   "metadata": {},
   "outputs": [
    {
     "output_type": "execute_result",
     "data": {
      "text/plain": "(2872, 19)"
     },
     "metadata": {},
     "execution_count": 17
    }
   ],
   "source": [
    "\n",
    "training_data = final_df.iloc[:-100, :-1]\n",
    "test_data = final_df.iloc[-100:, :]\n",
    "training_data.shape"
   ]
  },
  {
   "cell_type": "code",
   "execution_count": 18,
   "metadata": {},
   "outputs": [],
   "source": [
    "import random_forest\n",
    "from random_forest.forest import Forest\n",
    "\n",
    "random_forest.tree.config.create_config(min_split_size=30, number_of_predictors_to_draw=15)\n",
    "random_forest.forest.config.create_config(data_size_for_tree=200, number_of_trees=100)\n",
    "\n",
    "forest = Forest(training_data)"
   ]
  },
  {
   "cell_type": "code",
   "execution_count": 19,
   "metadata": {},
   "outputs": [
    {
     "output_type": "execute_result",
     "data": {
      "text/plain": "(1, 19)"
     },
     "metadata": {},
     "execution_count": 19
    }
   ],
   "source": [
    "test_data.iloc[:, -6]\n",
    "forest.out_of_bag.shape"
   ]
  },
  {
   "cell_type": "code",
   "execution_count": 20,
   "metadata": {
    "tags": []
   },
   "outputs": [
    {
     "output_type": "stream",
     "name": "stdout",
     "text": "test mean error 0.12449812426648155%\nNaive mean error 0.11790000000000006%\n"
    }
   ],
   "source": [
    "prediction_err_sum = 0\n",
    "actual_value = 0\n",
    "naive_err_sum = 0\n",
    "for test in test_data.values:\n",
    "    previous_temp = test[-6]\n",
    "    actual_value = test[-1]\n",
    "    prediction_err_sum += abs(((forest.predict(test[:-2]) + previous_temp) - actual_value))\n",
    "    naive_err_sum += abs((previous_temp - actual_value))\n",
    "\n",
    "# out_of_bag_size = forest.out_of_bag.shape[0]\n",
    "print(f\"test mean error {(prediction_err_sum/test_data.shape[0])}%\")\n",
    "print(f\"Naive mean error {(naive_err_sum/test_data.shape[0])}%\")"
   ]
  },
  {
   "cell_type": "code",
   "execution_count": 21,
   "metadata": {},
   "outputs": [
    {
     "output_type": "execute_result",
     "data": {
      "text/plain": "(100, 20)"
     },
     "metadata": {},
     "execution_count": 21
    }
   ],
   "source": [
    "test_data.shape"
   ]
  },
  {
   "cell_type": "code",
   "execution_count": 22,
   "metadata": {
    "tags": []
   },
   "outputs": [
    {
     "output_type": "stream",
     "name": "stdout",
     "text": "previous = 2.72 forest prediction = 2.6119051894151397 current = 2.56\n"
    }
   ],
   "source": [
    "print(f\"previous = {test[-6]} forest prediction = {forest.predict(test[:-2])+test[-6]} current = {test[-1]}\")"
   ]
  },
  {
   "cell_type": "code",
   "execution_count": 23,
   "metadata": {},
   "outputs": [
    {
     "output_type": "execute_result",
     "data": {
      "text/plain": "\n        min_split_size: 30\n        number_of_predictors_to_draw: 15\n        \n        Node:\n            if <= 17_-1.4400000000000004:\n                Leaf: -0.55\n            else:\n                \n        Node:\n            if <= 13_15.03:\n                \n        Node:\n            if <= 5_-0.3800000000000008:\n                Leaf: 0.1425\n            else:\n                \n        Node:\n            if <= 16_0.31000000000000005:\n                \n        Node:\n            if <= 4_0.19999999999999973:\n                \n        Node:\n            if <= 10_0.040000000000000036:\n                \n        Node:\n            if <= 7_4.98:\n                \n        Node:\n            if <= 11_0.08000000000000007:\n                \n        Node:\n            if <= 14_-0.48:\n                \n        Node:\n            if <= 7_3.55:\n                Leaf: -0.04461538461538454\n            else:\n                Leaf: -0.08583333333333336  \n        \n            else:\n                Leaf: 0.01833333333333334  \n        \n            else:\n                Leaf: 0.025294117647058807  \n        \n            else:\n                \n        Node:\n            if <= 17_-0.11000000000000032:\n                Leaf: -0.005384615384615392\n            else:\n                \n        Node:\n            if <= 11_-0.02999999999999936:\n                Leaf: 0.11249999999999999\n            else:\n                \n        Node:\n            if <= 5_0.16000000000000014:\n                Leaf: -0.009047619047619056\n            else:\n                Leaf: 0.060000000000000005  \n          \n          \n          \n        \n            else:\n                \n        Node:\n            if <= 4_0.05999999999999994:\n                \n        Node:\n            if <= 17_-0.05000000000000071:\n                Leaf: 0.022307692307692324\n            else:\n                Leaf: -0.05199999999999999  \n        \n            else:\n                Leaf: -0.165  \n          \n        \n            else:\n                Leaf: 0.09666666666666664  \n        \n            else:\n                Leaf: -0.37  \n          \n        \n            else:\n                Leaf: 0.3599999999999999  \n          \n        \n        "
     },
     "metadata": {},
     "execution_count": 23
    }
   ],
   "source": [
    "forest.trees[0]"
   ]
  },
  {
   "cell_type": "code",
   "execution_count": 24,
   "metadata": {},
   "outputs": [
    {
     "output_type": "error",
     "ename": "IndexError",
     "evalue": "index 21 is out of bounds for axis 0 with size 20",
     "traceback": [
      "\u001b[1;31m---------------------------------------------------------------------------\u001b[0m",
      "\u001b[1;31mIndexError\u001b[0m                                Traceback (most recent call last)",
      "\u001b[1;32m<ipython-input-24-d58008487e13>\u001b[0m in \u001b[0;36m<module>\u001b[1;34m\u001b[0m\n\u001b[1;32m----> 1\u001b[1;33m \u001b[0mtest\u001b[0m\u001b[1;33m[\u001b[0m\u001b[1;36m21\u001b[0m\u001b[1;33m]\u001b[0m\u001b[1;33m\u001b[0m\u001b[1;33m\u001b[0m\u001b[0m\n\u001b[0m",
      "\u001b[1;31mIndexError\u001b[0m: index 21 is out of bounds for axis 0 with size 20"
     ]
    }
   ],
   "source": [
    "test[21]"
   ]
  },
  {
   "cell_type": "code",
   "execution_count": null,
   "metadata": {},
   "outputs": [],
   "source": []
  },
  {
   "cell_type": "code",
   "execution_count": 25,
   "metadata": {},
   "outputs": [
    {
     "output_type": "execute_result",
     "data": {
      "text/plain": "[<matplotlib.lines.Line2D at 0x18628dd96d0>]"
     },
     "metadata": {},
     "execution_count": 25
    },
    {
     "output_type": "display_data",
     "data": {
      "text/plain": "<Figure size 432x288 with 1 Axes>",
      "image/svg+xml": "<?xml version=\"1.0\" encoding=\"utf-8\" standalone=\"no\"?>\r\n<!DOCTYPE svg PUBLIC \"-//W3C//DTD SVG 1.1//EN\"\r\n  \"http://www.w3.org/Graphics/SVG/1.1/DTD/svg11.dtd\">\r\n<!-- Created with matplotlib (https://matplotlib.org/) -->\r\n<svg height=\"248.518125pt\" version=\"1.1\" viewBox=\"0 0 376.890367 248.518125\" width=\"376.890367pt\" xmlns=\"http://www.w3.org/2000/svg\" xmlns:xlink=\"http://www.w3.org/1999/xlink\">\r\n <defs>\r\n  <style type=\"text/css\">\r\n*{stroke-linecap:butt;stroke-linejoin:round;}\r\n  </style>\r\n </defs>\r\n <g id=\"figure_1\">\r\n  <g id=\"patch_1\">\r\n   <path d=\"M 0 248.518125 \r\nL 376.890367 248.518125 \r\nL 376.890367 0 \r\nL 0 0 \r\nz\r\n\" style=\"fill:none;\"/>\r\n  </g>\r\n  <g id=\"axes_1\">\r\n   <g id=\"patch_2\">\r\n    <path d=\"M 30.103125 224.64 \r\nL 364.903125 224.64 \r\nL 364.903125 7.2 \r\nL 30.103125 7.2 \r\nz\r\n\" style=\"fill:#ffffff;\"/>\r\n   </g>\r\n   <g id=\"matplotlib.axis_1\">\r\n    <g id=\"xtick_1\">\r\n     <g id=\"line2d_1\">\r\n      <defs>\r\n       <path d=\"M 0 0 \r\nL 0 3.5 \r\n\" id=\"m3ad9aa6693\" style=\"stroke:#000000;stroke-width:0.8;\"/>\r\n      </defs>\r\n      <g>\r\n       <use style=\"stroke:#000000;stroke-width:0.8;\" x=\"66.841968\" xlink:href=\"#m3ad9aa6693\" y=\"224.64\"/>\r\n      </g>\r\n     </g>\r\n     <g id=\"text_1\">\r\n      <!-- 43200 -->\r\n      <defs>\r\n       <path d=\"M 37.796875 64.3125 \r\nL 12.890625 25.390625 \r\nL 37.796875 25.390625 \r\nz\r\nM 35.203125 72.90625 \r\nL 47.609375 72.90625 \r\nL 47.609375 25.390625 \r\nL 58.015625 25.390625 \r\nL 58.015625 17.1875 \r\nL 47.609375 17.1875 \r\nL 47.609375 0 \r\nL 37.796875 0 \r\nL 37.796875 17.1875 \r\nL 4.890625 17.1875 \r\nL 4.890625 26.703125 \r\nz\r\n\" id=\"DejaVuSans-52\"/>\r\n       <path d=\"M 40.578125 39.3125 \r\nQ 47.65625 37.796875 51.625 33 \r\nQ 55.609375 28.21875 55.609375 21.1875 \r\nQ 55.609375 10.40625 48.1875 4.484375 \r\nQ 40.765625 -1.421875 27.09375 -1.421875 \r\nQ 22.515625 -1.421875 17.65625 -0.515625 \r\nQ 12.796875 0.390625 7.625 2.203125 \r\nL 7.625 11.71875 \r\nQ 11.71875 9.328125 16.59375 8.109375 \r\nQ 21.484375 6.890625 26.8125 6.890625 \r\nQ 36.078125 6.890625 40.9375 10.546875 \r\nQ 45.796875 14.203125 45.796875 21.1875 \r\nQ 45.796875 27.640625 41.28125 31.265625 \r\nQ 36.765625 34.90625 28.71875 34.90625 \r\nL 20.21875 34.90625 \r\nL 20.21875 43.015625 \r\nL 29.109375 43.015625 \r\nQ 36.375 43.015625 40.234375 45.921875 \r\nQ 44.09375 48.828125 44.09375 54.296875 \r\nQ 44.09375 59.90625 40.109375 62.90625 \r\nQ 36.140625 65.921875 28.71875 65.921875 \r\nQ 24.65625 65.921875 20.015625 65.03125 \r\nQ 15.375 64.15625 9.8125 62.3125 \r\nL 9.8125 71.09375 \r\nQ 15.4375 72.65625 20.34375 73.4375 \r\nQ 25.25 74.21875 29.59375 74.21875 \r\nQ 40.828125 74.21875 47.359375 69.109375 \r\nQ 53.90625 64.015625 53.90625 55.328125 \r\nQ 53.90625 49.265625 50.4375 45.09375 \r\nQ 46.96875 40.921875 40.578125 39.3125 \r\nz\r\n\" id=\"DejaVuSans-51\"/>\r\n       <path d=\"M 19.1875 8.296875 \r\nL 53.609375 8.296875 \r\nL 53.609375 0 \r\nL 7.328125 0 \r\nL 7.328125 8.296875 \r\nQ 12.9375 14.109375 22.625 23.890625 \r\nQ 32.328125 33.6875 34.8125 36.53125 \r\nQ 39.546875 41.84375 41.421875 45.53125 \r\nQ 43.3125 49.21875 43.3125 52.78125 \r\nQ 43.3125 58.59375 39.234375 62.25 \r\nQ 35.15625 65.921875 28.609375 65.921875 \r\nQ 23.96875 65.921875 18.8125 64.3125 \r\nQ 13.671875 62.703125 7.8125 59.421875 \r\nL 7.8125 69.390625 \r\nQ 13.765625 71.78125 18.9375 73 \r\nQ 24.125 74.21875 28.421875 74.21875 \r\nQ 39.75 74.21875 46.484375 68.546875 \r\nQ 53.21875 62.890625 53.21875 53.421875 \r\nQ 53.21875 48.921875 51.53125 44.890625 \r\nQ 49.859375 40.875 45.40625 35.40625 \r\nQ 44.1875 33.984375 37.640625 27.21875 \r\nQ 31.109375 20.453125 19.1875 8.296875 \r\nz\r\n\" id=\"DejaVuSans-50\"/>\r\n       <path d=\"M 31.78125 66.40625 \r\nQ 24.171875 66.40625 20.328125 58.90625 \r\nQ 16.5 51.421875 16.5 36.375 \r\nQ 16.5 21.390625 20.328125 13.890625 \r\nQ 24.171875 6.390625 31.78125 6.390625 \r\nQ 39.453125 6.390625 43.28125 13.890625 \r\nQ 47.125 21.390625 47.125 36.375 \r\nQ 47.125 51.421875 43.28125 58.90625 \r\nQ 39.453125 66.40625 31.78125 66.40625 \r\nz\r\nM 31.78125 74.21875 \r\nQ 44.046875 74.21875 50.515625 64.515625 \r\nQ 56.984375 54.828125 56.984375 36.375 \r\nQ 56.984375 17.96875 50.515625 8.265625 \r\nQ 44.046875 -1.421875 31.78125 -1.421875 \r\nQ 19.53125 -1.421875 13.0625 8.265625 \r\nQ 6.59375 17.96875 6.59375 36.375 \r\nQ 6.59375 54.828125 13.0625 64.515625 \r\nQ 19.53125 74.21875 31.78125 74.21875 \r\nz\r\n\" id=\"DejaVuSans-48\"/>\r\n      </defs>\r\n      <g transform=\"translate(50.935718 239.238437)scale(0.1 -0.1)\">\r\n       <use xlink:href=\"#DejaVuSans-52\"/>\r\n       <use x=\"63.623047\" xlink:href=\"#DejaVuSans-51\"/>\r\n       <use x=\"127.246094\" xlink:href=\"#DejaVuSans-50\"/>\r\n       <use x=\"190.869141\" xlink:href=\"#DejaVuSans-48\"/>\r\n       <use x=\"254.492188\" xlink:href=\"#DejaVuSans-48\"/>\r\n      </g>\r\n     </g>\r\n    </g>\r\n    <g id=\"xtick_2\">\r\n     <g id=\"line2d_2\">\r\n      <g>\r\n       <use style=\"stroke:#000000;stroke-width:0.8;\" x=\"107.833704\" xlink:href=\"#m3ad9aa6693\" y=\"224.64\"/>\r\n      </g>\r\n     </g>\r\n     <g id=\"text_2\">\r\n      <!-- 43400 -->\r\n      <g transform=\"translate(91.927454 239.238437)scale(0.1 -0.1)\">\r\n       <use xlink:href=\"#DejaVuSans-52\"/>\r\n       <use x=\"63.623047\" xlink:href=\"#DejaVuSans-51\"/>\r\n       <use x=\"127.246094\" xlink:href=\"#DejaVuSans-52\"/>\r\n       <use x=\"190.869141\" xlink:href=\"#DejaVuSans-48\"/>\r\n       <use x=\"254.492188\" xlink:href=\"#DejaVuSans-48\"/>\r\n      </g>\r\n     </g>\r\n    </g>\r\n    <g id=\"xtick_3\">\r\n     <g id=\"line2d_3\">\r\n      <g>\r\n       <use style=\"stroke:#000000;stroke-width:0.8;\" x=\"148.825439\" xlink:href=\"#m3ad9aa6693\" y=\"224.64\"/>\r\n      </g>\r\n     </g>\r\n     <g id=\"text_3\">\r\n      <!-- 43600 -->\r\n      <defs>\r\n       <path d=\"M 33.015625 40.375 \r\nQ 26.375 40.375 22.484375 35.828125 \r\nQ 18.609375 31.296875 18.609375 23.390625 \r\nQ 18.609375 15.53125 22.484375 10.953125 \r\nQ 26.375 6.390625 33.015625 6.390625 \r\nQ 39.65625 6.390625 43.53125 10.953125 \r\nQ 47.40625 15.53125 47.40625 23.390625 \r\nQ 47.40625 31.296875 43.53125 35.828125 \r\nQ 39.65625 40.375 33.015625 40.375 \r\nz\r\nM 52.59375 71.296875 \r\nL 52.59375 62.3125 \r\nQ 48.875 64.0625 45.09375 64.984375 \r\nQ 41.3125 65.921875 37.59375 65.921875 \r\nQ 27.828125 65.921875 22.671875 59.328125 \r\nQ 17.53125 52.734375 16.796875 39.40625 \r\nQ 19.671875 43.65625 24.015625 45.921875 \r\nQ 28.375 48.1875 33.59375 48.1875 \r\nQ 44.578125 48.1875 50.953125 41.515625 \r\nQ 57.328125 34.859375 57.328125 23.390625 \r\nQ 57.328125 12.15625 50.6875 5.359375 \r\nQ 44.046875 -1.421875 33.015625 -1.421875 \r\nQ 20.359375 -1.421875 13.671875 8.265625 \r\nQ 6.984375 17.96875 6.984375 36.375 \r\nQ 6.984375 53.65625 15.1875 63.9375 \r\nQ 23.390625 74.21875 37.203125 74.21875 \r\nQ 40.921875 74.21875 44.703125 73.484375 \r\nQ 48.484375 72.75 52.59375 71.296875 \r\nz\r\n\" id=\"DejaVuSans-54\"/>\r\n      </defs>\r\n      <g transform=\"translate(132.919189 239.238437)scale(0.1 -0.1)\">\r\n       <use xlink:href=\"#DejaVuSans-52\"/>\r\n       <use x=\"63.623047\" xlink:href=\"#DejaVuSans-51\"/>\r\n       <use x=\"127.246094\" xlink:href=\"#DejaVuSans-54\"/>\r\n       <use x=\"190.869141\" xlink:href=\"#DejaVuSans-48\"/>\r\n       <use x=\"254.492188\" xlink:href=\"#DejaVuSans-48\"/>\r\n      </g>\r\n     </g>\r\n    </g>\r\n    <g id=\"xtick_4\">\r\n     <g id=\"line2d_4\">\r\n      <g>\r\n       <use style=\"stroke:#000000;stroke-width:0.8;\" x=\"189.817175\" xlink:href=\"#m3ad9aa6693\" y=\"224.64\"/>\r\n      </g>\r\n     </g>\r\n     <g id=\"text_4\">\r\n      <!-- 43800 -->\r\n      <defs>\r\n       <path d=\"M 31.78125 34.625 \r\nQ 24.75 34.625 20.71875 30.859375 \r\nQ 16.703125 27.09375 16.703125 20.515625 \r\nQ 16.703125 13.921875 20.71875 10.15625 \r\nQ 24.75 6.390625 31.78125 6.390625 \r\nQ 38.8125 6.390625 42.859375 10.171875 \r\nQ 46.921875 13.96875 46.921875 20.515625 \r\nQ 46.921875 27.09375 42.890625 30.859375 \r\nQ 38.875 34.625 31.78125 34.625 \r\nz\r\nM 21.921875 38.8125 \r\nQ 15.578125 40.375 12.03125 44.71875 \r\nQ 8.5 49.078125 8.5 55.328125 \r\nQ 8.5 64.0625 14.71875 69.140625 \r\nQ 20.953125 74.21875 31.78125 74.21875 \r\nQ 42.671875 74.21875 48.875 69.140625 \r\nQ 55.078125 64.0625 55.078125 55.328125 \r\nQ 55.078125 49.078125 51.53125 44.71875 \r\nQ 48 40.375 41.703125 38.8125 \r\nQ 48.828125 37.15625 52.796875 32.3125 \r\nQ 56.78125 27.484375 56.78125 20.515625 \r\nQ 56.78125 9.90625 50.3125 4.234375 \r\nQ 43.84375 -1.421875 31.78125 -1.421875 \r\nQ 19.734375 -1.421875 13.25 4.234375 \r\nQ 6.78125 9.90625 6.78125 20.515625 \r\nQ 6.78125 27.484375 10.78125 32.3125 \r\nQ 14.796875 37.15625 21.921875 38.8125 \r\nz\r\nM 18.3125 54.390625 \r\nQ 18.3125 48.734375 21.84375 45.5625 \r\nQ 25.390625 42.390625 31.78125 42.390625 \r\nQ 38.140625 42.390625 41.71875 45.5625 \r\nQ 45.3125 48.734375 45.3125 54.390625 \r\nQ 45.3125 60.0625 41.71875 63.234375 \r\nQ 38.140625 66.40625 31.78125 66.40625 \r\nQ 25.390625 66.40625 21.84375 63.234375 \r\nQ 18.3125 60.0625 18.3125 54.390625 \r\nz\r\n\" id=\"DejaVuSans-56\"/>\r\n      </defs>\r\n      <g transform=\"translate(173.910925 239.238437)scale(0.1 -0.1)\">\r\n       <use xlink:href=\"#DejaVuSans-52\"/>\r\n       <use x=\"63.623047\" xlink:href=\"#DejaVuSans-51\"/>\r\n       <use x=\"127.246094\" xlink:href=\"#DejaVuSans-56\"/>\r\n       <use x=\"190.869141\" xlink:href=\"#DejaVuSans-48\"/>\r\n       <use x=\"254.492188\" xlink:href=\"#DejaVuSans-48\"/>\r\n      </g>\r\n     </g>\r\n    </g>\r\n    <g id=\"xtick_5\">\r\n     <g id=\"line2d_5\">\r\n      <g>\r\n       <use style=\"stroke:#000000;stroke-width:0.8;\" x=\"230.80891\" xlink:href=\"#m3ad9aa6693\" y=\"224.64\"/>\r\n      </g>\r\n     </g>\r\n     <g id=\"text_5\">\r\n      <!-- 44000 -->\r\n      <g transform=\"translate(214.90266 239.238437)scale(0.1 -0.1)\">\r\n       <use xlink:href=\"#DejaVuSans-52\"/>\r\n       <use x=\"63.623047\" xlink:href=\"#DejaVuSans-52\"/>\r\n       <use x=\"127.246094\" xlink:href=\"#DejaVuSans-48\"/>\r\n       <use x=\"190.869141\" xlink:href=\"#DejaVuSans-48\"/>\r\n       <use x=\"254.492188\" xlink:href=\"#DejaVuSans-48\"/>\r\n      </g>\r\n     </g>\r\n    </g>\r\n    <g id=\"xtick_6\">\r\n     <g id=\"line2d_6\">\r\n      <g>\r\n       <use style=\"stroke:#000000;stroke-width:0.8;\" x=\"271.800646\" xlink:href=\"#m3ad9aa6693\" y=\"224.64\"/>\r\n      </g>\r\n     </g>\r\n     <g id=\"text_6\">\r\n      <!-- 44200 -->\r\n      <g transform=\"translate(255.894396 239.238437)scale(0.1 -0.1)\">\r\n       <use xlink:href=\"#DejaVuSans-52\"/>\r\n       <use x=\"63.623047\" xlink:href=\"#DejaVuSans-52\"/>\r\n       <use x=\"127.246094\" xlink:href=\"#DejaVuSans-50\"/>\r\n       <use x=\"190.869141\" xlink:href=\"#DejaVuSans-48\"/>\r\n       <use x=\"254.492188\" xlink:href=\"#DejaVuSans-48\"/>\r\n      </g>\r\n     </g>\r\n    </g>\r\n    <g id=\"xtick_7\">\r\n     <g id=\"line2d_7\">\r\n      <g>\r\n       <use style=\"stroke:#000000;stroke-width:0.8;\" x=\"312.792381\" xlink:href=\"#m3ad9aa6693\" y=\"224.64\"/>\r\n      </g>\r\n     </g>\r\n     <g id=\"text_7\">\r\n      <!-- 44400 -->\r\n      <g transform=\"translate(296.886131 239.238437)scale(0.1 -0.1)\">\r\n       <use xlink:href=\"#DejaVuSans-52\"/>\r\n       <use x=\"63.623047\" xlink:href=\"#DejaVuSans-52\"/>\r\n       <use x=\"127.246094\" xlink:href=\"#DejaVuSans-52\"/>\r\n       <use x=\"190.869141\" xlink:href=\"#DejaVuSans-48\"/>\r\n       <use x=\"254.492188\" xlink:href=\"#DejaVuSans-48\"/>\r\n      </g>\r\n     </g>\r\n    </g>\r\n    <g id=\"xtick_8\">\r\n     <g id=\"line2d_8\">\r\n      <g>\r\n       <use style=\"stroke:#000000;stroke-width:0.8;\" x=\"353.784117\" xlink:href=\"#m3ad9aa6693\" y=\"224.64\"/>\r\n      </g>\r\n     </g>\r\n     <g id=\"text_8\">\r\n      <!-- 44600 -->\r\n      <g transform=\"translate(337.877867 239.238437)scale(0.1 -0.1)\">\r\n       <use xlink:href=\"#DejaVuSans-52\"/>\r\n       <use x=\"63.623047\" xlink:href=\"#DejaVuSans-52\"/>\r\n       <use x=\"127.246094\" xlink:href=\"#DejaVuSans-54\"/>\r\n       <use x=\"190.869141\" xlink:href=\"#DejaVuSans-48\"/>\r\n       <use x=\"254.492188\" xlink:href=\"#DejaVuSans-48\"/>\r\n      </g>\r\n     </g>\r\n    </g>\r\n   </g>\r\n   <g id=\"matplotlib.axis_2\">\r\n    <g id=\"ytick_1\">\r\n     <g id=\"line2d_9\">\r\n      <defs>\r\n       <path d=\"M 0 0 \r\nL -3.5 0 \r\n\" id=\"m7eea26508c\" style=\"stroke:#000000;stroke-width:0.8;\"/>\r\n      </defs>\r\n      <g>\r\n       <use style=\"stroke:#000000;stroke-width:0.8;\" x=\"30.103125\" xlink:href=\"#m7eea26508c\" y=\"224.29553\"/>\r\n      </g>\r\n     </g>\r\n     <g id=\"text_9\">\r\n      <!-- 0.0 -->\r\n      <defs>\r\n       <path d=\"M 10.6875 12.40625 \r\nL 21 12.40625 \r\nL 21 0 \r\nL 10.6875 0 \r\nz\r\n\" id=\"DejaVuSans-46\"/>\r\n      </defs>\r\n      <g transform=\"translate(7.2 228.094749)scale(0.1 -0.1)\">\r\n       <use xlink:href=\"#DejaVuSans-48\"/>\r\n       <use x=\"63.623047\" xlink:href=\"#DejaVuSans-46\"/>\r\n       <use x=\"95.410156\" xlink:href=\"#DejaVuSans-48\"/>\r\n      </g>\r\n     </g>\r\n    </g>\r\n    <g id=\"ytick_2\">\r\n     <g id=\"line2d_10\">\r\n      <g>\r\n       <use style=\"stroke:#000000;stroke-width:0.8;\" x=\"30.103125\" xlink:href=\"#m7eea26508c\" y=\"197.797845\"/>\r\n      </g>\r\n     </g>\r\n     <g id=\"text_10\">\r\n      <!-- 0.5 -->\r\n      <defs>\r\n       <path d=\"M 10.796875 72.90625 \r\nL 49.515625 72.90625 \r\nL 49.515625 64.59375 \r\nL 19.828125 64.59375 \r\nL 19.828125 46.734375 \r\nQ 21.96875 47.46875 24.109375 47.828125 \r\nQ 26.265625 48.1875 28.421875 48.1875 \r\nQ 40.625 48.1875 47.75 41.5 \r\nQ 54.890625 34.8125 54.890625 23.390625 \r\nQ 54.890625 11.625 47.5625 5.09375 \r\nQ 40.234375 -1.421875 26.90625 -1.421875 \r\nQ 22.3125 -1.421875 17.546875 -0.640625 \r\nQ 12.796875 0.140625 7.71875 1.703125 \r\nL 7.71875 11.625 \r\nQ 12.109375 9.234375 16.796875 8.0625 \r\nQ 21.484375 6.890625 26.703125 6.890625 \r\nQ 35.15625 6.890625 40.078125 11.328125 \r\nQ 45.015625 15.765625 45.015625 23.390625 \r\nQ 45.015625 31 40.078125 35.4375 \r\nQ 35.15625 39.890625 26.703125 39.890625 \r\nQ 22.75 39.890625 18.8125 39.015625 \r\nQ 14.890625 38.140625 10.796875 36.28125 \r\nz\r\n\" id=\"DejaVuSans-53\"/>\r\n      </defs>\r\n      <g transform=\"translate(7.2 201.597064)scale(0.1 -0.1)\">\r\n       <use xlink:href=\"#DejaVuSans-48\"/>\r\n       <use x=\"63.623047\" xlink:href=\"#DejaVuSans-46\"/>\r\n       <use x=\"95.410156\" xlink:href=\"#DejaVuSans-53\"/>\r\n      </g>\r\n     </g>\r\n    </g>\r\n    <g id=\"ytick_3\">\r\n     <g id=\"line2d_11\">\r\n      <g>\r\n       <use style=\"stroke:#000000;stroke-width:0.8;\" x=\"30.103125\" xlink:href=\"#m7eea26508c\" y=\"171.300161\"/>\r\n      </g>\r\n     </g>\r\n     <g id=\"text_11\">\r\n      <!-- 1.0 -->\r\n      <defs>\r\n       <path d=\"M 12.40625 8.296875 \r\nL 28.515625 8.296875 \r\nL 28.515625 63.921875 \r\nL 10.984375 60.40625 \r\nL 10.984375 69.390625 \r\nL 28.421875 72.90625 \r\nL 38.28125 72.90625 \r\nL 38.28125 8.296875 \r\nL 54.390625 8.296875 \r\nL 54.390625 0 \r\nL 12.40625 0 \r\nz\r\n\" id=\"DejaVuSans-49\"/>\r\n      </defs>\r\n      <g transform=\"translate(7.2 175.09938)scale(0.1 -0.1)\">\r\n       <use xlink:href=\"#DejaVuSans-49\"/>\r\n       <use x=\"63.623047\" xlink:href=\"#DejaVuSans-46\"/>\r\n       <use x=\"95.410156\" xlink:href=\"#DejaVuSans-48\"/>\r\n      </g>\r\n     </g>\r\n    </g>\r\n    <g id=\"ytick_4\">\r\n     <g id=\"line2d_12\">\r\n      <g>\r\n       <use style=\"stroke:#000000;stroke-width:0.8;\" x=\"30.103125\" xlink:href=\"#m7eea26508c\" y=\"144.802476\"/>\r\n      </g>\r\n     </g>\r\n     <g id=\"text_12\">\r\n      <!-- 1.5 -->\r\n      <g transform=\"translate(7.2 148.601695)scale(0.1 -0.1)\">\r\n       <use xlink:href=\"#DejaVuSans-49\"/>\r\n       <use x=\"63.623047\" xlink:href=\"#DejaVuSans-46\"/>\r\n       <use x=\"95.410156\" xlink:href=\"#DejaVuSans-53\"/>\r\n      </g>\r\n     </g>\r\n    </g>\r\n    <g id=\"ytick_5\">\r\n     <g id=\"line2d_13\">\r\n      <g>\r\n       <use style=\"stroke:#000000;stroke-width:0.8;\" x=\"30.103125\" xlink:href=\"#m7eea26508c\" y=\"118.304792\"/>\r\n      </g>\r\n     </g>\r\n     <g id=\"text_13\">\r\n      <!-- 2.0 -->\r\n      <g transform=\"translate(7.2 122.10401)scale(0.1 -0.1)\">\r\n       <use xlink:href=\"#DejaVuSans-50\"/>\r\n       <use x=\"63.623047\" xlink:href=\"#DejaVuSans-46\"/>\r\n       <use x=\"95.410156\" xlink:href=\"#DejaVuSans-48\"/>\r\n      </g>\r\n     </g>\r\n    </g>\r\n    <g id=\"ytick_6\">\r\n     <g id=\"line2d_14\">\r\n      <g>\r\n       <use style=\"stroke:#000000;stroke-width:0.8;\" x=\"30.103125\" xlink:href=\"#m7eea26508c\" y=\"91.807107\"/>\r\n      </g>\r\n     </g>\r\n     <g id=\"text_14\">\r\n      <!-- 2.5 -->\r\n      <g transform=\"translate(7.2 95.606326)scale(0.1 -0.1)\">\r\n       <use xlink:href=\"#DejaVuSans-50\"/>\r\n       <use x=\"63.623047\" xlink:href=\"#DejaVuSans-46\"/>\r\n       <use x=\"95.410156\" xlink:href=\"#DejaVuSans-53\"/>\r\n      </g>\r\n     </g>\r\n    </g>\r\n    <g id=\"ytick_7\">\r\n     <g id=\"line2d_15\">\r\n      <g>\r\n       <use style=\"stroke:#000000;stroke-width:0.8;\" x=\"30.103125\" xlink:href=\"#m7eea26508c\" y=\"65.309422\"/>\r\n      </g>\r\n     </g>\r\n     <g id=\"text_15\">\r\n      <!-- 3.0 -->\r\n      <g transform=\"translate(7.2 69.108641)scale(0.1 -0.1)\">\r\n       <use xlink:href=\"#DejaVuSans-51\"/>\r\n       <use x=\"63.623047\" xlink:href=\"#DejaVuSans-46\"/>\r\n       <use x=\"95.410156\" xlink:href=\"#DejaVuSans-48\"/>\r\n      </g>\r\n     </g>\r\n    </g>\r\n    <g id=\"ytick_8\">\r\n     <g id=\"line2d_16\">\r\n      <g>\r\n       <use style=\"stroke:#000000;stroke-width:0.8;\" x=\"30.103125\" xlink:href=\"#m7eea26508c\" y=\"38.811738\"/>\r\n      </g>\r\n     </g>\r\n     <g id=\"text_16\">\r\n      <!-- 3.5 -->\r\n      <g transform=\"translate(7.2 42.610957)scale(0.1 -0.1)\">\r\n       <use xlink:href=\"#DejaVuSans-51\"/>\r\n       <use x=\"63.623047\" xlink:href=\"#DejaVuSans-46\"/>\r\n       <use x=\"95.410156\" xlink:href=\"#DejaVuSans-53\"/>\r\n      </g>\r\n     </g>\r\n    </g>\r\n    <g id=\"ytick_9\">\r\n     <g id=\"line2d_17\">\r\n      <g>\r\n       <use style=\"stroke:#000000;stroke-width:0.8;\" x=\"30.103125\" xlink:href=\"#m7eea26508c\" y=\"12.314053\"/>\r\n      </g>\r\n     </g>\r\n     <g id=\"text_17\">\r\n      <!-- 4.0 -->\r\n      <g transform=\"translate(7.2 16.113272)scale(0.1 -0.1)\">\r\n       <use xlink:href=\"#DejaVuSans-52\"/>\r\n       <use x=\"63.623047\" xlink:href=\"#DejaVuSans-46\"/>\r\n       <use x=\"95.410156\" xlink:href=\"#DejaVuSans-48\"/>\r\n      </g>\r\n     </g>\r\n    </g>\r\n   </g>\r\n   <g id=\"line2d_18\">\r\n    <path clip-path=\"url(#p8258359f8b)\" d=\"M 45.321307 200.977568 \r\nL 48.395687 203.627336 \r\nL 51.470067 205.217197 \r\nL 54.544447 207.337012 \r\nL 57.618827 208.926873 \r\nL 60.693208 211.046688 \r\nL 63.767588 213.166503 \r\nL 66.841968 214.756364 \r\nL 69.916348 200.977568 \r\nL 72.990728 187.728725 \r\nL 76.065108 183.489096 \r\nL 79.139489 180.309374 \r\nL 82.213869 199.387707 \r\nL 85.288249 195.148077 \r\nL 88.362629 194.08817 \r\nL 91.437009 198.327799 \r\nL 94.511389 197.267892 \r\nL 97.58577 197.267892 \r\nL 100.66015 196.737938 \r\nL 103.73453 203.627336 \r\nL 106.80891 203.627336 \r\nL 109.88329 204.15729 \r\nL 112.95767 204.687243 \r\nL 116.032051 205.217197 \r\nL 119.106431 205.747151 \r\nL 122.180811 205.747151 \r\nL 125.255191 206.277105 \r\nL 128.329571 206.277105 \r\nL 131.403951 206.277105 \r\nL 134.478332 205.747151 \r\nL 137.552712 192.498309 \r\nL 140.627092 187.728725 \r\nL 143.701472 184.019049 \r\nL 146.775852 183.489096 \r\nL 149.850232 178.719513 \r\nL 152.924613 180.309374 \r\nL 155.998993 175.009837 \r\nL 159.073373 173.949929 \r\nL 162.147753 172.360068 \r\nL 165.222133 176.599698 \r\nL 168.296513 162.820902 \r\nL 171.370894 157.521365 \r\nL 174.445274 137.383125 \r\nL 177.519654 154.871596 \r\nL 180.594034 158.051319 \r\nL 183.668414 156.991411 \r\nL 186.742794 143.212615 \r\nL 189.817175 137.383125 \r\nL 192.891555 116.184977 \r\nL 195.965935 107.175764 \r\nL 199.040315 99.226459 \r\nL 202.114695 91.807107 \r\nL 205.189075 111.415394 \r\nL 208.263456 108.235671 \r\nL 211.337836 100.286366 \r\nL 214.412216 97.106644 \r\nL 217.486596 92.867014 \r\nL 220.560976 90.217246 \r\nL 223.635356 85.977616 \r\nL 226.709737 87.567477 \r\nL 229.784117 85.977616 \r\nL 232.858497 89.687292 \r\nL 235.932877 89.157339 \r\nL 239.007257 76.43845 \r\nL 242.081637 73.258728 \r\nL 245.156018 72.728774 \r\nL 248.230398 75.378543 \r\nL 251.304778 67.959191 \r\nL 254.379158 63.189608 \r\nL 257.453538 41.99146 \r\nL 260.527918 34.572108 \r\nL 263.602299 29.272571 \r\nL 266.676679 24.502988 \r\nL 269.751059 20.263359 \r\nL 272.825439 52.590534 \r\nL 275.899819 56.830163 \r\nL 278.974199 29.272571 \r\nL 282.04858 20.263359 \r\nL 285.12296 17.083636 \r\nL 288.19734 49.940765 \r\nL 291.27172 54.710349 \r\nL 294.3461 56.30021 \r\nL 297.42048 57.360117 \r\nL 300.494861 58.420024 \r\nL 303.569241 59.479932 \r\nL 306.643621 62.1297 \r\nL 309.718001 34.572108 \r\nL 312.792381 63.189608 \r\nL 315.866761 66.36933 \r\nL 318.941142 68.489145 \r\nL 322.015522 71.138913 \r\nL 325.089902 73.788681 \r\nL 328.164282 76.968404 \r\nL 331.238662 67.959191 \r\nL 334.313042 74.318635 \r\nL 337.387423 70.608959 \r\nL 340.461803 67.429237 \r\nL 343.536183 76.968404 \r\nL 346.610563 80.148126 \r\nL 349.684943 88.627385 \r\n\" style=\"fill:none;stroke:#1f77b4;stroke-linecap:square;stroke-width:1.5;\"/>\r\n   </g>\r\n   <g id=\"patch_3\">\r\n    <path d=\"M 30.103125 224.64 \r\nL 30.103125 7.2 \r\n\" style=\"fill:none;stroke:#000000;stroke-linecap:square;stroke-linejoin:miter;stroke-width:0.8;\"/>\r\n   </g>\r\n   <g id=\"patch_4\">\r\n    <path d=\"M 364.903125 224.64 \r\nL 364.903125 7.2 \r\n\" style=\"fill:none;stroke:#000000;stroke-linecap:square;stroke-linejoin:miter;stroke-width:0.8;\"/>\r\n   </g>\r\n   <g id=\"patch_5\">\r\n    <path d=\"M 30.103125 224.64 \r\nL 364.903125 224.64 \r\n\" style=\"fill:none;stroke:#000000;stroke-linecap:square;stroke-linejoin:miter;stroke-width:0.8;\"/>\r\n   </g>\r\n   <g id=\"patch_6\">\r\n    <path d=\"M 30.103125 7.2 \r\nL 364.903125 7.2 \r\n\" style=\"fill:none;stroke:#000000;stroke-linecap:square;stroke-linejoin:miter;stroke-width:0.8;\"/>\r\n   </g>\r\n  </g>\r\n </g>\r\n <defs>\r\n  <clipPath id=\"p8258359f8b\">\r\n   <rect height=\"217.44\" width=\"334.8\" x=\"30.103125\" y=\"7.2\"/>\r\n  </clipPath>\r\n </defs>\r\n</svg>\r\n",
      "image/png": "[encoded data removed]"
     },
     "metadata": {
      "needs_background": "light"
     }
    }
   ],
   "source": [
    "import matplotlib. pyplot as plt\n",
    "plt.plot(test_data.iloc[:,-1])"
   ]
  }
 ],
 "metadata": {
  "kernelspec": {
   "display_name": "Python 3.8.2 64-bit ('env': venv)",
   "language": "python",
   "name": "python38264bitenvvenv143f3d7cb84140ac993f36096aed9a8e"
  },
  "language_info": {
   "codemirror_mode": {
    "name": "ipython",
    "version": 3
   },
   "file_extension": ".py",
   "mimetype": "text/x-python",
   "name": "python",
   "nbconvert_exporter": "python",
   "pygments_lexer": "ipython3",
   "version": "3.8.2-final"
  }
 },
 "nbformat": 4,
 "nbformat_minor": 4
}